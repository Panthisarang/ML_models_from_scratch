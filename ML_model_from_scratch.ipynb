{
  "nbformat": 4,
  "nbformat_minor": 0,
  "metadata": {
    "colab": {
      "provenance": [],
      "collapsed_sections": [
        "G2PuoXp-09kE",
        "0BtbIRMEISA4",
        "pgr_Un6NLDTn",
        "XUMslbv9L6mx",
        "XmrDPy3MRwU3",
        "Mo5_2PNcjKew",
        "lQd5tD80lZlz",
        "GkD6LpdvwOhv",
        "NuSzwC5IwqzC",
        "zw3KLOB63ucy",
        "9CzF0qrWH4a4",
        "z6wrY3OaJA4a",
        "tI7FagCpL6ua",
        "gkZo4LR5MVXJ",
        "63SXBpn6NFF4",
        "RBhhSEQ2Odvy",
        "Tk7lpHWFO1dK",
        "0LQRJk4uVo8I",
        "xdLhUPCbWHgO",
        "xGhLYjUpWsVT",
        "msqxxDA7XHiI",
        "RIvWGiK2XZX7",
        "vm8eu4PDYWYP"
      ]
    },
    "kernelspec": {
      "name": "python3",
      "display_name": "Python 3"
    },
    "language_info": {
      "name": "python"
    }
  },
  "cells": [
    {
      "cell_type": "markdown",
      "source": [
        "#Linear Regression\n"
      ],
      "metadata": {
        "id": "G2PuoXp-09kE"
      }
    },
    {
      "cell_type": "markdown",
      "source": [
        "Used when a straigth line can define the relation between features\n",
        "\n",
        "We can find line equation to predict the answers"
      ],
      "metadata": {
        "id": "JoGGhGxg2EW1"
      }
    },
    {
      "cell_type": "markdown",
      "source": [
        "**Multiple Linear Regression**\n",
        "\n",
        "one dependent variable based on two or more independent variables.\n",
        "\n"
      ],
      "metadata": {
        "id": "mnItgt9e2YIm"
      }
    },
    {
      "cell_type": "markdown",
      "source": [
        "Linear Regression:\n",
        "\n",
        "**Y = wX + b**\n",
        "\n",
        "Y --> Dependent Variable\n",
        "\n",
        "X --> Independent Variable\n",
        "\n",
        "w --> weight\n",
        "\n",
        "b --> bias\n",
        "\n",
        "**Gradient Descent:**\n",
        "\n",
        "Gradient Descent is an optimization algorithm used for minimizing the loss function in various machine learning algorithms. It is used for updating the parameters of the learning model.\n",
        "\n",
        "w = w - α*dw\n",
        "\n",
        "b = b - α*db\n",
        "\n",
        "**Learning Rate:**\n",
        "\n",
        "Learning rate is a tuning parameter in an optimization algorithm that determines the step size at each iteration while moving toward a minimum of a loss function.\n",
        "\n",
        "![image.png](data:image/png;base64,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)\n",
        "\n",
        "![image.png](data:image/png;base64,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)"
      ],
      "metadata": {
        "id": "POHXGtaT5rKC"
      }
    },
    {
      "cell_type": "code",
      "source": [
        "from google.colab import drive\n",
        "drive.mount('/content/drive')"
      ],
      "metadata": {
        "colab": {
          "base_uri": "https://localhost:8080/"
        },
        "id": "xJ3YRKxX8XyV",
        "outputId": "be5818cc-0e30-4e70-814a-825cd1be1e61"
      },
      "execution_count": null,
      "outputs": [
        {
          "output_type": "stream",
          "name": "stdout",
          "text": [
            "Mounted at /content/drive\n"
          ]
        }
      ]
    },
    {
      "cell_type": "code",
      "execution_count": null,
      "metadata": {
        "id": "Gehon9ngkNLJ"
      },
      "outputs": [],
      "source": [
        "import pandas as pd\n",
        "import numpy as np\n",
        "import matplotlib.pyplot as plt\n",
        "import seaborn as sns"
      ]
    },
    {
      "cell_type": "markdown",
      "source": [
        "##Linear regression model"
      ],
      "metadata": {
        "id": "eoSZ8k899M-B"
      }
    },
    {
      "cell_type": "code",
      "source": [
        "class LinearRegression():\n",
        "  #initiating the parameters\n",
        "    def __init__(self, learning_rate, iterations):\n",
        "        self.learning_rate = learning_rate\n",
        "        self.iterations = iterations\n",
        "\n",
        "  #fitting the model\n",
        "    def fit(self, X, y):\n",
        "        #no_of_training_examples, no_of_features\n",
        "        self.m, self.n = X.shape\n",
        "        #weight initialization\n",
        "        self.w = np.zeros(self.n)\n",
        "        self.b = 0\n",
        "        self.X = X\n",
        "        self.y = y\n",
        "        #gradient descent learning\n",
        "        for i in range(self.iterations):\n",
        "            self.update_weights(X, y) # Pass X and y to update_weights\n",
        "\n",
        "    def update_weights(self, X, y): # Added X and y as parameters\n",
        "\n",
        "        y_prediction = self.predict(self.X)\n",
        "\n",
        "        #Calculating gradients\n",
        "        dw = -(2*(self.X.T).dot(self.y - y_prediction))/self.m\n",
        "        db = -(2/self.m)*np.sum(self.y - y_prediction)\n",
        "\n",
        "        #Updating parameters\n",
        "        self.w = self.w - self.learning_rate * dw\n",
        "        self.b = self.b - self.learning_rate * db\n",
        "\n",
        "\n",
        "    def predict(self, X):\n",
        "        return X.dot(self.w) + self.b"
      ],
      "metadata": {
        "id": "5pEHghZS8Ygl"
      },
      "execution_count": null,
      "outputs": []
    },
    {
      "cell_type": "markdown",
      "source": [
        "##Using LinearRegression model for prediction"
      ],
      "metadata": {
        "id": "vXJE5PLNBwDo"
      }
    },
    {
      "cell_type": "markdown",
      "source": [
        "WorkFlow:\n",
        " 1. Set learning Rate and number of Iterations; Initiate Random weight and bias value.\n",
        " 2. Build Linear Regression Equation(y=wx + b)\n",
        " 3. Find the \"y pred\" value for given x value for the corresponding weight & bias.\n",
        " 4. Check the loss function for these parameter values.(difference between \"y pred\" & bias value)\n",
        " 5. Update the parameter values using Gradient Descent.(new weight and bias value)\n",
        " 6. repeat 3,4,5 till we get minimum loss function"
      ],
      "metadata": {
        "id": "5tmaU9puGtly"
      }
    },
    {
      "cell_type": "code",
      "source": [
        "import pandas as pd\n",
        "from sklearn.model_selection import train_test_split\n",
        "import matplotlib.pyplot as plt\n"
      ],
      "metadata": {
        "id": "eKplQn0ACcyJ"
      },
      "execution_count": null,
      "outputs": []
    },
    {
      "cell_type": "markdown",
      "source": [
        "### Data pre-processing"
      ],
      "metadata": {
        "id": "0BtbIRMEISA4"
      }
    },
    {
      "cell_type": "code",
      "source": [
        "salary_data = pd.read_csv('/content/drive/MyDrive/salary_data.csv')"
      ],
      "metadata": {
        "id": "E5fYM7SUIQGI"
      },
      "execution_count": null,
      "outputs": []
    },
    {
      "cell_type": "code",
      "source": [
        "salary_data.head()"
      ],
      "metadata": {
        "colab": {
          "base_uri": "https://localhost:8080/",
          "height": 206
        },
        "id": "gVAubgM_IgX1",
        "outputId": "684f0bf2-23de-4405-d69f-88215c31341c"
      },
      "execution_count": null,
      "outputs": [
        {
          "output_type": "execute_result",
          "data": {
            "text/plain": [
              "   YearsExperience  Salary\n",
              "0              1.1   39343\n",
              "1              1.3   46205\n",
              "2              1.5   37731\n",
              "3              2.0   43525\n",
              "4              2.2   39891"
            ],
            "text/html": [
              "\n",
              "  <div id=\"df-0fd33e97-3ef4-4378-a406-7f83642a774d\" class=\"colab-df-container\">\n",
              "    <div>\n",
              "<style scoped>\n",
              "    .dataframe tbody tr th:only-of-type {\n",
              "        vertical-align: middle;\n",
              "    }\n",
              "\n",
              "    .dataframe tbody tr th {\n",
              "        vertical-align: top;\n",
              "    }\n",
              "\n",
              "    .dataframe thead th {\n",
              "        text-align: right;\n",
              "    }\n",
              "</style>\n",
              "<table border=\"1\" class=\"dataframe\">\n",
              "  <thead>\n",
              "    <tr style=\"text-align: right;\">\n",
              "      <th></th>\n",
              "      <th>YearsExperience</th>\n",
              "      <th>Salary</th>\n",
              "    </tr>\n",
              "  </thead>\n",
              "  <tbody>\n",
              "    <tr>\n",
              "      <th>0</th>\n",
              "      <td>1.1</td>\n",
              "      <td>39343</td>\n",
              "    </tr>\n",
              "    <tr>\n",
              "      <th>1</th>\n",
              "      <td>1.3</td>\n",
              "      <td>46205</td>\n",
              "    </tr>\n",
              "    <tr>\n",
              "      <th>2</th>\n",
              "      <td>1.5</td>\n",
              "      <td>37731</td>\n",
              "    </tr>\n",
              "    <tr>\n",
              "      <th>3</th>\n",
              "      <td>2.0</td>\n",
              "      <td>43525</td>\n",
              "    </tr>\n",
              "    <tr>\n",
              "      <th>4</th>\n",
              "      <td>2.2</td>\n",
              "      <td>39891</td>\n",
              "    </tr>\n",
              "  </tbody>\n",
              "</table>\n",
              "</div>\n",
              "    <div class=\"colab-df-buttons\">\n",
              "\n",
              "  <div class=\"colab-df-container\">\n",
              "    <button class=\"colab-df-convert\" onclick=\"convertToInteractive('df-0fd33e97-3ef4-4378-a406-7f83642a774d')\"\n",
              "            title=\"Convert this dataframe to an interactive table.\"\n",
              "            style=\"display:none;\">\n",
              "\n",
              "  <svg xmlns=\"http://www.w3.org/2000/svg\" height=\"24px\" viewBox=\"0 -960 960 960\">\n",
              "    <path d=\"M120-120v-720h720v720H120Zm60-500h600v-160H180v160Zm220 220h160v-160H400v160Zm0 220h160v-160H400v160ZM180-400h160v-160H180v160Zm440 0h160v-160H620v160ZM180-180h160v-160H180v160Zm440 0h160v-160H620v160Z\"/>\n",
              "  </svg>\n",
              "    </button>\n",
              "\n",
              "  <style>\n",
              "    .colab-df-container {\n",
              "      display:flex;\n",
              "      gap: 12px;\n",
              "    }\n",
              "\n",
              "    .colab-df-convert {\n",
              "      background-color: #E8F0FE;\n",
              "      border: none;\n",
              "      border-radius: 50%;\n",
              "      cursor: pointer;\n",
              "      display: none;\n",
              "      fill: #1967D2;\n",
              "      height: 32px;\n",
              "      padding: 0 0 0 0;\n",
              "      width: 32px;\n",
              "    }\n",
              "\n",
              "    .colab-df-convert:hover {\n",
              "      background-color: #E2EBFA;\n",
              "      box-shadow: 0px 1px 2px rgba(60, 64, 67, 0.3), 0px 1px 3px 1px rgba(60, 64, 67, 0.15);\n",
              "      fill: #174EA6;\n",
              "    }\n",
              "\n",
              "    .colab-df-buttons div {\n",
              "      margin-bottom: 4px;\n",
              "    }\n",
              "\n",
              "    [theme=dark] .colab-df-convert {\n",
              "      background-color: #3B4455;\n",
              "      fill: #D2E3FC;\n",
              "    }\n",
              "\n",
              "    [theme=dark] .colab-df-convert:hover {\n",
              "      background-color: #434B5C;\n",
              "      box-shadow: 0px 1px 3px 1px rgba(0, 0, 0, 0.15);\n",
              "      filter: drop-shadow(0px 1px 2px rgba(0, 0, 0, 0.3));\n",
              "      fill: #FFFFFF;\n",
              "    }\n",
              "  </style>\n",
              "\n",
              "    <script>\n",
              "      const buttonEl =\n",
              "        document.querySelector('#df-0fd33e97-3ef4-4378-a406-7f83642a774d button.colab-df-convert');\n",
              "      buttonEl.style.display =\n",
              "        google.colab.kernel.accessAllowed ? 'block' : 'none';\n",
              "\n",
              "      async function convertToInteractive(key) {\n",
              "        const element = document.querySelector('#df-0fd33e97-3ef4-4378-a406-7f83642a774d');\n",
              "        const dataTable =\n",
              "          await google.colab.kernel.invokeFunction('convertToInteractive',\n",
              "                                                    [key], {});\n",
              "        if (!dataTable) return;\n",
              "\n",
              "        const docLinkHtml = 'Like what you see? Visit the ' +\n",
              "          '<a target=\"_blank\" href=https://colab.research.google.com/notebooks/data_table.ipynb>data table notebook</a>'\n",
              "          + ' to learn more about interactive tables.';\n",
              "        element.innerHTML = '';\n",
              "        dataTable['output_type'] = 'display_data';\n",
              "        await google.colab.output.renderOutput(dataTable, element);\n",
              "        const docLink = document.createElement('div');\n",
              "        docLink.innerHTML = docLinkHtml;\n",
              "        element.appendChild(docLink);\n",
              "      }\n",
              "    </script>\n",
              "  </div>\n",
              "\n",
              "\n",
              "<div id=\"df-46e7d06e-1964-4b57-8eea-8b165d5469f9\">\n",
              "  <button class=\"colab-df-quickchart\" onclick=\"quickchart('df-46e7d06e-1964-4b57-8eea-8b165d5469f9')\"\n",
              "            title=\"Suggest charts\"\n",
              "            style=\"display:none;\">\n",
              "\n",
              "<svg xmlns=\"http://www.w3.org/2000/svg\" height=\"24px\"viewBox=\"0 0 24 24\"\n",
              "     width=\"24px\">\n",
              "    <g>\n",
              "        <path d=\"M19 3H5c-1.1 0-2 .9-2 2v14c0 1.1.9 2 2 2h14c1.1 0 2-.9 2-2V5c0-1.1-.9-2-2-2zM9 17H7v-7h2v7zm4 0h-2V7h2v10zm4 0h-2v-4h2v4z\"/>\n",
              "    </g>\n",
              "</svg>\n",
              "  </button>\n",
              "\n",
              "<style>\n",
              "  .colab-df-quickchart {\n",
              "      --bg-color: #E8F0FE;\n",
              "      --fill-color: #1967D2;\n",
              "      --hover-bg-color: #E2EBFA;\n",
              "      --hover-fill-color: #174EA6;\n",
              "      --disabled-fill-color: #AAA;\n",
              "      --disabled-bg-color: #DDD;\n",
              "  }\n",
              "\n",
              "  [theme=dark] .colab-df-quickchart {\n",
              "      --bg-color: #3B4455;\n",
              "      --fill-color: #D2E3FC;\n",
              "      --hover-bg-color: #434B5C;\n",
              "      --hover-fill-color: #FFFFFF;\n",
              "      --disabled-bg-color: #3B4455;\n",
              "      --disabled-fill-color: #666;\n",
              "  }\n",
              "\n",
              "  .colab-df-quickchart {\n",
              "    background-color: var(--bg-color);\n",
              "    border: none;\n",
              "    border-radius: 50%;\n",
              "    cursor: pointer;\n",
              "    display: none;\n",
              "    fill: var(--fill-color);\n",
              "    height: 32px;\n",
              "    padding: 0;\n",
              "    width: 32px;\n",
              "  }\n",
              "\n",
              "  .colab-df-quickchart:hover {\n",
              "    background-color: var(--hover-bg-color);\n",
              "    box-shadow: 0 1px 2px rgba(60, 64, 67, 0.3), 0 1px 3px 1px rgba(60, 64, 67, 0.15);\n",
              "    fill: var(--button-hover-fill-color);\n",
              "  }\n",
              "\n",
              "  .colab-df-quickchart-complete:disabled,\n",
              "  .colab-df-quickchart-complete:disabled:hover {\n",
              "    background-color: var(--disabled-bg-color);\n",
              "    fill: var(--disabled-fill-color);\n",
              "    box-shadow: none;\n",
              "  }\n",
              "\n",
              "  .colab-df-spinner {\n",
              "    border: 2px solid var(--fill-color);\n",
              "    border-color: transparent;\n",
              "    border-bottom-color: var(--fill-color);\n",
              "    animation:\n",
              "      spin 1s steps(1) infinite;\n",
              "  }\n",
              "\n",
              "  @keyframes spin {\n",
              "    0% {\n",
              "      border-color: transparent;\n",
              "      border-bottom-color: var(--fill-color);\n",
              "      border-left-color: var(--fill-color);\n",
              "    }\n",
              "    20% {\n",
              "      border-color: transparent;\n",
              "      border-left-color: var(--fill-color);\n",
              "      border-top-color: var(--fill-color);\n",
              "    }\n",
              "    30% {\n",
              "      border-color: transparent;\n",
              "      border-left-color: var(--fill-color);\n",
              "      border-top-color: var(--fill-color);\n",
              "      border-right-color: var(--fill-color);\n",
              "    }\n",
              "    40% {\n",
              "      border-color: transparent;\n",
              "      border-right-color: var(--fill-color);\n",
              "      border-top-color: var(--fill-color);\n",
              "    }\n",
              "    60% {\n",
              "      border-color: transparent;\n",
              "      border-right-color: var(--fill-color);\n",
              "    }\n",
              "    80% {\n",
              "      border-color: transparent;\n",
              "      border-right-color: var(--fill-color);\n",
              "      border-bottom-color: var(--fill-color);\n",
              "    }\n",
              "    90% {\n",
              "      border-color: transparent;\n",
              "      border-bottom-color: var(--fill-color);\n",
              "    }\n",
              "  }\n",
              "</style>\n",
              "\n",
              "  <script>\n",
              "    async function quickchart(key) {\n",
              "      const quickchartButtonEl =\n",
              "        document.querySelector('#' + key + ' button');\n",
              "      quickchartButtonEl.disabled = true;  // To prevent multiple clicks.\n",
              "      quickchartButtonEl.classList.add('colab-df-spinner');\n",
              "      try {\n",
              "        const charts = await google.colab.kernel.invokeFunction(\n",
              "            'suggestCharts', [key], {});\n",
              "      } catch (error) {\n",
              "        console.error('Error during call to suggestCharts:', error);\n",
              "      }\n",
              "      quickchartButtonEl.classList.remove('colab-df-spinner');\n",
              "      quickchartButtonEl.classList.add('colab-df-quickchart-complete');\n",
              "    }\n",
              "    (() => {\n",
              "      let quickchartButtonEl =\n",
              "        document.querySelector('#df-46e7d06e-1964-4b57-8eea-8b165d5469f9 button');\n",
              "      quickchartButtonEl.style.display =\n",
              "        google.colab.kernel.accessAllowed ? 'block' : 'none';\n",
              "    })();\n",
              "  </script>\n",
              "</div>\n",
              "\n",
              "    </div>\n",
              "  </div>\n"
            ],
            "application/vnd.google.colaboratory.intrinsic+json": {
              "type": "dataframe",
              "variable_name": "salary_data",
              "summary": "{\n  \"name\": \"salary_data\",\n  \"rows\": 30,\n  \"fields\": [\n    {\n      \"column\": \"YearsExperience\",\n      \"properties\": {\n        \"dtype\": \"number\",\n        \"std\": 2.8378881576627184,\n        \"min\": 1.1,\n        \"max\": 10.5,\n        \"num_unique_values\": 28,\n        \"samples\": [\n          3.9,\n          9.6,\n          3.7\n        ],\n        \"semantic_type\": \"\",\n        \"description\": \"\"\n      }\n    },\n    {\n      \"column\": \"Salary\",\n      \"properties\": {\n        \"dtype\": \"number\",\n        \"std\": 27414,\n        \"min\": 37731,\n        \"max\": 122391,\n        \"num_unique_values\": 30,\n        \"samples\": [\n          112635,\n          67938,\n          113812\n        ],\n        \"semantic_type\": \"\",\n        \"description\": \"\"\n      }\n    }\n  ]\n}"
            }
          },
          "metadata": {},
          "execution_count": 11
        }
      ]
    },
    {
      "cell_type": "code",
      "source": [
        "salary_data.shape"
      ],
      "metadata": {
        "colab": {
          "base_uri": "https://localhost:8080/"
        },
        "id": "JNnfaf0dKlS4",
        "outputId": "7247f821-cd8a-4b76-9f9c-48cac83eeff6"
      },
      "execution_count": null,
      "outputs": [
        {
          "output_type": "execute_result",
          "data": {
            "text/plain": [
              "(30, 2)"
            ]
          },
          "metadata": {},
          "execution_count": 12
        }
      ]
    },
    {
      "cell_type": "code",
      "source": [
        "salary_data.isnull().sum()"
      ],
      "metadata": {
        "colab": {
          "base_uri": "https://localhost:8080/"
        },
        "id": "Etkq6puyKr5v",
        "outputId": "e40b70a7-8e1e-47e5-beb8-37d9a2140ae9"
      },
      "execution_count": null,
      "outputs": [
        {
          "output_type": "execute_result",
          "data": {
            "text/plain": [
              "YearsExperience    0\n",
              "Salary             0\n",
              "dtype: int64"
            ]
          },
          "metadata": {},
          "execution_count": 13
        }
      ]
    },
    {
      "cell_type": "markdown",
      "source": [
        "###Splitting"
      ],
      "metadata": {
        "id": "pgr_Un6NLDTn"
      }
    },
    {
      "cell_type": "code",
      "source": [
        "X = salary_data.iloc[:,:-1].values\n",
        "Y = salary_data.iloc[:,1].values"
      ],
      "metadata": {
        "id": "2EbBVzJRK5ik"
      },
      "execution_count": null,
      "outputs": []
    },
    {
      "cell_type": "code",
      "source": [
        "print(X)\n",
        "print(Y)"
      ],
      "metadata": {
        "colab": {
          "base_uri": "https://localhost:8080/"
        },
        "id": "1IUBnaSgLgW8",
        "outputId": "d310e81a-573b-4794-e858-6d70e8231a32"
      },
      "execution_count": null,
      "outputs": [
        {
          "output_type": "stream",
          "name": "stdout",
          "text": [
            "[[ 1.1]\n",
            " [ 1.3]\n",
            " [ 1.5]\n",
            " [ 2. ]\n",
            " [ 2.2]\n",
            " [ 2.9]\n",
            " [ 3. ]\n",
            " [ 3.2]\n",
            " [ 3.2]\n",
            " [ 3.7]\n",
            " [ 3.9]\n",
            " [ 4. ]\n",
            " [ 4. ]\n",
            " [ 4.1]\n",
            " [ 4.5]\n",
            " [ 4.9]\n",
            " [ 5.1]\n",
            " [ 5.3]\n",
            " [ 5.9]\n",
            " [ 6. ]\n",
            " [ 6.8]\n",
            " [ 7.1]\n",
            " [ 7.9]\n",
            " [ 8.2]\n",
            " [ 8.7]\n",
            " [ 9. ]\n",
            " [ 9.5]\n",
            " [ 9.6]\n",
            " [10.3]\n",
            " [10.5]]\n",
            "[ 39343  46205  37731  43525  39891  56642  60150  54445  64445  57189\n",
            "  63218  55794  56957  57081  61111  67938  66029  83088  81363  93940\n",
            "  91738  98273 101302 113812 109431 105582 116969 112635 122391 121872]\n"
          ]
        }
      ]
    },
    {
      "cell_type": "markdown",
      "source": [
        "Splitting the dataset into training and test data"
      ],
      "metadata": {
        "id": "hCuIib9SLnRA"
      }
    },
    {
      "cell_type": "code",
      "source": [
        "X_train, X_test, Y_train, Y_test = train_test_split(X, Y, test_size=0.33, random_state = 2)"
      ],
      "metadata": {
        "id": "IUTVdmchLlB6"
      },
      "execution_count": null,
      "outputs": []
    },
    {
      "cell_type": "code",
      "source": [
        "print(X_train.shape)\n",
        "print(X_test.shape)\n",
        "print(Y_train.shape)\n",
        "print(Y_test.shape)"
      ],
      "metadata": {
        "colab": {
          "base_uri": "https://localhost:8080/"
        },
        "id": "M__BANr7LzDp",
        "outputId": "61510aa3-05c9-4cf6-83f3-cd27cdb5588a"
      },
      "execution_count": null,
      "outputs": [
        {
          "output_type": "stream",
          "name": "stdout",
          "text": [
            "(20, 1)\n",
            "(10, 1)\n",
            "(20,)\n",
            "(10,)\n"
          ]
        }
      ]
    },
    {
      "cell_type": "markdown",
      "source": [
        "###Training the model"
      ],
      "metadata": {
        "id": "XUMslbv9L6mx"
      }
    },
    {
      "cell_type": "code",
      "source": [
        "model= LinearRegression(learning_rate=0.02, iterations=1000)"
      ],
      "metadata": {
        "id": "TD2ei43PL1wj"
      },
      "execution_count": null,
      "outputs": []
    },
    {
      "cell_type": "code",
      "source": [
        "model.fit(X_train, Y_train)"
      ],
      "metadata": {
        "id": "t9iUorjgMJgR"
      },
      "execution_count": null,
      "outputs": []
    },
    {
      "cell_type": "code",
      "source": [
        "print(model.w)\n",
        "print(model.b)"
      ],
      "metadata": {
        "colab": {
          "base_uri": "https://localhost:8080/"
        },
        "id": "KoWGeQSYMPnU",
        "outputId": "677fe46f-77fc-4867-a633-835681343f93"
      },
      "execution_count": null,
      "outputs": [
        {
          "output_type": "stream",
          "name": "stdout",
          "text": [
            "[9514.40099904]\n",
            "23697.406507136307\n"
          ]
        }
      ]
    },
    {
      "cell_type": "markdown",
      "source": [
        "y = 9514(x) + 23697\n",
        "\n",
        "salary = 9514(experience) + 23697"
      ],
      "metadata": {
        "id": "IxkQ1KJoMapl"
      }
    },
    {
      "cell_type": "markdown",
      "source": [
        "###Predicting the values for test data"
      ],
      "metadata": {
        "id": "z4DnWVDZMeTL"
      }
    },
    {
      "cell_type": "code",
      "source": [
        "test_pred = model.predict(X_test)"
      ],
      "metadata": {
        "id": "CsYtOLTYMSzo"
      },
      "execution_count": null,
      "outputs": []
    },
    {
      "cell_type": "code",
      "source": [
        "print(test_pred)"
      ],
      "metadata": {
        "colab": {
          "base_uri": "https://localhost:8080/"
        },
        "id": "qqs3LOoRMv70",
        "outputId": "a7e17c92-a71e-460d-df18-87483717e149"
      },
      "execution_count": null,
      "outputs": [
        {
          "output_type": "stream",
          "name": "stdout",
          "text": [
            "[ 36066.12780588  34163.24760607  66512.21100279  58900.69020357\n",
            "  91249.65360029  80783.81250135 101715.49469922  52240.60950424\n",
            "  42726.20850521  88395.33330058]\n"
          ]
        }
      ]
    },
    {
      "cell_type": "markdown",
      "source": [
        "Visualizing the predicted values and test values"
      ],
      "metadata": {
        "id": "UuKAMq-TM4co"
      }
    },
    {
      "cell_type": "code",
      "source": [
        "\n",
        "plt.scatter(X_test, Y_test, color = 'red')\n",
        "plt.plot(X_test, test_pred, color='blue')\n",
        "plt.xlabel(' Work Experience')\n",
        "plt.ylabel('Salary')\n",
        "plt.title(' Salary vs Experience')\n",
        "plt.show()"
      ],
      "metadata": {
        "colab": {
          "base_uri": "https://localhost:8080/",
          "height": 472
        },
        "id": "AKLKCFEmM0nz",
        "outputId": "2ee84052-5c9f-43bc-c31e-60cdd902b4f7"
      },
      "execution_count": null,
      "outputs": [
        {
          "output_type": "display_data",
          "data": {
            "text/plain": [
              "<Figure size 640x480 with 1 Axes>"
            ],
            "image/png": "[encoded data removed]"
          },
          "metadata": {}
        }
      ]
    },
    {
      "cell_type": "code",
      "source": [
        "from sklearn.metrics import accuracy_score"
      ],
      "metadata": {
        "id": "ETqCwSoPNFxY"
      },
      "execution_count": null,
      "outputs": []
    },
    {
      "cell_type": "code",
      "source": [
        "from sklearn.metrics import r2_score\n",
        "\n",
        "mse = r2_score(Y_test, test_pred)\n",
        "print(mse)"
      ],
      "metadata": {
        "colab": {
          "base_uri": "https://localhost:8080/"
        },
        "id": "B580ad0VNzAL",
        "outputId": "b282afff-c493-4030-809e-a9bb17193297"
      },
      "execution_count": null,
      "outputs": [
        {
          "output_type": "stream",
          "name": "stdout",
          "text": [
            "0.904128890392985\n"
          ]
        }
      ]
    },
    {
      "cell_type": "markdown",
      "source": [
        "#Logistic Regression"
      ],
      "metadata": {
        "id": "XmrDPy3MRwU3"
      }
    },
    {
      "cell_type": "markdown",
      "source": [
        "1. Supervised Learning model\n",
        "2. Classification model\n",
        "3. Best for Binary classification problem\n",
        "4. Uses Sigmoid function"
      ],
      "metadata": {
        "id": "fq413DqOW8YC"
      }
    },
    {
      "cell_type": "markdown",
      "source": [
        "![image.png](data:image/png;base64,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)\n",
        "\n",
        "\n",
        "Y_hat --> predicted value\n",
        "\n",
        "X --> Input Variable\n",
        "\n",
        "w --> weight\n",
        "\n",
        "b --> bias\n",
        "\n",
        "**Gradient Descent:**\n",
        "\n",
        "Gradient Descent is an optimization algorithm used for minimizing the loss function in various machine learning algorithms. It is used for updating the parameters of the learning model.\n",
        "\n",
        "w = w - α*dw\n",
        "\n",
        "b = b - α*db\n",
        "\n",
        "**Learning Rate:**\n",
        "\n",
        "Learning rate is a tuning parameter in an optimization algorithm that determines the step size at each iteration while moving toward a minimum of a loss function.\n",
        "\n",
        "**Derivatives:**\n",
        "\n",
        "![image.png](data:image/png;base64,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)\n"
      ],
      "metadata": {
        "id": "_21ut1ncY4f4"
      }
    },
    {
      "cell_type": "code",
      "source": [
        "import numpy as np"
      ],
      "metadata": {
        "id": "4vx8kpPMR3-L"
      },
      "execution_count": null,
      "outputs": []
    },
    {
      "cell_type": "markdown",
      "source": [
        "##Logistic Regression model"
      ],
      "metadata": {
        "id": "HElYSbaSjBtS"
      }
    },
    {
      "cell_type": "code",
      "source": [
        "class Logistic_Regression():\n",
        "\n",
        "\n",
        "  # declaring learning rate & number of iterations (Hyperparametes)\n",
        "  def __init__(self, learning_rate, no_of_iterations):\n",
        "\n",
        "    self.learning_rate = learning_rate\n",
        "    self.no_of_iterations = no_of_iterations\n",
        "\n",
        "\n",
        "\n",
        "  # fit function to train the model with dataset\n",
        "  def fit(self, X, Y):\n",
        "\n",
        "    # number of data points in the dataset (number of rows)  -->  m\n",
        "    # number of input features in the dataset (number of columns)  --> n\n",
        "    self.m, self.n = X.shape\n",
        "\n",
        "\n",
        "    #initiating weight & bias value\n",
        "\n",
        "    self.w = np.zeros(self.n)\n",
        "\n",
        "    self.b = 0\n",
        "\n",
        "    self.X = X\n",
        "\n",
        "    self.Y = Y\n",
        "\n",
        "\n",
        "    # implementing Gradient Descent for Optimization\n",
        "\n",
        "    for i in range(self.no_of_iterations):\n",
        "      self.update_weights()\n",
        "\n",
        "\n",
        "\n",
        "  def update_weights(self):\n",
        "\n",
        "    # Y_hat formula (sigmoid function)\n",
        "\n",
        "    Y_hat = 1 / (1 + np.exp( - (self.X.dot(self.w) + self.b ) ))\n",
        "\n",
        "\n",
        "    # derivaties\n",
        "\n",
        "    dw = (1/self.m)*np.dot(self.X.T, (Y_hat - self.Y))\n",
        "\n",
        "    db = (1/self.m)*np.sum(Y_hat - self.Y)\n",
        "\n",
        "\n",
        "    # updating the weights & bias using gradient descent\n",
        "\n",
        "    self.w = self.w - self.learning_rate * dw\n",
        "\n",
        "    self.b = self.b - self.learning_rate * db\n",
        "\n",
        "\n",
        "  # Sigmoid Equation & Decision Boundary\n",
        "\n",
        "  def predict(self, X):\n",
        "\n",
        "    Y_pred = 1 / (1 + np.exp( - (X.dot(self.w) + self.b ) ))\n",
        "    Y_pred = np.where( Y_pred > 0.5, 1, 0)\n",
        "    return Y_pred\n"
      ],
      "metadata": {
        "id": "tYbDQjPFiscz"
      },
      "execution_count": null,
      "outputs": []
    },
    {
      "cell_type": "markdown",
      "source": [
        "##Using Logistic_Regression model for prediction"
      ],
      "metadata": {
        "id": "Mo5_2PNcjKew"
      }
    },
    {
      "cell_type": "markdown",
      "source": [
        "WorkFlow:\n",
        " 1. Set learning Rate and number of Iterations; Initiate Random weight and bias value.\n",
        " 2. Build Logistic Regression Equation(sigmoid function)\n",
        " 3. Find the \"y pred\" value for given x value for the corresponding weight & bias.\n",
        " 4. Check the loss function for these parameter values.(difference between \"y pred\" & bias value)\n",
        " 5. Update the parameter values using Gradient Descent.(new weight and bias value)\n",
        " 6. repeat 3,4,5 till we get minimum cost function\n",
        "\n",
        " Finally we will get best model as it has cost function\n",
        " 7. build the \"Predict\" function to determine the class of the data point"
      ],
      "metadata": {
        "id": "mRR4FON7zmjC"
      }
    },
    {
      "cell_type": "markdown",
      "source": [
        "###Data Preprocessing"
      ],
      "metadata": {
        "id": "RHel49UojXbk"
      }
    },
    {
      "cell_type": "code",
      "source": [
        "import pandas as pd\n",
        "from sklearn.preprocessing import StandardScaler\n",
        "from sklearn.model_selection import train_test_split\n",
        "from sklearn.metrics import accuracy_score"
      ],
      "metadata": {
        "id": "CHNQicvgiyYo"
      },
      "execution_count": null,
      "outputs": []
    },
    {
      "cell_type": "code",
      "source": [
        "diabetes_data = pd.read_csv('/content/drive/MyDrive/diabetes.csv')"
      ],
      "metadata": {
        "id": "tOVkUbeckFQg"
      },
      "execution_count": null,
      "outputs": []
    },
    {
      "cell_type": "code",
      "source": [
        "diabetes_data.head()"
      ],
      "metadata": {
        "colab": {
          "base_uri": "https://localhost:8080/",
          "height": 206
        },
        "id": "BvvS8S4pkMOs",
        "outputId": "0c2c2e2c-e7ee-4c29-abdd-730486848e91"
      },
      "execution_count": null,
      "outputs": [
        {
          "output_type": "execute_result",
          "data": {
            "text/plain": [
              "   Pregnancies  Glucose  BloodPressure  SkinThickness  Insulin   BMI  \\\n",
              "0            6      148             72             35        0  33.6   \n",
              "1            1       85             66             29        0  26.6   \n",
              "2            8      183             64              0        0  23.3   \n",
              "3            1       89             66             23       94  28.1   \n",
              "4            0      137             40             35      168  43.1   \n",
              "\n",
              "   DiabetesPedigreeFunction  Age  Outcome  \n",
              "0                     0.627   50        1  \n",
              "1                     0.351   31        0  \n",
              "2                     0.672   32        1  \n",
              "3                     0.167   21        0  \n",
              "4                     2.288   33        1  "
            ],
            "text/html": [
              "\n",
              "  <div id=\"df-e20c533e-1ad3-4aac-9b01-5dda746146ad\" class=\"colab-df-container\">\n",
              "    <div>\n",
              "<style scoped>\n",
              "    .dataframe tbody tr th:only-of-type {\n",
              "        vertical-align: middle;\n",
              "    }\n",
              "\n",
              "    .dataframe tbody tr th {\n",
              "        vertical-align: top;\n",
              "    }\n",
              "\n",
              "    .dataframe thead th {\n",
              "        text-align: right;\n",
              "    }\n",
              "</style>\n",
              "<table border=\"1\" class=\"dataframe\">\n",
              "  <thead>\n",
              "    <tr style=\"text-align: right;\">\n",
              "      <th></th>\n",
              "      <th>Pregnancies</th>\n",
              "      <th>Glucose</th>\n",
              "      <th>BloodPressure</th>\n",
              "      <th>SkinThickness</th>\n",
              "      <th>Insulin</th>\n",
              "      <th>BMI</th>\n",
              "      <th>DiabetesPedigreeFunction</th>\n",
              "      <th>Age</th>\n",
              "      <th>Outcome</th>\n",
              "    </tr>\n",
              "  </thead>\n",
              "  <tbody>\n",
              "    <tr>\n",
              "      <th>0</th>\n",
              "      <td>6</td>\n",
              "      <td>148</td>\n",
              "      <td>72</td>\n",
              "      <td>35</td>\n",
              "      <td>0</td>\n",
              "      <td>33.6</td>\n",
              "      <td>0.627</td>\n",
              "      <td>50</td>\n",
              "      <td>1</td>\n",
              "    </tr>\n",
              "    <tr>\n",
              "      <th>1</th>\n",
              "      <td>1</td>\n",
              "      <td>85</td>\n",
              "      <td>66</td>\n",
              "      <td>29</td>\n",
              "      <td>0</td>\n",
              "      <td>26.6</td>\n",
              "      <td>0.351</td>\n",
              "      <td>31</td>\n",
              "      <td>0</td>\n",
              "    </tr>\n",
              "    <tr>\n",
              "      <th>2</th>\n",
              "      <td>8</td>\n",
              "      <td>183</td>\n",
              "      <td>64</td>\n",
              "      <td>0</td>\n",
              "      <td>0</td>\n",
              "      <td>23.3</td>\n",
              "      <td>0.672</td>\n",
              "      <td>32</td>\n",
              "      <td>1</td>\n",
              "    </tr>\n",
              "    <tr>\n",
              "      <th>3</th>\n",
              "      <td>1</td>\n",
              "      <td>89</td>\n",
              "      <td>66</td>\n",
              "      <td>23</td>\n",
              "      <td>94</td>\n",
              "      <td>28.1</td>\n",
              "      <td>0.167</td>\n",
              "      <td>21</td>\n",
              "      <td>0</td>\n",
              "    </tr>\n",
              "    <tr>\n",
              "      <th>4</th>\n",
              "      <td>0</td>\n",
              "      <td>137</td>\n",
              "      <td>40</td>\n",
              "      <td>35</td>\n",
              "      <td>168</td>\n",
              "      <td>43.1</td>\n",
              "      <td>2.288</td>\n",
              "      <td>33</td>\n",
              "      <td>1</td>\n",
              "    </tr>\n",
              "  </tbody>\n",
              "</table>\n",
              "</div>\n",
              "    <div class=\"colab-df-buttons\">\n",
              "\n",
              "  <div class=\"colab-df-container\">\n",
              "    <button class=\"colab-df-convert\" onclick=\"convertToInteractive('df-e20c533e-1ad3-4aac-9b01-5dda746146ad')\"\n",
              "            title=\"Convert this dataframe to an interactive table.\"\n",
              "            style=\"display:none;\">\n",
              "\n",
              "  <svg xmlns=\"http://www.w3.org/2000/svg\" height=\"24px\" viewBox=\"0 -960 960 960\">\n",
              "    <path d=\"M120-120v-720h720v720H120Zm60-500h600v-160H180v160Zm220 220h160v-160H400v160Zm0 220h160v-160H400v160ZM180-400h160v-160H180v160Zm440 0h160v-160H620v160ZM180-180h160v-160H180v160Zm440 0h160v-160H620v160Z\"/>\n",
              "  </svg>\n",
              "    </button>\n",
              "\n",
              "  <style>\n",
              "    .colab-df-container {\n",
              "      display:flex;\n",
              "      gap: 12px;\n",
              "    }\n",
              "\n",
              "    .colab-df-convert {\n",
              "      background-color: #E8F0FE;\n",
              "      border: none;\n",
              "      border-radius: 50%;\n",
              "      cursor: pointer;\n",
              "      display: none;\n",
              "      fill: #1967D2;\n",
              "      height: 32px;\n",
              "      padding: 0 0 0 0;\n",
              "      width: 32px;\n",
              "    }\n",
              "\n",
              "    .colab-df-convert:hover {\n",
              "      background-color: #E2EBFA;\n",
              "      box-shadow: 0px 1px 2px rgba(60, 64, 67, 0.3), 0px 1px 3px 1px rgba(60, 64, 67, 0.15);\n",
              "      fill: #174EA6;\n",
              "    }\n",
              "\n",
              "    .colab-df-buttons div {\n",
              "      margin-bottom: 4px;\n",
              "    }\n",
              "\n",
              "    [theme=dark] .colab-df-convert {\n",
              "      background-color: #3B4455;\n",
              "      fill: #D2E3FC;\n",
              "    }\n",
              "\n",
              "    [theme=dark] .colab-df-convert:hover {\n",
              "      background-color: #434B5C;\n",
              "      box-shadow: 0px 1px 3px 1px rgba(0, 0, 0, 0.15);\n",
              "      filter: drop-shadow(0px 1px 2px rgba(0, 0, 0, 0.3));\n",
              "      fill: #FFFFFF;\n",
              "    }\n",
              "  </style>\n",
              "\n",
              "    <script>\n",
              "      const buttonEl =\n",
              "        document.querySelector('#df-e20c533e-1ad3-4aac-9b01-5dda746146ad button.colab-df-convert');\n",
              "      buttonEl.style.display =\n",
              "        google.colab.kernel.accessAllowed ? 'block' : 'none';\n",
              "\n",
              "      async function convertToInteractive(key) {\n",
              "        const element = document.querySelector('#df-e20c533e-1ad3-4aac-9b01-5dda746146ad');\n",
              "        const dataTable =\n",
              "          await google.colab.kernel.invokeFunction('convertToInteractive',\n",
              "                                                    [key], {});\n",
              "        if (!dataTable) return;\n",
              "\n",
              "        const docLinkHtml = 'Like what you see? Visit the ' +\n",
              "          '<a target=\"_blank\" href=https://colab.research.google.com/notebooks/data_table.ipynb>data table notebook</a>'\n",
              "          + ' to learn more about interactive tables.';\n",
              "        element.innerHTML = '';\n",
              "        dataTable['output_type'] = 'display_data';\n",
              "        await google.colab.output.renderOutput(dataTable, element);\n",
              "        const docLink = document.createElement('div');\n",
              "        docLink.innerHTML = docLinkHtml;\n",
              "        element.appendChild(docLink);\n",
              "      }\n",
              "    </script>\n",
              "  </div>\n",
              "\n",
              "\n",
              "<div id=\"df-f447f314-9456-4c0f-820c-bf3f06e9d31e\">\n",
              "  <button class=\"colab-df-quickchart\" onclick=\"quickchart('df-f447f314-9456-4c0f-820c-bf3f06e9d31e')\"\n",
              "            title=\"Suggest charts\"\n",
              "            style=\"display:none;\">\n",
              "\n",
              "<svg xmlns=\"http://www.w3.org/2000/svg\" height=\"24px\"viewBox=\"0 0 24 24\"\n",
              "     width=\"24px\">\n",
              "    <g>\n",
              "        <path d=\"M19 3H5c-1.1 0-2 .9-2 2v14c0 1.1.9 2 2 2h14c1.1 0 2-.9 2-2V5c0-1.1-.9-2-2-2zM9 17H7v-7h2v7zm4 0h-2V7h2v10zm4 0h-2v-4h2v4z\"/>\n",
              "    </g>\n",
              "</svg>\n",
              "  </button>\n",
              "\n",
              "<style>\n",
              "  .colab-df-quickchart {\n",
              "      --bg-color: #E8F0FE;\n",
              "      --fill-color: #1967D2;\n",
              "      --hover-bg-color: #E2EBFA;\n",
              "      --hover-fill-color: #174EA6;\n",
              "      --disabled-fill-color: #AAA;\n",
              "      --disabled-bg-color: #DDD;\n",
              "  }\n",
              "\n",
              "  [theme=dark] .colab-df-quickchart {\n",
              "      --bg-color: #3B4455;\n",
              "      --fill-color: #D2E3FC;\n",
              "      --hover-bg-color: #434B5C;\n",
              "      --hover-fill-color: #FFFFFF;\n",
              "      --disabled-bg-color: #3B4455;\n",
              "      --disabled-fill-color: #666;\n",
              "  }\n",
              "\n",
              "  .colab-df-quickchart {\n",
              "    background-color: var(--bg-color);\n",
              "    border: none;\n",
              "    border-radius: 50%;\n",
              "    cursor: pointer;\n",
              "    display: none;\n",
              "    fill: var(--fill-color);\n",
              "    height: 32px;\n",
              "    padding: 0;\n",
              "    width: 32px;\n",
              "  }\n",
              "\n",
              "  .colab-df-quickchart:hover {\n",
              "    background-color: var(--hover-bg-color);\n",
              "    box-shadow: 0 1px 2px rgba(60, 64, 67, 0.3), 0 1px 3px 1px rgba(60, 64, 67, 0.15);\n",
              "    fill: var(--button-hover-fill-color);\n",
              "  }\n",
              "\n",
              "  .colab-df-quickchart-complete:disabled,\n",
              "  .colab-df-quickchart-complete:disabled:hover {\n",
              "    background-color: var(--disabled-bg-color);\n",
              "    fill: var(--disabled-fill-color);\n",
              "    box-shadow: none;\n",
              "  }\n",
              "\n",
              "  .colab-df-spinner {\n",
              "    border: 2px solid var(--fill-color);\n",
              "    border-color: transparent;\n",
              "    border-bottom-color: var(--fill-color);\n",
              "    animation:\n",
              "      spin 1s steps(1) infinite;\n",
              "  }\n",
              "\n",
              "  @keyframes spin {\n",
              "    0% {\n",
              "      border-color: transparent;\n",
              "      border-bottom-color: var(--fill-color);\n",
              "      border-left-color: var(--fill-color);\n",
              "    }\n",
              "    20% {\n",
              "      border-color: transparent;\n",
              "      border-left-color: var(--fill-color);\n",
              "      border-top-color: var(--fill-color);\n",
              "    }\n",
              "    30% {\n",
              "      border-color: transparent;\n",
              "      border-left-color: var(--fill-color);\n",
              "      border-top-color: var(--fill-color);\n",
              "      border-right-color: var(--fill-color);\n",
              "    }\n",
              "    40% {\n",
              "      border-color: transparent;\n",
              "      border-right-color: var(--fill-color);\n",
              "      border-top-color: var(--fill-color);\n",
              "    }\n",
              "    60% {\n",
              "      border-color: transparent;\n",
              "      border-right-color: var(--fill-color);\n",
              "    }\n",
              "    80% {\n",
              "      border-color: transparent;\n",
              "      border-right-color: var(--fill-color);\n",
              "      border-bottom-color: var(--fill-color);\n",
              "    }\n",
              "    90% {\n",
              "      border-color: transparent;\n",
              "      border-bottom-color: var(--fill-color);\n",
              "    }\n",
              "  }\n",
              "</style>\n",
              "\n",
              "  <script>\n",
              "    async function quickchart(key) {\n",
              "      const quickchartButtonEl =\n",
              "        document.querySelector('#' + key + ' button');\n",
              "      quickchartButtonEl.disabled = true;  // To prevent multiple clicks.\n",
              "      quickchartButtonEl.classList.add('colab-df-spinner');\n",
              "      try {\n",
              "        const charts = await google.colab.kernel.invokeFunction(\n",
              "            'suggestCharts', [key], {});\n",
              "      } catch (error) {\n",
              "        console.error('Error during call to suggestCharts:', error);\n",
              "      }\n",
              "      quickchartButtonEl.classList.remove('colab-df-spinner');\n",
              "      quickchartButtonEl.classList.add('colab-df-quickchart-complete');\n",
              "    }\n",
              "    (() => {\n",
              "      let quickchartButtonEl =\n",
              "        document.querySelector('#df-f447f314-9456-4c0f-820c-bf3f06e9d31e button');\n",
              "      quickchartButtonEl.style.display =\n",
              "        google.colab.kernel.accessAllowed ? 'block' : 'none';\n",
              "    })();\n",
              "  </script>\n",
              "</div>\n",
              "\n",
              "    </div>\n",
              "  </div>\n"
            ],
            "application/vnd.google.colaboratory.intrinsic+json": {
              "type": "dataframe",
              "variable_name": "diabetes_data",
              "summary": "{\n  \"name\": \"diabetes_data\",\n  \"rows\": 768,\n  \"fields\": [\n    {\n      \"column\": \"Pregnancies\",\n      \"properties\": {\n        \"dtype\": \"number\",\n        \"std\": 3,\n        \"min\": 0,\n        \"max\": 17,\n        \"num_unique_values\": 17,\n        \"samples\": [\n          6,\n          1,\n          3\n        ],\n        \"semantic_type\": \"\",\n        \"description\": \"\"\n      }\n    },\n    {\n      \"column\": \"Glucose\",\n      \"properties\": {\n        \"dtype\": \"number\",\n        \"std\": 31,\n        \"min\": 0,\n        \"max\": 199,\n        \"num_unique_values\": 136,\n        \"samples\": [\n          151,\n          101,\n          112\n        ],\n        \"semantic_type\": \"\",\n        \"description\": \"\"\n      }\n    },\n    {\n      \"column\": \"BloodPressure\",\n      \"properties\": {\n        \"dtype\": \"number\",\n        \"std\": 19,\n        \"min\": 0,\n        \"max\": 122,\n        \"num_unique_values\": 47,\n        \"samples\": [\n          86,\n          46,\n          85\n        ],\n        \"semantic_type\": \"\",\n        \"description\": \"\"\n      }\n    },\n    {\n      \"column\": \"SkinThickness\",\n      \"properties\": {\n        \"dtype\": \"number\",\n        \"std\": 15,\n        \"min\": 0,\n        \"max\": 99,\n        \"num_unique_values\": 51,\n        \"samples\": [\n          7,\n          12,\n          48\n        ],\n        \"semantic_type\": \"\",\n        \"description\": \"\"\n      }\n    },\n    {\n      \"column\": \"Insulin\",\n      \"properties\": {\n        \"dtype\": \"number\",\n        \"std\": 115,\n        \"min\": 0,\n        \"max\": 846,\n        \"num_unique_values\": 186,\n        \"samples\": [\n          52,\n          41,\n          183\n        ],\n        \"semantic_type\": \"\",\n        \"description\": \"\"\n      }\n    },\n    {\n      \"column\": \"BMI\",\n      \"properties\": {\n        \"dtype\": \"number\",\n        \"std\": 7.884160320375446,\n        \"min\": 0.0,\n        \"max\": 67.1,\n        \"num_unique_values\": 248,\n        \"samples\": [\n          19.9,\n          31.0,\n          38.1\n        ],\n        \"semantic_type\": \"\",\n        \"description\": \"\"\n      }\n    },\n    {\n      \"column\": \"DiabetesPedigreeFunction\",\n      \"properties\": {\n        \"dtype\": \"number\",\n        \"std\": 0.3313285950127749,\n        \"min\": 0.078,\n        \"max\": 2.42,\n        \"num_unique_values\": 517,\n        \"samples\": [\n          1.731,\n          0.426,\n          0.138\n        ],\n        \"semantic_type\": \"\",\n        \"description\": \"\"\n      }\n    },\n    {\n      \"column\": \"Age\",\n      \"properties\": {\n        \"dtype\": \"number\",\n        \"std\": 11,\n        \"min\": 21,\n        \"max\": 81,\n        \"num_unique_values\": 52,\n        \"samples\": [\n          60,\n          47,\n          72\n        ],\n        \"semantic_type\": \"\",\n        \"description\": \"\"\n      }\n    },\n    {\n      \"column\": \"Outcome\",\n      \"properties\": {\n        \"dtype\": \"number\",\n        \"std\": 0,\n        \"min\": 0,\n        \"max\": 1,\n        \"num_unique_values\": 2,\n        \"samples\": [\n          0,\n          1\n        ],\n        \"semantic_type\": \"\",\n        \"description\": \"\"\n      }\n    }\n  ]\n}"
            }
          },
          "metadata": {},
          "execution_count": 38
        }
      ]
    },
    {
      "cell_type": "code",
      "source": [
        "diabetes_data.shape"
      ],
      "metadata": {
        "colab": {
          "base_uri": "https://localhost:8080/"
        },
        "id": "78FO5D76kO7g",
        "outputId": "bcafb599-f8da-4da8-d081-6b5282b3b19f"
      },
      "execution_count": null,
      "outputs": [
        {
          "output_type": "execute_result",
          "data": {
            "text/plain": [
              "(768, 9)"
            ]
          },
          "metadata": {},
          "execution_count": 39
        }
      ]
    },
    {
      "cell_type": "code",
      "source": [
        "diabetes_data.describe()"
      ],
      "metadata": {
        "colab": {
          "base_uri": "https://localhost:8080/",
          "height": 320
        },
        "id": "sR_jDvakkfc8",
        "outputId": "905f792c-5a0d-4b9a-e447-d44449428c66"
      },
      "execution_count": null,
      "outputs": [
        {
          "output_type": "execute_result",
          "data": {
            "text/plain": [
              "       Pregnancies     Glucose  BloodPressure  SkinThickness     Insulin  \\\n",
              "count   768.000000  768.000000     768.000000     768.000000  768.000000   \n",
              "mean      3.845052  120.894531      69.105469      20.536458   79.799479   \n",
              "std       3.369578   31.972618      19.355807      15.952218  115.244002   \n",
              "min       0.000000    0.000000       0.000000       0.000000    0.000000   \n",
              "25%       1.000000   99.000000      62.000000       0.000000    0.000000   \n",
              "50%       3.000000  117.000000      72.000000      23.000000   30.500000   \n",
              "75%       6.000000  140.250000      80.000000      32.000000  127.250000   \n",
              "max      17.000000  199.000000     122.000000      99.000000  846.000000   \n",
              "\n",
              "              BMI  DiabetesPedigreeFunction         Age     Outcome  \n",
              "count  768.000000                768.000000  768.000000  768.000000  \n",
              "mean    31.992578                  0.471876   33.240885    0.348958  \n",
              "std      7.884160                  0.331329   11.760232    0.476951  \n",
              "min      0.000000                  0.078000   21.000000    0.000000  \n",
              "25%     27.300000                  0.243750   24.000000    0.000000  \n",
              "50%     32.000000                  0.372500   29.000000    0.000000  \n",
              "75%     36.600000                  0.626250   41.000000    1.000000  \n",
              "max     67.100000                  2.420000   81.000000    1.000000  "
            ],
            "text/html": [
              "\n",
              "  <div id=\"df-bb9c8e9f-1fbc-43b5-aa5a-5a413aca15c0\" class=\"colab-df-container\">\n",
              "    <div>\n",
              "<style scoped>\n",
              "    .dataframe tbody tr th:only-of-type {\n",
              "        vertical-align: middle;\n",
              "    }\n",
              "\n",
              "    .dataframe tbody tr th {\n",
              "        vertical-align: top;\n",
              "    }\n",
              "\n",
              "    .dataframe thead th {\n",
              "        text-align: right;\n",
              "    }\n",
              "</style>\n",
              "<table border=\"1\" class=\"dataframe\">\n",
              "  <thead>\n",
              "    <tr style=\"text-align: right;\">\n",
              "      <th></th>\n",
              "      <th>Pregnancies</th>\n",
              "      <th>Glucose</th>\n",
              "      <th>BloodPressure</th>\n",
              "      <th>SkinThickness</th>\n",
              "      <th>Insulin</th>\n",
              "      <th>BMI</th>\n",
              "      <th>DiabetesPedigreeFunction</th>\n",
              "      <th>Age</th>\n",
              "      <th>Outcome</th>\n",
              "    </tr>\n",
              "  </thead>\n",
              "  <tbody>\n",
              "    <tr>\n",
              "      <th>count</th>\n",
              "      <td>768.000000</td>\n",
              "      <td>768.000000</td>\n",
              "      <td>768.000000</td>\n",
              "      <td>768.000000</td>\n",
              "      <td>768.000000</td>\n",
              "      <td>768.000000</td>\n",
              "      <td>768.000000</td>\n",
              "      <td>768.000000</td>\n",
              "      <td>768.000000</td>\n",
              "    </tr>\n",
              "    <tr>\n",
              "      <th>mean</th>\n",
              "      <td>3.845052</td>\n",
              "      <td>120.894531</td>\n",
              "      <td>69.105469</td>\n",
              "      <td>20.536458</td>\n",
              "      <td>79.799479</td>\n",
              "      <td>31.992578</td>\n",
              "      <td>0.471876</td>\n",
              "      <td>33.240885</td>\n",
              "      <td>0.348958</td>\n",
              "    </tr>\n",
              "    <tr>\n",
              "      <th>std</th>\n",
              "      <td>3.369578</td>\n",
              "      <td>31.972618</td>\n",
              "      <td>19.355807</td>\n",
              "      <td>15.952218</td>\n",
              "      <td>115.244002</td>\n",
              "      <td>7.884160</td>\n",
              "      <td>0.331329</td>\n",
              "      <td>11.760232</td>\n",
              "      <td>0.476951</td>\n",
              "    </tr>\n",
              "    <tr>\n",
              "      <th>min</th>\n",
              "      <td>0.000000</td>\n",
              "      <td>0.000000</td>\n",
              "      <td>0.000000</td>\n",
              "      <td>0.000000</td>\n",
              "      <td>0.000000</td>\n",
              "      <td>0.000000</td>\n",
              "      <td>0.078000</td>\n",
              "      <td>21.000000</td>\n",
              "      <td>0.000000</td>\n",
              "    </tr>\n",
              "    <tr>\n",
              "      <th>25%</th>\n",
              "      <td>1.000000</td>\n",
              "      <td>99.000000</td>\n",
              "      <td>62.000000</td>\n",
              "      <td>0.000000</td>\n",
              "      <td>0.000000</td>\n",
              "      <td>27.300000</td>\n",
              "      <td>0.243750</td>\n",
              "      <td>24.000000</td>\n",
              "      <td>0.000000</td>\n",
              "    </tr>\n",
              "    <tr>\n",
              "      <th>50%</th>\n",
              "      <td>3.000000</td>\n",
              "      <td>117.000000</td>\n",
              "      <td>72.000000</td>\n",
              "      <td>23.000000</td>\n",
              "      <td>30.500000</td>\n",
              "      <td>32.000000</td>\n",
              "      <td>0.372500</td>\n",
              "      <td>29.000000</td>\n",
              "      <td>0.000000</td>\n",
              "    </tr>\n",
              "    <tr>\n",
              "      <th>75%</th>\n",
              "      <td>6.000000</td>\n",
              "      <td>140.250000</td>\n",
              "      <td>80.000000</td>\n",
              "      <td>32.000000</td>\n",
              "      <td>127.250000</td>\n",
              "      <td>36.600000</td>\n",
              "      <td>0.626250</td>\n",
              "      <td>41.000000</td>\n",
              "      <td>1.000000</td>\n",
              "    </tr>\n",
              "    <tr>\n",
              "      <th>max</th>\n",
              "      <td>17.000000</td>\n",
              "      <td>199.000000</td>\n",
              "      <td>122.000000</td>\n",
              "      <td>99.000000</td>\n",
              "      <td>846.000000</td>\n",
              "      <td>67.100000</td>\n",
              "      <td>2.420000</td>\n",
              "      <td>81.000000</td>\n",
              "      <td>1.000000</td>\n",
              "    </tr>\n",
              "  </tbody>\n",
              "</table>\n",
              "</div>\n",
              "    <div class=\"colab-df-buttons\">\n",
              "\n",
              "  <div class=\"colab-df-container\">\n",
              "    <button class=\"colab-df-convert\" onclick=\"convertToInteractive('df-bb9c8e9f-1fbc-43b5-aa5a-5a413aca15c0')\"\n",
              "            title=\"Convert this dataframe to an interactive table.\"\n",
              "            style=\"display:none;\">\n",
              "\n",
              "  <svg xmlns=\"http://www.w3.org/2000/svg\" height=\"24px\" viewBox=\"0 -960 960 960\">\n",
              "    <path d=\"M120-120v-720h720v720H120Zm60-500h600v-160H180v160Zm220 220h160v-160H400v160Zm0 220h160v-160H400v160ZM180-400h160v-160H180v160Zm440 0h160v-160H620v160ZM180-180h160v-160H180v160Zm440 0h160v-160H620v160Z\"/>\n",
              "  </svg>\n",
              "    </button>\n",
              "\n",
              "  <style>\n",
              "    .colab-df-container {\n",
              "      display:flex;\n",
              "      gap: 12px;\n",
              "    }\n",
              "\n",
              "    .colab-df-convert {\n",
              "      background-color: #E8F0FE;\n",
              "      border: none;\n",
              "      border-radius: 50%;\n",
              "      cursor: pointer;\n",
              "      display: none;\n",
              "      fill: #1967D2;\n",
              "      height: 32px;\n",
              "      padding: 0 0 0 0;\n",
              "      width: 32px;\n",
              "    }\n",
              "\n",
              "    .colab-df-convert:hover {\n",
              "      background-color: #E2EBFA;\n",
              "      box-shadow: 0px 1px 2px rgba(60, 64, 67, 0.3), 0px 1px 3px 1px rgba(60, 64, 67, 0.15);\n",
              "      fill: #174EA6;\n",
              "    }\n",
              "\n",
              "    .colab-df-buttons div {\n",
              "      margin-bottom: 4px;\n",
              "    }\n",
              "\n",
              "    [theme=dark] .colab-df-convert {\n",
              "      background-color: #3B4455;\n",
              "      fill: #D2E3FC;\n",
              "    }\n",
              "\n",
              "    [theme=dark] .colab-df-convert:hover {\n",
              "      background-color: #434B5C;\n",
              "      box-shadow: 0px 1px 3px 1px rgba(0, 0, 0, 0.15);\n",
              "      filter: drop-shadow(0px 1px 2px rgba(0, 0, 0, 0.3));\n",
              "      fill: #FFFFFF;\n",
              "    }\n",
              "  </style>\n",
              "\n",
              "    <script>\n",
              "      const buttonEl =\n",
              "        document.querySelector('#df-bb9c8e9f-1fbc-43b5-aa5a-5a413aca15c0 button.colab-df-convert');\n",
              "      buttonEl.style.display =\n",
              "        google.colab.kernel.accessAllowed ? 'block' : 'none';\n",
              "\n",
              "      async function convertToInteractive(key) {\n",
              "        const element = document.querySelector('#df-bb9c8e9f-1fbc-43b5-aa5a-5a413aca15c0');\n",
              "        const dataTable =\n",
              "          await google.colab.kernel.invokeFunction('convertToInteractive',\n",
              "                                                    [key], {});\n",
              "        if (!dataTable) return;\n",
              "\n",
              "        const docLinkHtml = 'Like what you see? Visit the ' +\n",
              "          '<a target=\"_blank\" href=https://colab.research.google.com/notebooks/data_table.ipynb>data table notebook</a>'\n",
              "          + ' to learn more about interactive tables.';\n",
              "        element.innerHTML = '';\n",
              "        dataTable['output_type'] = 'display_data';\n",
              "        await google.colab.output.renderOutput(dataTable, element);\n",
              "        const docLink = document.createElement('div');\n",
              "        docLink.innerHTML = docLinkHtml;\n",
              "        element.appendChild(docLink);\n",
              "      }\n",
              "    </script>\n",
              "  </div>\n",
              "\n",
              "\n",
              "<div id=\"df-b9b6690c-e5c1-4098-b97e-cf066c7f3887\">\n",
              "  <button class=\"colab-df-quickchart\" onclick=\"quickchart('df-b9b6690c-e5c1-4098-b97e-cf066c7f3887')\"\n",
              "            title=\"Suggest charts\"\n",
              "            style=\"display:none;\">\n",
              "\n",
              "<svg xmlns=\"http://www.w3.org/2000/svg\" height=\"24px\"viewBox=\"0 0 24 24\"\n",
              "     width=\"24px\">\n",
              "    <g>\n",
              "        <path d=\"M19 3H5c-1.1 0-2 .9-2 2v14c0 1.1.9 2 2 2h14c1.1 0 2-.9 2-2V5c0-1.1-.9-2-2-2zM9 17H7v-7h2v7zm4 0h-2V7h2v10zm4 0h-2v-4h2v4z\"/>\n",
              "    </g>\n",
              "</svg>\n",
              "  </button>\n",
              "\n",
              "<style>\n",
              "  .colab-df-quickchart {\n",
              "      --bg-color: #E8F0FE;\n",
              "      --fill-color: #1967D2;\n",
              "      --hover-bg-color: #E2EBFA;\n",
              "      --hover-fill-color: #174EA6;\n",
              "      --disabled-fill-color: #AAA;\n",
              "      --disabled-bg-color: #DDD;\n",
              "  }\n",
              "\n",
              "  [theme=dark] .colab-df-quickchart {\n",
              "      --bg-color: #3B4455;\n",
              "      --fill-color: #D2E3FC;\n",
              "      --hover-bg-color: #434B5C;\n",
              "      --hover-fill-color: #FFFFFF;\n",
              "      --disabled-bg-color: #3B4455;\n",
              "      --disabled-fill-color: #666;\n",
              "  }\n",
              "\n",
              "  .colab-df-quickchart {\n",
              "    background-color: var(--bg-color);\n",
              "    border: none;\n",
              "    border-radius: 50%;\n",
              "    cursor: pointer;\n",
              "    display: none;\n",
              "    fill: var(--fill-color);\n",
              "    height: 32px;\n",
              "    padding: 0;\n",
              "    width: 32px;\n",
              "  }\n",
              "\n",
              "  .colab-df-quickchart:hover {\n",
              "    background-color: var(--hover-bg-color);\n",
              "    box-shadow: 0 1px 2px rgba(60, 64, 67, 0.3), 0 1px 3px 1px rgba(60, 64, 67, 0.15);\n",
              "    fill: var(--button-hover-fill-color);\n",
              "  }\n",
              "\n",
              "  .colab-df-quickchart-complete:disabled,\n",
              "  .colab-df-quickchart-complete:disabled:hover {\n",
              "    background-color: var(--disabled-bg-color);\n",
              "    fill: var(--disabled-fill-color);\n",
              "    box-shadow: none;\n",
              "  }\n",
              "\n",
              "  .colab-df-spinner {\n",
              "    border: 2px solid var(--fill-color);\n",
              "    border-color: transparent;\n",
              "    border-bottom-color: var(--fill-color);\n",
              "    animation:\n",
              "      spin 1s steps(1) infinite;\n",
              "  }\n",
              "\n",
              "  @keyframes spin {\n",
              "    0% {\n",
              "      border-color: transparent;\n",
              "      border-bottom-color: var(--fill-color);\n",
              "      border-left-color: var(--fill-color);\n",
              "    }\n",
              "    20% {\n",
              "      border-color: transparent;\n",
              "      border-left-color: var(--fill-color);\n",
              "      border-top-color: var(--fill-color);\n",
              "    }\n",
              "    30% {\n",
              "      border-color: transparent;\n",
              "      border-left-color: var(--fill-color);\n",
              "      border-top-color: var(--fill-color);\n",
              "      border-right-color: var(--fill-color);\n",
              "    }\n",
              "    40% {\n",
              "      border-color: transparent;\n",
              "      border-right-color: var(--fill-color);\n",
              "      border-top-color: var(--fill-color);\n",
              "    }\n",
              "    60% {\n",
              "      border-color: transparent;\n",
              "      border-right-color: var(--fill-color);\n",
              "    }\n",
              "    80% {\n",
              "      border-color: transparent;\n",
              "      border-right-color: var(--fill-color);\n",
              "      border-bottom-color: var(--fill-color);\n",
              "    }\n",
              "    90% {\n",
              "      border-color: transparent;\n",
              "      border-bottom-color: var(--fill-color);\n",
              "    }\n",
              "  }\n",
              "</style>\n",
              "\n",
              "  <script>\n",
              "    async function quickchart(key) {\n",
              "      const quickchartButtonEl =\n",
              "        document.querySelector('#' + key + ' button');\n",
              "      quickchartButtonEl.disabled = true;  // To prevent multiple clicks.\n",
              "      quickchartButtonEl.classList.add('colab-df-spinner');\n",
              "      try {\n",
              "        const charts = await google.colab.kernel.invokeFunction(\n",
              "            'suggestCharts', [key], {});\n",
              "      } catch (error) {\n",
              "        console.error('Error during call to suggestCharts:', error);\n",
              "      }\n",
              "      quickchartButtonEl.classList.remove('colab-df-spinner');\n",
              "      quickchartButtonEl.classList.add('colab-df-quickchart-complete');\n",
              "    }\n",
              "    (() => {\n",
              "      let quickchartButtonEl =\n",
              "        document.querySelector('#df-b9b6690c-e5c1-4098-b97e-cf066c7f3887 button');\n",
              "      quickchartButtonEl.style.display =\n",
              "        google.colab.kernel.accessAllowed ? 'block' : 'none';\n",
              "    })();\n",
              "  </script>\n",
              "</div>\n",
              "\n",
              "    </div>\n",
              "  </div>\n"
            ],
            "application/vnd.google.colaboratory.intrinsic+json": {
              "type": "dataframe",
              "summary": "{\n  \"name\": \"diabetes_data\",\n  \"rows\": 8,\n  \"fields\": [\n    {\n      \"column\": \"Pregnancies\",\n      \"properties\": {\n        \"dtype\": \"number\",\n        \"std\": 269.85223453356366,\n        \"min\": 0.0,\n        \"max\": 768.0,\n        \"num_unique_values\": 8,\n        \"samples\": [\n          3.8450520833333335,\n          3.0,\n          768.0\n        ],\n        \"semantic_type\": \"\",\n        \"description\": \"\"\n      }\n    },\n    {\n      \"column\": \"Glucose\",\n      \"properties\": {\n        \"dtype\": \"number\",\n        \"std\": 243.73802348295857,\n        \"min\": 0.0,\n        \"max\": 768.0,\n        \"num_unique_values\": 8,\n        \"samples\": [\n          120.89453125,\n          117.0,\n          768.0\n        ],\n        \"semantic_type\": \"\",\n        \"description\": \"\"\n      }\n    },\n    {\n      \"column\": \"BloodPressure\",\n      \"properties\": {\n        \"dtype\": \"number\",\n        \"std\": 252.8525053581062,\n        \"min\": 0.0,\n        \"max\": 768.0,\n        \"num_unique_values\": 8,\n        \"samples\": [\n          69.10546875,\n          72.0,\n          768.0\n        ],\n        \"semantic_type\": \"\",\n        \"description\": \"\"\n      }\n    },\n    {\n      \"column\": \"SkinThickness\",\n      \"properties\": {\n        \"dtype\": \"number\",\n        \"std\": 263.7684730531098,\n        \"min\": 0.0,\n        \"max\": 768.0,\n        \"num_unique_values\": 7,\n        \"samples\": [\n          768.0,\n          20.536458333333332,\n          32.0\n        ],\n        \"semantic_type\": \"\",\n        \"description\": \"\"\n      }\n    },\n    {\n      \"column\": \"Insulin\",\n      \"properties\": {\n        \"dtype\": \"number\",\n        \"std\": 350.26059167945886,\n        \"min\": 0.0,\n        \"max\": 846.0,\n        \"num_unique_values\": 7,\n        \"samples\": [\n          768.0,\n          79.79947916666667,\n          127.25\n        ],\n        \"semantic_type\": \"\",\n        \"description\": \"\"\n      }\n    },\n    {\n      \"column\": \"BMI\",\n      \"properties\": {\n        \"dtype\": \"number\",\n        \"std\": 262.05117817552093,\n        \"min\": 0.0,\n        \"max\": 768.0,\n        \"num_unique_values\": 8,\n        \"samples\": [\n          31.992578124999998,\n          32.0,\n          768.0\n        ],\n        \"semantic_type\": \"\",\n        \"description\": \"\"\n      }\n    },\n    {\n      \"column\": \"DiabetesPedigreeFunction\",\n      \"properties\": {\n        \"dtype\": \"number\",\n        \"std\": 271.3005221658502,\n        \"min\": 0.078,\n        \"max\": 768.0,\n        \"num_unique_values\": 8,\n        \"samples\": [\n          0.47187630208333325,\n          0.3725,\n          768.0\n        ],\n        \"semantic_type\": \"\",\n        \"description\": \"\"\n      }\n    },\n    {\n      \"column\": \"Age\",\n      \"properties\": {\n        \"dtype\": \"number\",\n        \"std\": 260.1941178528413,\n        \"min\": 11.760231540678685,\n        \"max\": 768.0,\n        \"num_unique_values\": 8,\n        \"samples\": [\n          33.240885416666664,\n          29.0,\n          768.0\n        ],\n        \"semantic_type\": \"\",\n        \"description\": \"\"\n      }\n    },\n    {\n      \"column\": \"Outcome\",\n      \"properties\": {\n        \"dtype\": \"number\",\n        \"std\": 271.3865920388932,\n        \"min\": 0.0,\n        \"max\": 768.0,\n        \"num_unique_values\": 5,\n        \"samples\": [\n          0.3489583333333333,\n          1.0,\n          0.47695137724279896\n        ],\n        \"semantic_type\": \"\",\n        \"description\": \"\"\n      }\n    }\n  ]\n}"
            }
          },
          "metadata": {},
          "execution_count": 41
        }
      ]
    },
    {
      "cell_type": "code",
      "source": [
        "diabetes_data['Outcome'].value_counts()"
      ],
      "metadata": {
        "colab": {
          "base_uri": "https://localhost:8080/"
        },
        "id": "KXBT9xgSkiKj",
        "outputId": "a8a3677f-48a3-4415-fb5e-a81d8ee6b598"
      },
      "execution_count": null,
      "outputs": [
        {
          "output_type": "execute_result",
          "data": {
            "text/plain": [
              "Outcome\n",
              "0    500\n",
              "1    268\n",
              "Name: count, dtype: int64"
            ]
          },
          "metadata": {},
          "execution_count": 43
        }
      ]
    },
    {
      "cell_type": "markdown",
      "source": [
        "0 --> Non-diabetic\n",
        "\n",
        "1 --> Diabetic"
      ],
      "metadata": {
        "id": "4u0_boP5kr3g"
      }
    },
    {
      "cell_type": "code",
      "source": [
        "diabetes_data.groupby('Outcome').mean()"
      ],
      "metadata": {
        "colab": {
          "base_uri": "https://localhost:8080/",
          "height": 163
        },
        "id": "X_QfyYxCko1B",
        "outputId": "43e55dd6-4287-4594-c21c-44cf5606122b"
      },
      "execution_count": null,
      "outputs": [
        {
          "output_type": "execute_result",
          "data": {
            "text/plain": [
              "         Pregnancies     Glucose  BloodPressure  SkinThickness     Insulin  \\\n",
              "Outcome                                                                      \n",
              "0           3.298000  109.980000      68.184000      19.664000   68.792000   \n",
              "1           4.865672  141.257463      70.824627      22.164179  100.335821   \n",
              "\n",
              "               BMI  DiabetesPedigreeFunction        Age  \n",
              "Outcome                                                  \n",
              "0        30.304200                  0.429734  31.190000  \n",
              "1        35.142537                  0.550500  37.067164  "
            ],
            "text/html": [
              "\n",
              "  <div id=\"df-0949a770-881f-4e88-8762-f6a0e3bb1886\" class=\"colab-df-container\">\n",
              "    <div>\n",
              "<style scoped>\n",
              "    .dataframe tbody tr th:only-of-type {\n",
              "        vertical-align: middle;\n",
              "    }\n",
              "\n",
              "    .dataframe tbody tr th {\n",
              "        vertical-align: top;\n",
              "    }\n",
              "\n",
              "    .dataframe thead th {\n",
              "        text-align: right;\n",
              "    }\n",
              "</style>\n",
              "<table border=\"1\" class=\"dataframe\">\n",
              "  <thead>\n",
              "    <tr style=\"text-align: right;\">\n",
              "      <th></th>\n",
              "      <th>Pregnancies</th>\n",
              "      <th>Glucose</th>\n",
              "      <th>BloodPressure</th>\n",
              "      <th>SkinThickness</th>\n",
              "      <th>Insulin</th>\n",
              "      <th>BMI</th>\n",
              "      <th>DiabetesPedigreeFunction</th>\n",
              "      <th>Age</th>\n",
              "    </tr>\n",
              "    <tr>\n",
              "      <th>Outcome</th>\n",
              "      <th></th>\n",
              "      <th></th>\n",
              "      <th></th>\n",
              "      <th></th>\n",
              "      <th></th>\n",
              "      <th></th>\n",
              "      <th></th>\n",
              "      <th></th>\n",
              "    </tr>\n",
              "  </thead>\n",
              "  <tbody>\n",
              "    <tr>\n",
              "      <th>0</th>\n",
              "      <td>3.298000</td>\n",
              "      <td>109.980000</td>\n",
              "      <td>68.184000</td>\n",
              "      <td>19.664000</td>\n",
              "      <td>68.792000</td>\n",
              "      <td>30.304200</td>\n",
              "      <td>0.429734</td>\n",
              "      <td>31.190000</td>\n",
              "    </tr>\n",
              "    <tr>\n",
              "      <th>1</th>\n",
              "      <td>4.865672</td>\n",
              "      <td>141.257463</td>\n",
              "      <td>70.824627</td>\n",
              "      <td>22.164179</td>\n",
              "      <td>100.335821</td>\n",
              "      <td>35.142537</td>\n",
              "      <td>0.550500</td>\n",
              "      <td>37.067164</td>\n",
              "    </tr>\n",
              "  </tbody>\n",
              "</table>\n",
              "</div>\n",
              "    <div class=\"colab-df-buttons\">\n",
              "\n",
              "  <div class=\"colab-df-container\">\n",
              "    <button class=\"colab-df-convert\" onclick=\"convertToInteractive('df-0949a770-881f-4e88-8762-f6a0e3bb1886')\"\n",
              "            title=\"Convert this dataframe to an interactive table.\"\n",
              "            style=\"display:none;\">\n",
              "\n",
              "  <svg xmlns=\"http://www.w3.org/2000/svg\" height=\"24px\" viewBox=\"0 -960 960 960\">\n",
              "    <path d=\"M120-120v-720h720v720H120Zm60-500h600v-160H180v160Zm220 220h160v-160H400v160Zm0 220h160v-160H400v160ZM180-400h160v-160H180v160Zm440 0h160v-160H620v160ZM180-180h160v-160H180v160Zm440 0h160v-160H620v160Z\"/>\n",
              "  </svg>\n",
              "    </button>\n",
              "\n",
              "  <style>\n",
              "    .colab-df-container {\n",
              "      display:flex;\n",
              "      gap: 12px;\n",
              "    }\n",
              "\n",
              "    .colab-df-convert {\n",
              "      background-color: #E8F0FE;\n",
              "      border: none;\n",
              "      border-radius: 50%;\n",
              "      cursor: pointer;\n",
              "      display: none;\n",
              "      fill: #1967D2;\n",
              "      height: 32px;\n",
              "      padding: 0 0 0 0;\n",
              "      width: 32px;\n",
              "    }\n",
              "\n",
              "    .colab-df-convert:hover {\n",
              "      background-color: #E2EBFA;\n",
              "      box-shadow: 0px 1px 2px rgba(60, 64, 67, 0.3), 0px 1px 3px 1px rgba(60, 64, 67, 0.15);\n",
              "      fill: #174EA6;\n",
              "    }\n",
              "\n",
              "    .colab-df-buttons div {\n",
              "      margin-bottom: 4px;\n",
              "    }\n",
              "\n",
              "    [theme=dark] .colab-df-convert {\n",
              "      background-color: #3B4455;\n",
              "      fill: #D2E3FC;\n",
              "    }\n",
              "\n",
              "    [theme=dark] .colab-df-convert:hover {\n",
              "      background-color: #434B5C;\n",
              "      box-shadow: 0px 1px 3px 1px rgba(0, 0, 0, 0.15);\n",
              "      filter: drop-shadow(0px 1px 2px rgba(0, 0, 0, 0.3));\n",
              "      fill: #FFFFFF;\n",
              "    }\n",
              "  </style>\n",
              "\n",
              "    <script>\n",
              "      const buttonEl =\n",
              "        document.querySelector('#df-0949a770-881f-4e88-8762-f6a0e3bb1886 button.colab-df-convert');\n",
              "      buttonEl.style.display =\n",
              "        google.colab.kernel.accessAllowed ? 'block' : 'none';\n",
              "\n",
              "      async function convertToInteractive(key) {\n",
              "        const element = document.querySelector('#df-0949a770-881f-4e88-8762-f6a0e3bb1886');\n",
              "        const dataTable =\n",
              "          await google.colab.kernel.invokeFunction('convertToInteractive',\n",
              "                                                    [key], {});\n",
              "        if (!dataTable) return;\n",
              "\n",
              "        const docLinkHtml = 'Like what you see? Visit the ' +\n",
              "          '<a target=\"_blank\" href=https://colab.research.google.com/notebooks/data_table.ipynb>data table notebook</a>'\n",
              "          + ' to learn more about interactive tables.';\n",
              "        element.innerHTML = '';\n",
              "        dataTable['output_type'] = 'display_data';\n",
              "        await google.colab.output.renderOutput(dataTable, element);\n",
              "        const docLink = document.createElement('div');\n",
              "        docLink.innerHTML = docLinkHtml;\n",
              "        element.appendChild(docLink);\n",
              "      }\n",
              "    </script>\n",
              "  </div>\n",
              "\n",
              "\n",
              "<div id=\"df-4c33d848-9db3-4a05-8157-52fe82d53278\">\n",
              "  <button class=\"colab-df-quickchart\" onclick=\"quickchart('df-4c33d848-9db3-4a05-8157-52fe82d53278')\"\n",
              "            title=\"Suggest charts\"\n",
              "            style=\"display:none;\">\n",
              "\n",
              "<svg xmlns=\"http://www.w3.org/2000/svg\" height=\"24px\"viewBox=\"0 0 24 24\"\n",
              "     width=\"24px\">\n",
              "    <g>\n",
              "        <path d=\"M19 3H5c-1.1 0-2 .9-2 2v14c0 1.1.9 2 2 2h14c1.1 0 2-.9 2-2V5c0-1.1-.9-2-2-2zM9 17H7v-7h2v7zm4 0h-2V7h2v10zm4 0h-2v-4h2v4z\"/>\n",
              "    </g>\n",
              "</svg>\n",
              "  </button>\n",
              "\n",
              "<style>\n",
              "  .colab-df-quickchart {\n",
              "      --bg-color: #E8F0FE;\n",
              "      --fill-color: #1967D2;\n",
              "      --hover-bg-color: #E2EBFA;\n",
              "      --hover-fill-color: #174EA6;\n",
              "      --disabled-fill-color: #AAA;\n",
              "      --disabled-bg-color: #DDD;\n",
              "  }\n",
              "\n",
              "  [theme=dark] .colab-df-quickchart {\n",
              "      --bg-color: #3B4455;\n",
              "      --fill-color: #D2E3FC;\n",
              "      --hover-bg-color: #434B5C;\n",
              "      --hover-fill-color: #FFFFFF;\n",
              "      --disabled-bg-color: #3B4455;\n",
              "      --disabled-fill-color: #666;\n",
              "  }\n",
              "\n",
              "  .colab-df-quickchart {\n",
              "    background-color: var(--bg-color);\n",
              "    border: none;\n",
              "    border-radius: 50%;\n",
              "    cursor: pointer;\n",
              "    display: none;\n",
              "    fill: var(--fill-color);\n",
              "    height: 32px;\n",
              "    padding: 0;\n",
              "    width: 32px;\n",
              "  }\n",
              "\n",
              "  .colab-df-quickchart:hover {\n",
              "    background-color: var(--hover-bg-color);\n",
              "    box-shadow: 0 1px 2px rgba(60, 64, 67, 0.3), 0 1px 3px 1px rgba(60, 64, 67, 0.15);\n",
              "    fill: var(--button-hover-fill-color);\n",
              "  }\n",
              "\n",
              "  .colab-df-quickchart-complete:disabled,\n",
              "  .colab-df-quickchart-complete:disabled:hover {\n",
              "    background-color: var(--disabled-bg-color);\n",
              "    fill: var(--disabled-fill-color);\n",
              "    box-shadow: none;\n",
              "  }\n",
              "\n",
              "  .colab-df-spinner {\n",
              "    border: 2px solid var(--fill-color);\n",
              "    border-color: transparent;\n",
              "    border-bottom-color: var(--fill-color);\n",
              "    animation:\n",
              "      spin 1s steps(1) infinite;\n",
              "  }\n",
              "\n",
              "  @keyframes spin {\n",
              "    0% {\n",
              "      border-color: transparent;\n",
              "      border-bottom-color: var(--fill-color);\n",
              "      border-left-color: var(--fill-color);\n",
              "    }\n",
              "    20% {\n",
              "      border-color: transparent;\n",
              "      border-left-color: var(--fill-color);\n",
              "      border-top-color: var(--fill-color);\n",
              "    }\n",
              "    30% {\n",
              "      border-color: transparent;\n",
              "      border-left-color: var(--fill-color);\n",
              "      border-top-color: var(--fill-color);\n",
              "      border-right-color: var(--fill-color);\n",
              "    }\n",
              "    40% {\n",
              "      border-color: transparent;\n",
              "      border-right-color: var(--fill-color);\n",
              "      border-top-color: var(--fill-color);\n",
              "    }\n",
              "    60% {\n",
              "      border-color: transparent;\n",
              "      border-right-color: var(--fill-color);\n",
              "    }\n",
              "    80% {\n",
              "      border-color: transparent;\n",
              "      border-right-color: var(--fill-color);\n",
              "      border-bottom-color: var(--fill-color);\n",
              "    }\n",
              "    90% {\n",
              "      border-color: transparent;\n",
              "      border-bottom-color: var(--fill-color);\n",
              "    }\n",
              "  }\n",
              "</style>\n",
              "\n",
              "  <script>\n",
              "    async function quickchart(key) {\n",
              "      const quickchartButtonEl =\n",
              "        document.querySelector('#' + key + ' button');\n",
              "      quickchartButtonEl.disabled = true;  // To prevent multiple clicks.\n",
              "      quickchartButtonEl.classList.add('colab-df-spinner');\n",
              "      try {\n",
              "        const charts = await google.colab.kernel.invokeFunction(\n",
              "            'suggestCharts', [key], {});\n",
              "      } catch (error) {\n",
              "        console.error('Error during call to suggestCharts:', error);\n",
              "      }\n",
              "      quickchartButtonEl.classList.remove('colab-df-spinner');\n",
              "      quickchartButtonEl.classList.add('colab-df-quickchart-complete');\n",
              "    }\n",
              "    (() => {\n",
              "      let quickchartButtonEl =\n",
              "        document.querySelector('#df-4c33d848-9db3-4a05-8157-52fe82d53278 button');\n",
              "      quickchartButtonEl.style.display =\n",
              "        google.colab.kernel.accessAllowed ? 'block' : 'none';\n",
              "    })();\n",
              "  </script>\n",
              "</div>\n",
              "\n",
              "    </div>\n",
              "  </div>\n"
            ],
            "application/vnd.google.colaboratory.intrinsic+json": {
              "type": "dataframe",
              "summary": "{\n  \"name\": \"diabetes_data\",\n  \"rows\": 2,\n  \"fields\": [\n    {\n      \"column\": \"Outcome\",\n      \"properties\": {\n        \"dtype\": \"number\",\n        \"std\": 0,\n        \"min\": 0,\n        \"max\": 1,\n        \"num_unique_values\": 2,\n        \"samples\": [\n          1,\n          0\n        ],\n        \"semantic_type\": \"\",\n        \"description\": \"\"\n      }\n    },\n    {\n      \"column\": \"Pregnancies\",\n      \"properties\": {\n        \"dtype\": \"number\",\n        \"std\": 1.108511248584296,\n        \"min\": 3.298,\n        \"max\": 4.865671641791045,\n        \"num_unique_values\": 2,\n        \"samples\": [\n          4.865671641791045,\n          3.298\n        ],\n        \"semantic_type\": \"\",\n        \"description\": \"\"\n      }\n    },\n    {\n      \"column\": \"Glucose\",\n      \"properties\": {\n        \"dtype\": \"number\",\n        \"std\": 22.116505963980842,\n        \"min\": 109.98,\n        \"max\": 141.25746268656715,\n        \"num_unique_values\": 2,\n        \"samples\": [\n          141.25746268656715,\n          109.98\n        ],\n        \"semantic_type\": \"\",\n        \"description\": \"\"\n      }\n    },\n    {\n      \"column\": \"BloodPressure\",\n      \"properties\": {\n        \"dtype\": \"number\",\n        \"std\": 1.8672051632998017,\n        \"min\": 68.184,\n        \"max\": 70.82462686567165,\n        \"num_unique_values\": 2,\n        \"samples\": [\n          70.82462686567165,\n          68.184\n        ],\n        \"semantic_type\": \"\",\n        \"description\": \"\"\n      }\n    },\n    {\n      \"column\": \"SkinThickness\",\n      \"properties\": {\n        \"dtype\": \"number\",\n        \"std\": 1.7678935989570275,\n        \"min\": 19.664,\n        \"max\": 22.16417910447761,\n        \"num_unique_values\": 2,\n        \"samples\": [\n          22.16417910447761,\n          19.664\n        ],\n        \"semantic_type\": \"\",\n        \"description\": \"\"\n      }\n    },\n    {\n      \"column\": \"Insulin\",\n      \"properties\": {\n        \"dtype\": \"number\",\n        \"std\": 22.304849659757796,\n        \"min\": 68.792,\n        \"max\": 100.33582089552239,\n        \"num_unique_values\": 2,\n        \"samples\": [\n          100.33582089552239,\n          68.792\n        ],\n        \"semantic_type\": \"\",\n        \"description\": \"\"\n      }\n    },\n    {\n      \"column\": \"BMI\",\n      \"properties\": {\n        \"dtype\": \"number\",\n        \"std\": 3.4212211239962618,\n        \"min\": 30.3042,\n        \"max\": 35.14253731343284,\n        \"num_unique_values\": 2,\n        \"samples\": [\n          35.14253731343284,\n          30.3042\n        ],\n        \"semantic_type\": \"\",\n        \"description\": \"\"\n      }\n    },\n    {\n      \"column\": \"DiabetesPedigreeFunction\",\n      \"properties\": {\n        \"dtype\": \"number\",\n        \"std\": 0.08539445753677459,\n        \"min\": 0.429734,\n        \"max\": 0.5505,\n        \"num_unique_values\": 2,\n        \"samples\": [\n          0.5505,\n          0.429734\n        ],\n        \"semantic_type\": \"\",\n        \"description\": \"\"\n      }\n    },\n    {\n      \"column\": \"Age\",\n      \"properties\": {\n        \"dtype\": \"number\",\n        \"std\": 4.155782645191446,\n        \"min\": 31.19,\n        \"max\": 37.06716417910448,\n        \"num_unique_values\": 2,\n        \"samples\": [\n          37.06716417910448,\n          31.19\n        ],\n        \"semantic_type\": \"\",\n        \"description\": \"\"\n      }\n    }\n  ]\n}"
            }
          },
          "metadata": {},
          "execution_count": 44
        }
      ]
    },
    {
      "cell_type": "markdown",
      "source": [
        "###Splitting"
      ],
      "metadata": {
        "id": "lQd5tD80lZlz"
      }
    },
    {
      "cell_type": "code",
      "source": [
        "features = diabetes_data.drop(columns = 'Outcome', axis=1)\n",
        "target = diabetes_data['Outcome']"
      ],
      "metadata": {
        "id": "TdlxX9xMlO83"
      },
      "execution_count": null,
      "outputs": []
    },
    {
      "cell_type": "code",
      "source": [
        "print(features)\n",
        "print(target)"
      ],
      "metadata": {
        "colab": {
          "base_uri": "https://localhost:8080/"
        },
        "id": "SycYHd0Zlv3i",
        "outputId": "bc450aaf-90bd-4d9a-8f16-d0adb8ab5ef0"
      },
      "execution_count": null,
      "outputs": [
        {
          "output_type": "stream",
          "name": "stdout",
          "text": [
            "     Pregnancies  Glucose  BloodPressure  SkinThickness  Insulin   BMI  \\\n",
            "0              6      148             72             35        0  33.6   \n",
            "1              1       85             66             29        0  26.6   \n",
            "2              8      183             64              0        0  23.3   \n",
            "3              1       89             66             23       94  28.1   \n",
            "4              0      137             40             35      168  43.1   \n",
            "..           ...      ...            ...            ...      ...   ...   \n",
            "763           10      101             76             48      180  32.9   \n",
            "764            2      122             70             27        0  36.8   \n",
            "765            5      121             72             23      112  26.2   \n",
            "766            1      126             60              0        0  30.1   \n",
            "767            1       93             70             31        0  30.4   \n",
            "\n",
            "     DiabetesPedigreeFunction  Age  \n",
            "0                       0.627   50  \n",
            "1                       0.351   31  \n",
            "2                       0.672   32  \n",
            "3                       0.167   21  \n",
            "4                       2.288   33  \n",
            "..                        ...  ...  \n",
            "763                     0.171   63  \n",
            "764                     0.340   27  \n",
            "765                     0.245   30  \n",
            "766                     0.349   47  \n",
            "767                     0.315   23  \n",
            "\n",
            "[768 rows x 8 columns]\n",
            "0      1\n",
            "1      0\n",
            "2      1\n",
            "3      0\n",
            "4      1\n",
            "      ..\n",
            "763    0\n",
            "764    0\n",
            "765    0\n",
            "766    1\n",
            "767    0\n",
            "Name: Outcome, Length: 768, dtype: int64\n"
          ]
        }
      ]
    },
    {
      "cell_type": "markdown",
      "source": [
        "**Standarization**"
      ],
      "metadata": {
        "id": "lXW4Ie33l8dn"
      }
    },
    {
      "cell_type": "code",
      "source": [
        "scaler = StandardScaler()"
      ],
      "metadata": {
        "id": "--JXzAL4l3b-"
      },
      "execution_count": null,
      "outputs": []
    },
    {
      "cell_type": "code",
      "source": [
        "scaler.fit(features)"
      ],
      "metadata": {
        "colab": {
          "base_uri": "https://localhost:8080/",
          "height": 75
        },
        "id": "a_czHkPJvyB3",
        "outputId": "ee2ca16b-5894-4e24-85a6-6aef389de188"
      },
      "execution_count": null,
      "outputs": [
        {
          "output_type": "execute_result",
          "data": {
            "text/plain": [
              "StandardScaler()"
            ],
            "text/html": [
              "<style>#sk-container-id-1 {color: black;background-color: white;}#sk-container-id-1 pre{padding: 0;}#sk-container-id-1 div.sk-toggleable {background-color: white;}#sk-container-id-1 label.sk-toggleable__label {cursor: pointer;display: block;width: 100%;margin-bottom: 0;padding: 0.3em;box-sizing: border-box;text-align: center;}#sk-container-id-1 label.sk-toggleable__label-arrow:before {content: \"▸\";float: left;margin-right: 0.25em;color: #696969;}#sk-container-id-1 label.sk-toggleable__label-arrow:hover:before {color: black;}#sk-container-id-1 div.sk-estimator:hover label.sk-toggleable__label-arrow:before {color: black;}#sk-container-id-1 div.sk-toggleable__content {max-height: 0;max-width: 0;overflow: hidden;text-align: left;background-color: #f0f8ff;}#sk-container-id-1 div.sk-toggleable__content pre {margin: 0.2em;color: black;border-radius: 0.25em;background-color: #f0f8ff;}#sk-container-id-1 input.sk-toggleable__control:checked~div.sk-toggleable__content {max-height: 200px;max-width: 100%;overflow: auto;}#sk-container-id-1 input.sk-toggleable__control:checked~label.sk-toggleable__label-arrow:before {content: \"▾\";}#sk-container-id-1 div.sk-estimator input.sk-toggleable__control:checked~label.sk-toggleable__label {background-color: #d4ebff;}#sk-container-id-1 div.sk-label input.sk-toggleable__control:checked~label.sk-toggleable__label {background-color: #d4ebff;}#sk-container-id-1 input.sk-hidden--visually {border: 0;clip: rect(1px 1px 1px 1px);clip: rect(1px, 1px, 1px, 1px);height: 1px;margin: -1px;overflow: hidden;padding: 0;position: absolute;width: 1px;}#sk-container-id-1 div.sk-estimator {font-family: monospace;background-color: #f0f8ff;border: 1px dotted black;border-radius: 0.25em;box-sizing: border-box;margin-bottom: 0.5em;}#sk-container-id-1 div.sk-estimator:hover {background-color: #d4ebff;}#sk-container-id-1 div.sk-parallel-item::after {content: \"\";width: 100%;border-bottom: 1px solid gray;flex-grow: 1;}#sk-container-id-1 div.sk-label:hover label.sk-toggleable__label {background-color: #d4ebff;}#sk-container-id-1 div.sk-serial::before {content: \"\";position: absolute;border-left: 1px solid gray;box-sizing: border-box;top: 0;bottom: 0;left: 50%;z-index: 0;}#sk-container-id-1 div.sk-serial {display: flex;flex-direction: column;align-items: center;background-color: white;padding-right: 0.2em;padding-left: 0.2em;position: relative;}#sk-container-id-1 div.sk-item {position: relative;z-index: 1;}#sk-container-id-1 div.sk-parallel {display: flex;align-items: stretch;justify-content: center;background-color: white;position: relative;}#sk-container-id-1 div.sk-item::before, #sk-container-id-1 div.sk-parallel-item::before {content: \"\";position: absolute;border-left: 1px solid gray;box-sizing: border-box;top: 0;bottom: 0;left: 50%;z-index: -1;}#sk-container-id-1 div.sk-parallel-item {display: flex;flex-direction: column;z-index: 1;position: relative;background-color: white;}#sk-container-id-1 div.sk-parallel-item:first-child::after {align-self: flex-end;width: 50%;}#sk-container-id-1 div.sk-parallel-item:last-child::after {align-self: flex-start;width: 50%;}#sk-container-id-1 div.sk-parallel-item:only-child::after {width: 0;}#sk-container-id-1 div.sk-dashed-wrapped {border: 1px dashed gray;margin: 0 0.4em 0.5em 0.4em;box-sizing: border-box;padding-bottom: 0.4em;background-color: white;}#sk-container-id-1 div.sk-label label {font-family: monospace;font-weight: bold;display: inline-block;line-height: 1.2em;}#sk-container-id-1 div.sk-label-container {text-align: center;}#sk-container-id-1 div.sk-container {/* jupyter's `normalize.less` sets `[hidden] { display: none; }` but bootstrap.min.css set `[hidden] { display: none !important; }` so we also need the `!important` here to be able to override the default hidden behavior on the sphinx rendered scikit-learn.org. See: https://github.com/scikit-learn/scikit-learn/issues/21755 */display: inline-block !important;position: relative;}#sk-container-id-1 div.sk-text-repr-fallback {display: none;}</style><div id=\"sk-container-id-1\" class=\"sk-top-container\"><div class=\"sk-text-repr-fallback\"><pre>StandardScaler()</pre><b>In a Jupyter environment, please rerun this cell to show the HTML representation or trust the notebook. <br />On GitHub, the HTML representation is unable to render, please try loading this page with nbviewer.org.</b></div><div class=\"sk-container\" hidden><div class=\"sk-item\"><div class=\"sk-estimator sk-toggleable\"><input class=\"sk-toggleable__control sk-hidden--visually\" id=\"sk-estimator-id-1\" type=\"checkbox\" checked><label for=\"sk-estimator-id-1\" class=\"sk-toggleable__label sk-toggleable__label-arrow\">StandardScaler</label><div class=\"sk-toggleable__content\"><pre>StandardScaler()</pre></div></div></div></div></div>"
            ]
          },
          "metadata": {},
          "execution_count": 49
        }
      ]
    },
    {
      "cell_type": "code",
      "source": [
        "standardized_data = scaler.transform(features)"
      ],
      "metadata": {
        "id": "G6J86rWVv0Wj"
      },
      "execution_count": null,
      "outputs": []
    },
    {
      "cell_type": "code",
      "source": [
        "print(standardized_data)"
      ],
      "metadata": {
        "colab": {
          "base_uri": "https://localhost:8080/"
        },
        "id": "Y7UFwFymv6Ds",
        "outputId": "201dd158-85c9-4d20-91f9-1bde3375b347"
      },
      "execution_count": null,
      "outputs": [
        {
          "output_type": "stream",
          "name": "stdout",
          "text": [
            "[[ 0.63994726  0.84832379  0.14964075 ...  0.20401277  0.46849198\n",
            "   1.4259954 ]\n",
            " [-0.84488505 -1.12339636 -0.16054575 ... -0.68442195 -0.36506078\n",
            "  -0.19067191]\n",
            " [ 1.23388019  1.94372388 -0.26394125 ... -1.10325546  0.60439732\n",
            "  -0.10558415]\n",
            " ...\n",
            " [ 0.3429808   0.00330087  0.14964075 ... -0.73518964 -0.68519336\n",
            "  -0.27575966]\n",
            " [-0.84488505  0.1597866  -0.47073225 ... -0.24020459 -0.37110101\n",
            "   1.17073215]\n",
            " [-0.84488505 -0.8730192   0.04624525 ... -0.20212881 -0.47378505\n",
            "  -0.87137393]]\n"
          ]
        }
      ]
    },
    {
      "cell_type": "code",
      "source": [
        "features = standardized_data\n",
        "target = diabetes_data['Outcome']"
      ],
      "metadata": {
        "id": "x-uK_v8Dv89n"
      },
      "execution_count": null,
      "outputs": []
    },
    {
      "cell_type": "code",
      "source": [
        "X_train, X_test, Y_train, Y_test = train_test_split(features,target, test_size = 0.2, random_state=2)"
      ],
      "metadata": {
        "id": "XfKW01OkwBjB"
      },
      "execution_count": null,
      "outputs": []
    },
    {
      "cell_type": "code",
      "source": [
        "print(features.shape, X_train.shape, X_test.shape)"
      ],
      "metadata": {
        "colab": {
          "base_uri": "https://localhost:8080/"
        },
        "id": "mwq71FiJwK3S",
        "outputId": "38d028c5-9564-4873-fc0f-3153faac0f61"
      },
      "execution_count": null,
      "outputs": [
        {
          "output_type": "stream",
          "name": "stdout",
          "text": [
            "(768, 8) (614, 8) (154, 8)\n"
          ]
        }
      ]
    },
    {
      "cell_type": "markdown",
      "source": [
        "###Training the model\n"
      ],
      "metadata": {
        "id": "GkD6LpdvwOhv"
      }
    },
    {
      "cell_type": "code",
      "source": [
        "classifier = Logistic_Regression(learning_rate=0.01, no_of_iterations=1000)"
      ],
      "metadata": {
        "id": "vrogGNCSwN4j"
      },
      "execution_count": null,
      "outputs": []
    },
    {
      "cell_type": "code",
      "source": [
        "classifier.fit(X_train, Y_train)"
      ],
      "metadata": {
        "id": "2XpRdYsWwWEu"
      },
      "execution_count": null,
      "outputs": []
    },
    {
      "cell_type": "markdown",
      "source": [
        "Model Evaluation"
      ],
      "metadata": {
        "id": "vdbcfCJvwb3e"
      }
    },
    {
      "cell_type": "code",
      "source": [
        "X_train_prediction = classifier.predict(X_train)\n",
        "training_data_accuracy = accuracy_score( Y_train, X_train_prediction)\n"
      ],
      "metadata": {
        "id": "wSWKJ6bywYOD"
      },
      "execution_count": null,
      "outputs": []
    },
    {
      "cell_type": "code",
      "source": [
        "X_test_prediction = classifier.predict(X_test)\n",
        "test_data_accuracy = accuracy_score( Y_test, X_test_prediction)"
      ],
      "metadata": {
        "id": "zk7iviHSwf3z"
      },
      "execution_count": null,
      "outputs": []
    },
    {
      "cell_type": "code",
      "source": [
        "print('Accuracy score of the training data : ', training_data_accuracy*100)\n",
        "print('Accuracy score of the test data : ', test_data_accuracy*100)"
      ],
      "metadata": {
        "colab": {
          "base_uri": "https://localhost:8080/"
        },
        "id": "EmEPx02vwkJZ",
        "outputId": "dc3ebff3-664a-43f6-9668-0b949ae727e2"
      },
      "execution_count": null,
      "outputs": [
        {
          "output_type": "stream",
          "name": "stdout",
          "text": [
            "Accuracy score of the training data :  77.68729641693811\n",
            "Accuracy score of the test data :  76.62337662337663\n"
          ]
        }
      ]
    },
    {
      "cell_type": "markdown",
      "source": [
        "###Making a predictive system"
      ],
      "metadata": {
        "id": "NuSzwC5IwqzC"
      }
    },
    {
      "cell_type": "code",
      "source": [
        "input_data = (5,166,72,19,175,25.8,0.587,51)\n",
        "\n",
        "# changing the input_data to numpy array\n",
        "input_data_as_numpy_array = np.asarray(input_data)\n",
        "\n",
        "# reshape the array as we are predicting for one instance\n",
        "input_data_reshaped = input_data_as_numpy_array.reshape(1,-1)\n",
        "\n",
        "# standardize the input data\n",
        "std_data = scaler.transform(input_data_reshaped)\n",
        "print(std_data)\n",
        "\n",
        "prediction = classifier.predict(std_data)\n",
        "print(prediction)\n",
        "\n",
        "if (prediction[0] == 0):\n",
        "  print('The person is not diabetic')\n",
        "else:\n",
        "  print('The person is diabetic')"
      ],
      "metadata": {
        "colab": {
          "base_uri": "https://localhost:8080/"
        },
        "id": "bzlhTdScwofP",
        "outputId": "c3f0363b-f1f4-40d7-ae51-0aa55d718908"
      },
      "execution_count": null,
      "outputs": [
        {
          "output_type": "stream",
          "name": "stdout",
          "text": [
            "[[ 0.3429808   1.41167241  0.14964075 -0.09637905  0.82661621 -0.78595734\n",
            "   0.34768723  1.51108316]]\n",
            "[1]\n",
            "The person is diabetic\n"
          ]
        },
        {
          "output_type": "stream",
          "name": "stderr",
          "text": [
            "/usr/local/lib/python3.10/dist-packages/sklearn/base.py:439: UserWarning: X does not have valid feature names, but StandardScaler was fitted with feature names\n",
            "  warnings.warn(\n"
          ]
        }
      ]
    },
    {
      "cell_type": "markdown",
      "source": [
        "#Support Vector Machine(SVM) Classifier"
      ],
      "metadata": {
        "id": "zw3KLOB63ucy"
      }
    },
    {
      "cell_type": "markdown",
      "source": [
        "1. Supervised Learning model\n",
        "2. Both classification(binary classification) and regression\n",
        "3. Hyperplane\n",
        "4. Support Vectors"
      ],
      "metadata": {
        "id": "FU5H7aTg4C3D"
      }
    },
    {
      "cell_type": "markdown",
      "source": [
        "**SVM Classifier**\n",
        "\n",
        "Equation of the Hyperplane:\n",
        "\n",
        "y = wx - b\n",
        "\n",
        "**Gradient Descent:**\n",
        "\n",
        "Gradient Descent is an optimization algorithm used for minimizing the loss function in various machine learning algorithms. It is used for updating the parameters of the learning model.\n",
        "\n",
        "w = w - α*dw\n",
        "\n",
        "b = b - α*db\n",
        "\n",
        "**Learning Rate:**\n",
        "\n",
        "Learning rate is a tuning parameter in an optimization algorithm that determines the step size at each iteration while moving toward a minimum of a loss function."
      ],
      "metadata": {
        "id": "WwHU6LY5HiBN"
      }
    },
    {
      "cell_type": "markdown",
      "source": [
        "##Support vector machine classifier"
      ],
      "metadata": {
        "id": "9CzF0qrWH4a4"
      }
    },
    {
      "cell_type": "code",
      "source": [
        "import numpy as np"
      ],
      "metadata": {
        "id": "g8Car31kwxTU"
      },
      "execution_count": 1,
      "outputs": []
    },
    {
      "cell_type": "code",
      "source": [
        "class SVM_classifier():\n",
        "\n",
        "\n",
        "  # initiating the hyperparameters\n",
        "  def __init__(self, learning_rate, no_of_iterations, lambda_parameter):\n",
        "\n",
        "    self.learning_rate = learning_rate\n",
        "    self.no_of_iterations = no_of_iterations\n",
        "    self.lambda_parameter = lambda_parameter\n",
        "\n",
        "  # fitting the dataset to SVM Classifier\n",
        "  def fit(self, X, Y):\n",
        "\n",
        "    # m  --> number of Data points --> number of rows\n",
        "    # n  --> number of input features --> number of columns\n",
        "    self.m, self.n = X.shape\n",
        "\n",
        "    # initiating the weight value and bias value\n",
        "\n",
        "    self.w = np.zeros(self.n)\n",
        "\n",
        "    self.b = 0\n",
        "\n",
        "    self.X = X\n",
        "\n",
        "    self.Y = Y\n",
        "\n",
        "    # implementing Gradient Descent algorithm for Optimization\n",
        "\n",
        "    for i in range(self.no_of_iterations):\n",
        "      self.update_weights()\n",
        "\n",
        "  # function for updating the weight and bias value\n",
        "  def update_weights(self):\n",
        "\n",
        "    # label encoding\n",
        "    y_label = np.where(self.Y <= 0, -1, 1)\n",
        "\n",
        "\n",
        "\n",
        "    # gradients ( dw, db)\n",
        "    for index, x_i in enumerate(self.X):\n",
        "\n",
        "      condition = y_label[index] * (np.dot(x_i, self.w) - self.b) >= 1\n",
        "\n",
        "      if (condition == True):\n",
        "\n",
        "        dw = 2 * self.lambda_parameter * self.w\n",
        "        db = 0\n",
        "\n",
        "      else:\n",
        "\n",
        "        dw = 2 * self.lambda_parameter * self.w - np.dot(x_i, y_label[index])\n",
        "        db = y_label[index]\n",
        "\n",
        "        self.w = self.w - self.learning_rate * dw\n",
        "        self.b = self.b - self.learning_rate * db\n",
        "\n",
        "  # prediction function\n",
        "  def predict(self, X):\n",
        "    output = np.dot(X, self.w) - self.b\n",
        "\n",
        "    predicted_labels = np.sign(output)\n",
        "\n",
        "    y_hat = np.where(predicted_labels <= -1, 0, 1)\n",
        "\n",
        "    return y_hat"
      ],
      "metadata": {
        "id": "V_E92dPoICk8"
      },
      "execution_count": 31,
      "outputs": []
    },
    {
      "cell_type": "markdown",
      "source": [
        "##Implementing SVM_Classifier() model"
      ],
      "metadata": {
        "id": "z6wrY3OaJA4a"
      }
    },
    {
      "cell_type": "code",
      "source": [
        "import pandas as pd\n",
        "from sklearn.preprocessing import StandardScaler\n",
        "from sklearn.model_selection import train_test_split\n",
        "from sklearn.metrics import accuracy_score"
      ],
      "metadata": {
        "id": "q4ETBmq9IxX_"
      },
      "execution_count": 4,
      "outputs": []
    },
    {
      "cell_type": "markdown",
      "source": [
        "###Data Processing"
      ],
      "metadata": {
        "id": "tI7FagCpL6ua"
      }
    },
    {
      "cell_type": "code",
      "source": [
        "diabetes_data = pd.read_csv('/content/drive/MyDrive/diabetes.csv')"
      ],
      "metadata": {
        "id": "jXqP4Vw_L6DW"
      },
      "execution_count": 5,
      "outputs": []
    },
    {
      "cell_type": "code",
      "source": [
        "diabetes_data.head()"
      ],
      "metadata": {
        "colab": {
          "base_uri": "https://localhost:8080/",
          "height": 206
        },
        "id": "HI32LCgyMCNA",
        "outputId": "f8c98d3f-5bea-41eb-c7ae-f0490f4dd210"
      },
      "execution_count": 6,
      "outputs": [
        {
          "output_type": "execute_result",
          "data": {
            "text/plain": [
              "   Pregnancies  Glucose  BloodPressure  SkinThickness  Insulin   BMI  \\\n",
              "0            6      148             72             35        0  33.6   \n",
              "1            1       85             66             29        0  26.6   \n",
              "2            8      183             64              0        0  23.3   \n",
              "3            1       89             66             23       94  28.1   \n",
              "4            0      137             40             35      168  43.1   \n",
              "\n",
              "   DiabetesPedigreeFunction  Age  Outcome  \n",
              "0                     0.627   50        1  \n",
              "1                     0.351   31        0  \n",
              "2                     0.672   32        1  \n",
              "3                     0.167   21        0  \n",
              "4                     2.288   33        1  "
            ],
            "text/html": [
              "\n",
              "  <div id=\"df-4a9ba721-e905-47cd-aa1d-3fa4daaa6391\" class=\"colab-df-container\">\n",
              "    <div>\n",
              "<style scoped>\n",
              "    .dataframe tbody tr th:only-of-type {\n",
              "        vertical-align: middle;\n",
              "    }\n",
              "\n",
              "    .dataframe tbody tr th {\n",
              "        vertical-align: top;\n",
              "    }\n",
              "\n",
              "    .dataframe thead th {\n",
              "        text-align: right;\n",
              "    }\n",
              "</style>\n",
              "<table border=\"1\" class=\"dataframe\">\n",
              "  <thead>\n",
              "    <tr style=\"text-align: right;\">\n",
              "      <th></th>\n",
              "      <th>Pregnancies</th>\n",
              "      <th>Glucose</th>\n",
              "      <th>BloodPressure</th>\n",
              "      <th>SkinThickness</th>\n",
              "      <th>Insulin</th>\n",
              "      <th>BMI</th>\n",
              "      <th>DiabetesPedigreeFunction</th>\n",
              "      <th>Age</th>\n",
              "      <th>Outcome</th>\n",
              "    </tr>\n",
              "  </thead>\n",
              "  <tbody>\n",
              "    <tr>\n",
              "      <th>0</th>\n",
              "      <td>6</td>\n",
              "      <td>148</td>\n",
              "      <td>72</td>\n",
              "      <td>35</td>\n",
              "      <td>0</td>\n",
              "      <td>33.6</td>\n",
              "      <td>0.627</td>\n",
              "      <td>50</td>\n",
              "      <td>1</td>\n",
              "    </tr>\n",
              "    <tr>\n",
              "      <th>1</th>\n",
              "      <td>1</td>\n",
              "      <td>85</td>\n",
              "      <td>66</td>\n",
              "      <td>29</td>\n",
              "      <td>0</td>\n",
              "      <td>26.6</td>\n",
              "      <td>0.351</td>\n",
              "      <td>31</td>\n",
              "      <td>0</td>\n",
              "    </tr>\n",
              "    <tr>\n",
              "      <th>2</th>\n",
              "      <td>8</td>\n",
              "      <td>183</td>\n",
              "      <td>64</td>\n",
              "      <td>0</td>\n",
              "      <td>0</td>\n",
              "      <td>23.3</td>\n",
              "      <td>0.672</td>\n",
              "      <td>32</td>\n",
              "      <td>1</td>\n",
              "    </tr>\n",
              "    <tr>\n",
              "      <th>3</th>\n",
              "      <td>1</td>\n",
              "      <td>89</td>\n",
              "      <td>66</td>\n",
              "      <td>23</td>\n",
              "      <td>94</td>\n",
              "      <td>28.1</td>\n",
              "      <td>0.167</td>\n",
              "      <td>21</td>\n",
              "      <td>0</td>\n",
              "    </tr>\n",
              "    <tr>\n",
              "      <th>4</th>\n",
              "      <td>0</td>\n",
              "      <td>137</td>\n",
              "      <td>40</td>\n",
              "      <td>35</td>\n",
              "      <td>168</td>\n",
              "      <td>43.1</td>\n",
              "      <td>2.288</td>\n",
              "      <td>33</td>\n",
              "      <td>1</td>\n",
              "    </tr>\n",
              "  </tbody>\n",
              "</table>\n",
              "</div>\n",
              "    <div class=\"colab-df-buttons\">\n",
              "\n",
              "  <div class=\"colab-df-container\">\n",
              "    <button class=\"colab-df-convert\" onclick=\"convertToInteractive('df-4a9ba721-e905-47cd-aa1d-3fa4daaa6391')\"\n",
              "            title=\"Convert this dataframe to an interactive table.\"\n",
              "            style=\"display:none;\">\n",
              "\n",
              "  <svg xmlns=\"http://www.w3.org/2000/svg\" height=\"24px\" viewBox=\"0 -960 960 960\">\n",
              "    <path d=\"M120-120v-720h720v720H120Zm60-500h600v-160H180v160Zm220 220h160v-160H400v160Zm0 220h160v-160H400v160ZM180-400h160v-160H180v160Zm440 0h160v-160H620v160ZM180-180h160v-160H180v160Zm440 0h160v-160H620v160Z\"/>\n",
              "  </svg>\n",
              "    </button>\n",
              "\n",
              "  <style>\n",
              "    .colab-df-container {\n",
              "      display:flex;\n",
              "      gap: 12px;\n",
              "    }\n",
              "\n",
              "    .colab-df-convert {\n",
              "      background-color: #E8F0FE;\n",
              "      border: none;\n",
              "      border-radius: 50%;\n",
              "      cursor: pointer;\n",
              "      display: none;\n",
              "      fill: #1967D2;\n",
              "      height: 32px;\n",
              "      padding: 0 0 0 0;\n",
              "      width: 32px;\n",
              "    }\n",
              "\n",
              "    .colab-df-convert:hover {\n",
              "      background-color: #E2EBFA;\n",
              "      box-shadow: 0px 1px 2px rgba(60, 64, 67, 0.3), 0px 1px 3px 1px rgba(60, 64, 67, 0.15);\n",
              "      fill: #174EA6;\n",
              "    }\n",
              "\n",
              "    .colab-df-buttons div {\n",
              "      margin-bottom: 4px;\n",
              "    }\n",
              "\n",
              "    [theme=dark] .colab-df-convert {\n",
              "      background-color: #3B4455;\n",
              "      fill: #D2E3FC;\n",
              "    }\n",
              "\n",
              "    [theme=dark] .colab-df-convert:hover {\n",
              "      background-color: #434B5C;\n",
              "      box-shadow: 0px 1px 3px 1px rgba(0, 0, 0, 0.15);\n",
              "      filter: drop-shadow(0px 1px 2px rgba(0, 0, 0, 0.3));\n",
              "      fill: #FFFFFF;\n",
              "    }\n",
              "  </style>\n",
              "\n",
              "    <script>\n",
              "      const buttonEl =\n",
              "        document.querySelector('#df-4a9ba721-e905-47cd-aa1d-3fa4daaa6391 button.colab-df-convert');\n",
              "      buttonEl.style.display =\n",
              "        google.colab.kernel.accessAllowed ? 'block' : 'none';\n",
              "\n",
              "      async function convertToInteractive(key) {\n",
              "        const element = document.querySelector('#df-4a9ba721-e905-47cd-aa1d-3fa4daaa6391');\n",
              "        const dataTable =\n",
              "          await google.colab.kernel.invokeFunction('convertToInteractive',\n",
              "                                                    [key], {});\n",
              "        if (!dataTable) return;\n",
              "\n",
              "        const docLinkHtml = 'Like what you see? Visit the ' +\n",
              "          '<a target=\"_blank\" href=https://colab.research.google.com/notebooks/data_table.ipynb>data table notebook</a>'\n",
              "          + ' to learn more about interactive tables.';\n",
              "        element.innerHTML = '';\n",
              "        dataTable['output_type'] = 'display_data';\n",
              "        await google.colab.output.renderOutput(dataTable, element);\n",
              "        const docLink = document.createElement('div');\n",
              "        docLink.innerHTML = docLinkHtml;\n",
              "        element.appendChild(docLink);\n",
              "      }\n",
              "    </script>\n",
              "  </div>\n",
              "\n",
              "\n",
              "<div id=\"df-d105039d-52d8-4246-a5a9-f8c1dc193862\">\n",
              "  <button class=\"colab-df-quickchart\" onclick=\"quickchart('df-d105039d-52d8-4246-a5a9-f8c1dc193862')\"\n",
              "            title=\"Suggest charts\"\n",
              "            style=\"display:none;\">\n",
              "\n",
              "<svg xmlns=\"http://www.w3.org/2000/svg\" height=\"24px\"viewBox=\"0 0 24 24\"\n",
              "     width=\"24px\">\n",
              "    <g>\n",
              "        <path d=\"M19 3H5c-1.1 0-2 .9-2 2v14c0 1.1.9 2 2 2h14c1.1 0 2-.9 2-2V5c0-1.1-.9-2-2-2zM9 17H7v-7h2v7zm4 0h-2V7h2v10zm4 0h-2v-4h2v4z\"/>\n",
              "    </g>\n",
              "</svg>\n",
              "  </button>\n",
              "\n",
              "<style>\n",
              "  .colab-df-quickchart {\n",
              "      --bg-color: #E8F0FE;\n",
              "      --fill-color: #1967D2;\n",
              "      --hover-bg-color: #E2EBFA;\n",
              "      --hover-fill-color: #174EA6;\n",
              "      --disabled-fill-color: #AAA;\n",
              "      --disabled-bg-color: #DDD;\n",
              "  }\n",
              "\n",
              "  [theme=dark] .colab-df-quickchart {\n",
              "      --bg-color: #3B4455;\n",
              "      --fill-color: #D2E3FC;\n",
              "      --hover-bg-color: #434B5C;\n",
              "      --hover-fill-color: #FFFFFF;\n",
              "      --disabled-bg-color: #3B4455;\n",
              "      --disabled-fill-color: #666;\n",
              "  }\n",
              "\n",
              "  .colab-df-quickchart {\n",
              "    background-color: var(--bg-color);\n",
              "    border: none;\n",
              "    border-radius: 50%;\n",
              "    cursor: pointer;\n",
              "    display: none;\n",
              "    fill: var(--fill-color);\n",
              "    height: 32px;\n",
              "    padding: 0;\n",
              "    width: 32px;\n",
              "  }\n",
              "\n",
              "  .colab-df-quickchart:hover {\n",
              "    background-color: var(--hover-bg-color);\n",
              "    box-shadow: 0 1px 2px rgba(60, 64, 67, 0.3), 0 1px 3px 1px rgba(60, 64, 67, 0.15);\n",
              "    fill: var(--button-hover-fill-color);\n",
              "  }\n",
              "\n",
              "  .colab-df-quickchart-complete:disabled,\n",
              "  .colab-df-quickchart-complete:disabled:hover {\n",
              "    background-color: var(--disabled-bg-color);\n",
              "    fill: var(--disabled-fill-color);\n",
              "    box-shadow: none;\n",
              "  }\n",
              "\n",
              "  .colab-df-spinner {\n",
              "    border: 2px solid var(--fill-color);\n",
              "    border-color: transparent;\n",
              "    border-bottom-color: var(--fill-color);\n",
              "    animation:\n",
              "      spin 1s steps(1) infinite;\n",
              "  }\n",
              "\n",
              "  @keyframes spin {\n",
              "    0% {\n",
              "      border-color: transparent;\n",
              "      border-bottom-color: var(--fill-color);\n",
              "      border-left-color: var(--fill-color);\n",
              "    }\n",
              "    20% {\n",
              "      border-color: transparent;\n",
              "      border-left-color: var(--fill-color);\n",
              "      border-top-color: var(--fill-color);\n",
              "    }\n",
              "    30% {\n",
              "      border-color: transparent;\n",
              "      border-left-color: var(--fill-color);\n",
              "      border-top-color: var(--fill-color);\n",
              "      border-right-color: var(--fill-color);\n",
              "    }\n",
              "    40% {\n",
              "      border-color: transparent;\n",
              "      border-right-color: var(--fill-color);\n",
              "      border-top-color: var(--fill-color);\n",
              "    }\n",
              "    60% {\n",
              "      border-color: transparent;\n",
              "      border-right-color: var(--fill-color);\n",
              "    }\n",
              "    80% {\n",
              "      border-color: transparent;\n",
              "      border-right-color: var(--fill-color);\n",
              "      border-bottom-color: var(--fill-color);\n",
              "    }\n",
              "    90% {\n",
              "      border-color: transparent;\n",
              "      border-bottom-color: var(--fill-color);\n",
              "    }\n",
              "  }\n",
              "</style>\n",
              "\n",
              "  <script>\n",
              "    async function quickchart(key) {\n",
              "      const quickchartButtonEl =\n",
              "        document.querySelector('#' + key + ' button');\n",
              "      quickchartButtonEl.disabled = true;  // To prevent multiple clicks.\n",
              "      quickchartButtonEl.classList.add('colab-df-spinner');\n",
              "      try {\n",
              "        const charts = await google.colab.kernel.invokeFunction(\n",
              "            'suggestCharts', [key], {});\n",
              "      } catch (error) {\n",
              "        console.error('Error during call to suggestCharts:', error);\n",
              "      }\n",
              "      quickchartButtonEl.classList.remove('colab-df-spinner');\n",
              "      quickchartButtonEl.classList.add('colab-df-quickchart-complete');\n",
              "    }\n",
              "    (() => {\n",
              "      let quickchartButtonEl =\n",
              "        document.querySelector('#df-d105039d-52d8-4246-a5a9-f8c1dc193862 button');\n",
              "      quickchartButtonEl.style.display =\n",
              "        google.colab.kernel.accessAllowed ? 'block' : 'none';\n",
              "    })();\n",
              "  </script>\n",
              "</div>\n",
              "\n",
              "    </div>\n",
              "  </div>\n"
            ],
            "application/vnd.google.colaboratory.intrinsic+json": {
              "type": "dataframe",
              "variable_name": "diabetes_data",
              "summary": "{\n  \"name\": \"diabetes_data\",\n  \"rows\": 768,\n  \"fields\": [\n    {\n      \"column\": \"Pregnancies\",\n      \"properties\": {\n        \"dtype\": \"number\",\n        \"std\": 3,\n        \"min\": 0,\n        \"max\": 17,\n        \"num_unique_values\": 17,\n        \"samples\": [\n          6,\n          1,\n          3\n        ],\n        \"semantic_type\": \"\",\n        \"description\": \"\"\n      }\n    },\n    {\n      \"column\": \"Glucose\",\n      \"properties\": {\n        \"dtype\": \"number\",\n        \"std\": 31,\n        \"min\": 0,\n        \"max\": 199,\n        \"num_unique_values\": 136,\n        \"samples\": [\n          151,\n          101,\n          112\n        ],\n        \"semantic_type\": \"\",\n        \"description\": \"\"\n      }\n    },\n    {\n      \"column\": \"BloodPressure\",\n      \"properties\": {\n        \"dtype\": \"number\",\n        \"std\": 19,\n        \"min\": 0,\n        \"max\": 122,\n        \"num_unique_values\": 47,\n        \"samples\": [\n          86,\n          46,\n          85\n        ],\n        \"semantic_type\": \"\",\n        \"description\": \"\"\n      }\n    },\n    {\n      \"column\": \"SkinThickness\",\n      \"properties\": {\n        \"dtype\": \"number\",\n        \"std\": 15,\n        \"min\": 0,\n        \"max\": 99,\n        \"num_unique_values\": 51,\n        \"samples\": [\n          7,\n          12,\n          48\n        ],\n        \"semantic_type\": \"\",\n        \"description\": \"\"\n      }\n    },\n    {\n      \"column\": \"Insulin\",\n      \"properties\": {\n        \"dtype\": \"number\",\n        \"std\": 115,\n        \"min\": 0,\n        \"max\": 846,\n        \"num_unique_values\": 186,\n        \"samples\": [\n          52,\n          41,\n          183\n        ],\n        \"semantic_type\": \"\",\n        \"description\": \"\"\n      }\n    },\n    {\n      \"column\": \"BMI\",\n      \"properties\": {\n        \"dtype\": \"number\",\n        \"std\": 7.884160320375446,\n        \"min\": 0.0,\n        \"max\": 67.1,\n        \"num_unique_values\": 248,\n        \"samples\": [\n          19.9,\n          31.0,\n          38.1\n        ],\n        \"semantic_type\": \"\",\n        \"description\": \"\"\n      }\n    },\n    {\n      \"column\": \"DiabetesPedigreeFunction\",\n      \"properties\": {\n        \"dtype\": \"number\",\n        \"std\": 0.3313285950127749,\n        \"min\": 0.078,\n        \"max\": 2.42,\n        \"num_unique_values\": 517,\n        \"samples\": [\n          1.731,\n          0.426,\n          0.138\n        ],\n        \"semantic_type\": \"\",\n        \"description\": \"\"\n      }\n    },\n    {\n      \"column\": \"Age\",\n      \"properties\": {\n        \"dtype\": \"number\",\n        \"std\": 11,\n        \"min\": 21,\n        \"max\": 81,\n        \"num_unique_values\": 52,\n        \"samples\": [\n          60,\n          47,\n          72\n        ],\n        \"semantic_type\": \"\",\n        \"description\": \"\"\n      }\n    },\n    {\n      \"column\": \"Outcome\",\n      \"properties\": {\n        \"dtype\": \"number\",\n        \"std\": 0,\n        \"min\": 0,\n        \"max\": 1,\n        \"num_unique_values\": 2,\n        \"samples\": [\n          0,\n          1\n        ],\n        \"semantic_type\": \"\",\n        \"description\": \"\"\n      }\n    }\n  ]\n}"
            }
          },
          "metadata": {},
          "execution_count": 6
        }
      ]
    },
    {
      "cell_type": "code",
      "source": [
        "diabetes_data.shape"
      ],
      "metadata": {
        "colab": {
          "base_uri": "https://localhost:8080/"
        },
        "id": "X4SFRiYCMFyK",
        "outputId": "e7f5e245-eee7-47c8-bc53-b5f6c49dc1c7"
      },
      "execution_count": 7,
      "outputs": [
        {
          "output_type": "execute_result",
          "data": {
            "text/plain": [
              "(768, 9)"
            ]
          },
          "metadata": {},
          "execution_count": 7
        }
      ]
    },
    {
      "cell_type": "code",
      "source": [
        "# getting the statistical measures of the dataset\n",
        "diabetes_data.describe()"
      ],
      "metadata": {
        "colab": {
          "base_uri": "https://localhost:8080/",
          "height": 320
        },
        "id": "2zWJLSGFMJOi",
        "outputId": "5c563b51-1ce5-4ed5-e720-f02c8d32a591"
      },
      "execution_count": 8,
      "outputs": [
        {
          "output_type": "execute_result",
          "data": {
            "text/plain": [
              "       Pregnancies     Glucose  BloodPressure  SkinThickness     Insulin  \\\n",
              "count   768.000000  768.000000     768.000000     768.000000  768.000000   \n",
              "mean      3.845052  120.894531      69.105469      20.536458   79.799479   \n",
              "std       3.369578   31.972618      19.355807      15.952218  115.244002   \n",
              "min       0.000000    0.000000       0.000000       0.000000    0.000000   \n",
              "25%       1.000000   99.000000      62.000000       0.000000    0.000000   \n",
              "50%       3.000000  117.000000      72.000000      23.000000   30.500000   \n",
              "75%       6.000000  140.250000      80.000000      32.000000  127.250000   \n",
              "max      17.000000  199.000000     122.000000      99.000000  846.000000   \n",
              "\n",
              "              BMI  DiabetesPedigreeFunction         Age     Outcome  \n",
              "count  768.000000                768.000000  768.000000  768.000000  \n",
              "mean    31.992578                  0.471876   33.240885    0.348958  \n",
              "std      7.884160                  0.331329   11.760232    0.476951  \n",
              "min      0.000000                  0.078000   21.000000    0.000000  \n",
              "25%     27.300000                  0.243750   24.000000    0.000000  \n",
              "50%     32.000000                  0.372500   29.000000    0.000000  \n",
              "75%     36.600000                  0.626250   41.000000    1.000000  \n",
              "max     67.100000                  2.420000   81.000000    1.000000  "
            ],
            "text/html": [
              "\n",
              "  <div id=\"df-a8237f7e-0976-4c33-9f14-b8672ea87f48\" class=\"colab-df-container\">\n",
              "    <div>\n",
              "<style scoped>\n",
              "    .dataframe tbody tr th:only-of-type {\n",
              "        vertical-align: middle;\n",
              "    }\n",
              "\n",
              "    .dataframe tbody tr th {\n",
              "        vertical-align: top;\n",
              "    }\n",
              "\n",
              "    .dataframe thead th {\n",
              "        text-align: right;\n",
              "    }\n",
              "</style>\n",
              "<table border=\"1\" class=\"dataframe\">\n",
              "  <thead>\n",
              "    <tr style=\"text-align: right;\">\n",
              "      <th></th>\n",
              "      <th>Pregnancies</th>\n",
              "      <th>Glucose</th>\n",
              "      <th>BloodPressure</th>\n",
              "      <th>SkinThickness</th>\n",
              "      <th>Insulin</th>\n",
              "      <th>BMI</th>\n",
              "      <th>DiabetesPedigreeFunction</th>\n",
              "      <th>Age</th>\n",
              "      <th>Outcome</th>\n",
              "    </tr>\n",
              "  </thead>\n",
              "  <tbody>\n",
              "    <tr>\n",
              "      <th>count</th>\n",
              "      <td>768.000000</td>\n",
              "      <td>768.000000</td>\n",
              "      <td>768.000000</td>\n",
              "      <td>768.000000</td>\n",
              "      <td>768.000000</td>\n",
              "      <td>768.000000</td>\n",
              "      <td>768.000000</td>\n",
              "      <td>768.000000</td>\n",
              "      <td>768.000000</td>\n",
              "    </tr>\n",
              "    <tr>\n",
              "      <th>mean</th>\n",
              "      <td>3.845052</td>\n",
              "      <td>120.894531</td>\n",
              "      <td>69.105469</td>\n",
              "      <td>20.536458</td>\n",
              "      <td>79.799479</td>\n",
              "      <td>31.992578</td>\n",
              "      <td>0.471876</td>\n",
              "      <td>33.240885</td>\n",
              "      <td>0.348958</td>\n",
              "    </tr>\n",
              "    <tr>\n",
              "      <th>std</th>\n",
              "      <td>3.369578</td>\n",
              "      <td>31.972618</td>\n",
              "      <td>19.355807</td>\n",
              "      <td>15.952218</td>\n",
              "      <td>115.244002</td>\n",
              "      <td>7.884160</td>\n",
              "      <td>0.331329</td>\n",
              "      <td>11.760232</td>\n",
              "      <td>0.476951</td>\n",
              "    </tr>\n",
              "    <tr>\n",
              "      <th>min</th>\n",
              "      <td>0.000000</td>\n",
              "      <td>0.000000</td>\n",
              "      <td>0.000000</td>\n",
              "      <td>0.000000</td>\n",
              "      <td>0.000000</td>\n",
              "      <td>0.000000</td>\n",
              "      <td>0.078000</td>\n",
              "      <td>21.000000</td>\n",
              "      <td>0.000000</td>\n",
              "    </tr>\n",
              "    <tr>\n",
              "      <th>25%</th>\n",
              "      <td>1.000000</td>\n",
              "      <td>99.000000</td>\n",
              "      <td>62.000000</td>\n",
              "      <td>0.000000</td>\n",
              "      <td>0.000000</td>\n",
              "      <td>27.300000</td>\n",
              "      <td>0.243750</td>\n",
              "      <td>24.000000</td>\n",
              "      <td>0.000000</td>\n",
              "    </tr>\n",
              "    <tr>\n",
              "      <th>50%</th>\n",
              "      <td>3.000000</td>\n",
              "      <td>117.000000</td>\n",
              "      <td>72.000000</td>\n",
              "      <td>23.000000</td>\n",
              "      <td>30.500000</td>\n",
              "      <td>32.000000</td>\n",
              "      <td>0.372500</td>\n",
              "      <td>29.000000</td>\n",
              "      <td>0.000000</td>\n",
              "    </tr>\n",
              "    <tr>\n",
              "      <th>75%</th>\n",
              "      <td>6.000000</td>\n",
              "      <td>140.250000</td>\n",
              "      <td>80.000000</td>\n",
              "      <td>32.000000</td>\n",
              "      <td>127.250000</td>\n",
              "      <td>36.600000</td>\n",
              "      <td>0.626250</td>\n",
              "      <td>41.000000</td>\n",
              "      <td>1.000000</td>\n",
              "    </tr>\n",
              "    <tr>\n",
              "      <th>max</th>\n",
              "      <td>17.000000</td>\n",
              "      <td>199.000000</td>\n",
              "      <td>122.000000</td>\n",
              "      <td>99.000000</td>\n",
              "      <td>846.000000</td>\n",
              "      <td>67.100000</td>\n",
              "      <td>2.420000</td>\n",
              "      <td>81.000000</td>\n",
              "      <td>1.000000</td>\n",
              "    </tr>\n",
              "  </tbody>\n",
              "</table>\n",
              "</div>\n",
              "    <div class=\"colab-df-buttons\">\n",
              "\n",
              "  <div class=\"colab-df-container\">\n",
              "    <button class=\"colab-df-convert\" onclick=\"convertToInteractive('df-a8237f7e-0976-4c33-9f14-b8672ea87f48')\"\n",
              "            title=\"Convert this dataframe to an interactive table.\"\n",
              "            style=\"display:none;\">\n",
              "\n",
              "  <svg xmlns=\"http://www.w3.org/2000/svg\" height=\"24px\" viewBox=\"0 -960 960 960\">\n",
              "    <path d=\"M120-120v-720h720v720H120Zm60-500h600v-160H180v160Zm220 220h160v-160H400v160Zm0 220h160v-160H400v160ZM180-400h160v-160H180v160Zm440 0h160v-160H620v160ZM180-180h160v-160H180v160Zm440 0h160v-160H620v160Z\"/>\n",
              "  </svg>\n",
              "    </button>\n",
              "\n",
              "  <style>\n",
              "    .colab-df-container {\n",
              "      display:flex;\n",
              "      gap: 12px;\n",
              "    }\n",
              "\n",
              "    .colab-df-convert {\n",
              "      background-color: #E8F0FE;\n",
              "      border: none;\n",
              "      border-radius: 50%;\n",
              "      cursor: pointer;\n",
              "      display: none;\n",
              "      fill: #1967D2;\n",
              "      height: 32px;\n",
              "      padding: 0 0 0 0;\n",
              "      width: 32px;\n",
              "    }\n",
              "\n",
              "    .colab-df-convert:hover {\n",
              "      background-color: #E2EBFA;\n",
              "      box-shadow: 0px 1px 2px rgba(60, 64, 67, 0.3), 0px 1px 3px 1px rgba(60, 64, 67, 0.15);\n",
              "      fill: #174EA6;\n",
              "    }\n",
              "\n",
              "    .colab-df-buttons div {\n",
              "      margin-bottom: 4px;\n",
              "    }\n",
              "\n",
              "    [theme=dark] .colab-df-convert {\n",
              "      background-color: #3B4455;\n",
              "      fill: #D2E3FC;\n",
              "    }\n",
              "\n",
              "    [theme=dark] .colab-df-convert:hover {\n",
              "      background-color: #434B5C;\n",
              "      box-shadow: 0px 1px 3px 1px rgba(0, 0, 0, 0.15);\n",
              "      filter: drop-shadow(0px 1px 2px rgba(0, 0, 0, 0.3));\n",
              "      fill: #FFFFFF;\n",
              "    }\n",
              "  </style>\n",
              "\n",
              "    <script>\n",
              "      const buttonEl =\n",
              "        document.querySelector('#df-a8237f7e-0976-4c33-9f14-b8672ea87f48 button.colab-df-convert');\n",
              "      buttonEl.style.display =\n",
              "        google.colab.kernel.accessAllowed ? 'block' : 'none';\n",
              "\n",
              "      async function convertToInteractive(key) {\n",
              "        const element = document.querySelector('#df-a8237f7e-0976-4c33-9f14-b8672ea87f48');\n",
              "        const dataTable =\n",
              "          await google.colab.kernel.invokeFunction('convertToInteractive',\n",
              "                                                    [key], {});\n",
              "        if (!dataTable) return;\n",
              "\n",
              "        const docLinkHtml = 'Like what you see? Visit the ' +\n",
              "          '<a target=\"_blank\" href=https://colab.research.google.com/notebooks/data_table.ipynb>data table notebook</a>'\n",
              "          + ' to learn more about interactive tables.';\n",
              "        element.innerHTML = '';\n",
              "        dataTable['output_type'] = 'display_data';\n",
              "        await google.colab.output.renderOutput(dataTable, element);\n",
              "        const docLink = document.createElement('div');\n",
              "        docLink.innerHTML = docLinkHtml;\n",
              "        element.appendChild(docLink);\n",
              "      }\n",
              "    </script>\n",
              "  </div>\n",
              "\n",
              "\n",
              "<div id=\"df-df1a5193-8173-431e-91f9-00f5c1c856ef\">\n",
              "  <button class=\"colab-df-quickchart\" onclick=\"quickchart('df-df1a5193-8173-431e-91f9-00f5c1c856ef')\"\n",
              "            title=\"Suggest charts\"\n",
              "            style=\"display:none;\">\n",
              "\n",
              "<svg xmlns=\"http://www.w3.org/2000/svg\" height=\"24px\"viewBox=\"0 0 24 24\"\n",
              "     width=\"24px\">\n",
              "    <g>\n",
              "        <path d=\"M19 3H5c-1.1 0-2 .9-2 2v14c0 1.1.9 2 2 2h14c1.1 0 2-.9 2-2V5c0-1.1-.9-2-2-2zM9 17H7v-7h2v7zm4 0h-2V7h2v10zm4 0h-2v-4h2v4z\"/>\n",
              "    </g>\n",
              "</svg>\n",
              "  </button>\n",
              "\n",
              "<style>\n",
              "  .colab-df-quickchart {\n",
              "      --bg-color: #E8F0FE;\n",
              "      --fill-color: #1967D2;\n",
              "      --hover-bg-color: #E2EBFA;\n",
              "      --hover-fill-color: #174EA6;\n",
              "      --disabled-fill-color: #AAA;\n",
              "      --disabled-bg-color: #DDD;\n",
              "  }\n",
              "\n",
              "  [theme=dark] .colab-df-quickchart {\n",
              "      --bg-color: #3B4455;\n",
              "      --fill-color: #D2E3FC;\n",
              "      --hover-bg-color: #434B5C;\n",
              "      --hover-fill-color: #FFFFFF;\n",
              "      --disabled-bg-color: #3B4455;\n",
              "      --disabled-fill-color: #666;\n",
              "  }\n",
              "\n",
              "  .colab-df-quickchart {\n",
              "    background-color: var(--bg-color);\n",
              "    border: none;\n",
              "    border-radius: 50%;\n",
              "    cursor: pointer;\n",
              "    display: none;\n",
              "    fill: var(--fill-color);\n",
              "    height: 32px;\n",
              "    padding: 0;\n",
              "    width: 32px;\n",
              "  }\n",
              "\n",
              "  .colab-df-quickchart:hover {\n",
              "    background-color: var(--hover-bg-color);\n",
              "    box-shadow: 0 1px 2px rgba(60, 64, 67, 0.3), 0 1px 3px 1px rgba(60, 64, 67, 0.15);\n",
              "    fill: var(--button-hover-fill-color);\n",
              "  }\n",
              "\n",
              "  .colab-df-quickchart-complete:disabled,\n",
              "  .colab-df-quickchart-complete:disabled:hover {\n",
              "    background-color: var(--disabled-bg-color);\n",
              "    fill: var(--disabled-fill-color);\n",
              "    box-shadow: none;\n",
              "  }\n",
              "\n",
              "  .colab-df-spinner {\n",
              "    border: 2px solid var(--fill-color);\n",
              "    border-color: transparent;\n",
              "    border-bottom-color: var(--fill-color);\n",
              "    animation:\n",
              "      spin 1s steps(1) infinite;\n",
              "  }\n",
              "\n",
              "  @keyframes spin {\n",
              "    0% {\n",
              "      border-color: transparent;\n",
              "      border-bottom-color: var(--fill-color);\n",
              "      border-left-color: var(--fill-color);\n",
              "    }\n",
              "    20% {\n",
              "      border-color: transparent;\n",
              "      border-left-color: var(--fill-color);\n",
              "      border-top-color: var(--fill-color);\n",
              "    }\n",
              "    30% {\n",
              "      border-color: transparent;\n",
              "      border-left-color: var(--fill-color);\n",
              "      border-top-color: var(--fill-color);\n",
              "      border-right-color: var(--fill-color);\n",
              "    }\n",
              "    40% {\n",
              "      border-color: transparent;\n",
              "      border-right-color: var(--fill-color);\n",
              "      border-top-color: var(--fill-color);\n",
              "    }\n",
              "    60% {\n",
              "      border-color: transparent;\n",
              "      border-right-color: var(--fill-color);\n",
              "    }\n",
              "    80% {\n",
              "      border-color: transparent;\n",
              "      border-right-color: var(--fill-color);\n",
              "      border-bottom-color: var(--fill-color);\n",
              "    }\n",
              "    90% {\n",
              "      border-color: transparent;\n",
              "      border-bottom-color: var(--fill-color);\n",
              "    }\n",
              "  }\n",
              "</style>\n",
              "\n",
              "  <script>\n",
              "    async function quickchart(key) {\n",
              "      const quickchartButtonEl =\n",
              "        document.querySelector('#' + key + ' button');\n",
              "      quickchartButtonEl.disabled = true;  // To prevent multiple clicks.\n",
              "      quickchartButtonEl.classList.add('colab-df-spinner');\n",
              "      try {\n",
              "        const charts = await google.colab.kernel.invokeFunction(\n",
              "            'suggestCharts', [key], {});\n",
              "      } catch (error) {\n",
              "        console.error('Error during call to suggestCharts:', error);\n",
              "      }\n",
              "      quickchartButtonEl.classList.remove('colab-df-spinner');\n",
              "      quickchartButtonEl.classList.add('colab-df-quickchart-complete');\n",
              "    }\n",
              "    (() => {\n",
              "      let quickchartButtonEl =\n",
              "        document.querySelector('#df-df1a5193-8173-431e-91f9-00f5c1c856ef button');\n",
              "      quickchartButtonEl.style.display =\n",
              "        google.colab.kernel.accessAllowed ? 'block' : 'none';\n",
              "    })();\n",
              "  </script>\n",
              "</div>\n",
              "\n",
              "    </div>\n",
              "  </div>\n"
            ],
            "application/vnd.google.colaboratory.intrinsic+json": {
              "type": "dataframe",
              "summary": "{\n  \"name\": \"diabetes_data\",\n  \"rows\": 8,\n  \"fields\": [\n    {\n      \"column\": \"Pregnancies\",\n      \"properties\": {\n        \"dtype\": \"number\",\n        \"std\": 269.85223453356366,\n        \"min\": 0.0,\n        \"max\": 768.0,\n        \"num_unique_values\": 8,\n        \"samples\": [\n          3.8450520833333335,\n          3.0,\n          768.0\n        ],\n        \"semantic_type\": \"\",\n        \"description\": \"\"\n      }\n    },\n    {\n      \"column\": \"Glucose\",\n      \"properties\": {\n        \"dtype\": \"number\",\n        \"std\": 243.73802348295857,\n        \"min\": 0.0,\n        \"max\": 768.0,\n        \"num_unique_values\": 8,\n        \"samples\": [\n          120.89453125,\n          117.0,\n          768.0\n        ],\n        \"semantic_type\": \"\",\n        \"description\": \"\"\n      }\n    },\n    {\n      \"column\": \"BloodPressure\",\n      \"properties\": {\n        \"dtype\": \"number\",\n        \"std\": 252.8525053581062,\n        \"min\": 0.0,\n        \"max\": 768.0,\n        \"num_unique_values\": 8,\n        \"samples\": [\n          69.10546875,\n          72.0,\n          768.0\n        ],\n        \"semantic_type\": \"\",\n        \"description\": \"\"\n      }\n    },\n    {\n      \"column\": \"SkinThickness\",\n      \"properties\": {\n        \"dtype\": \"number\",\n        \"std\": 263.7684730531098,\n        \"min\": 0.0,\n        \"max\": 768.0,\n        \"num_unique_values\": 7,\n        \"samples\": [\n          768.0,\n          20.536458333333332,\n          32.0\n        ],\n        \"semantic_type\": \"\",\n        \"description\": \"\"\n      }\n    },\n    {\n      \"column\": \"Insulin\",\n      \"properties\": {\n        \"dtype\": \"number\",\n        \"std\": 350.26059167945886,\n        \"min\": 0.0,\n        \"max\": 846.0,\n        \"num_unique_values\": 7,\n        \"samples\": [\n          768.0,\n          79.79947916666667,\n          127.25\n        ],\n        \"semantic_type\": \"\",\n        \"description\": \"\"\n      }\n    },\n    {\n      \"column\": \"BMI\",\n      \"properties\": {\n        \"dtype\": \"number\",\n        \"std\": 262.05117817552093,\n        \"min\": 0.0,\n        \"max\": 768.0,\n        \"num_unique_values\": 8,\n        \"samples\": [\n          31.992578124999998,\n          32.0,\n          768.0\n        ],\n        \"semantic_type\": \"\",\n        \"description\": \"\"\n      }\n    },\n    {\n      \"column\": \"DiabetesPedigreeFunction\",\n      \"properties\": {\n        \"dtype\": \"number\",\n        \"std\": 271.3005221658502,\n        \"min\": 0.078,\n        \"max\": 768.0,\n        \"num_unique_values\": 8,\n        \"samples\": [\n          0.47187630208333325,\n          0.3725,\n          768.0\n        ],\n        \"semantic_type\": \"\",\n        \"description\": \"\"\n      }\n    },\n    {\n      \"column\": \"Age\",\n      \"properties\": {\n        \"dtype\": \"number\",\n        \"std\": 260.1941178528413,\n        \"min\": 11.760231540678685,\n        \"max\": 768.0,\n        \"num_unique_values\": 8,\n        \"samples\": [\n          33.240885416666664,\n          29.0,\n          768.0\n        ],\n        \"semantic_type\": \"\",\n        \"description\": \"\"\n      }\n    },\n    {\n      \"column\": \"Outcome\",\n      \"properties\": {\n        \"dtype\": \"number\",\n        \"std\": 271.3865920388932,\n        \"min\": 0.0,\n        \"max\": 768.0,\n        \"num_unique_values\": 5,\n        \"samples\": [\n          0.3489583333333333,\n          1.0,\n          0.47695137724279896\n        ],\n        \"semantic_type\": \"\",\n        \"description\": \"\"\n      }\n    }\n  ]\n}"
            }
          },
          "metadata": {},
          "execution_count": 8
        }
      ]
    },
    {
      "cell_type": "code",
      "source": [
        "diabetes_data['Outcome'].value_counts()"
      ],
      "metadata": {
        "colab": {
          "base_uri": "https://localhost:8080/"
        },
        "id": "r5pYyJ65MLOy",
        "outputId": "bd9b97d0-87c8-4766-b089-109a957783c9"
      },
      "execution_count": 9,
      "outputs": [
        {
          "output_type": "execute_result",
          "data": {
            "text/plain": [
              "Outcome\n",
              "0    500\n",
              "1    268\n",
              "Name: count, dtype: int64"
            ]
          },
          "metadata": {},
          "execution_count": 9
        }
      ]
    },
    {
      "cell_type": "markdown",
      "source": [
        "0 --> Non-diabetic\n",
        "\n",
        "1 --> Diabetic"
      ],
      "metadata": {
        "id": "a-SOCE1oMSjr"
      }
    },
    {
      "cell_type": "markdown",
      "source": [
        "###Splitting"
      ],
      "metadata": {
        "id": "gkZo4LR5MVXJ"
      }
    },
    {
      "cell_type": "code",
      "source": [
        "# separating the features and target\n",
        "\n",
        "features = diabetes_data.drop(columns='Outcome', axis=1)\n",
        "\n",
        "target = diabetes_data['Outcome']"
      ],
      "metadata": {
        "id": "THT4YUX2MORv"
      },
      "execution_count": 10,
      "outputs": []
    },
    {
      "cell_type": "code",
      "source": [
        "print(features)\n",
        "print(target)"
      ],
      "metadata": {
        "colab": {
          "base_uri": "https://localhost:8080/"
        },
        "id": "WWpwgthoMach",
        "outputId": "ebe1ea12-0077-48e6-c44e-ddcb52fce9e1"
      },
      "execution_count": 11,
      "outputs": [
        {
          "output_type": "stream",
          "name": "stdout",
          "text": [
            "     Pregnancies  Glucose  BloodPressure  SkinThickness  Insulin   BMI  \\\n",
            "0              6      148             72             35        0  33.6   \n",
            "1              1       85             66             29        0  26.6   \n",
            "2              8      183             64              0        0  23.3   \n",
            "3              1       89             66             23       94  28.1   \n",
            "4              0      137             40             35      168  43.1   \n",
            "..           ...      ...            ...            ...      ...   ...   \n",
            "763           10      101             76             48      180  32.9   \n",
            "764            2      122             70             27        0  36.8   \n",
            "765            5      121             72             23      112  26.2   \n",
            "766            1      126             60              0        0  30.1   \n",
            "767            1       93             70             31        0  30.4   \n",
            "\n",
            "     DiabetesPedigreeFunction  Age  \n",
            "0                       0.627   50  \n",
            "1                       0.351   31  \n",
            "2                       0.672   32  \n",
            "3                       0.167   21  \n",
            "4                       2.288   33  \n",
            "..                        ...  ...  \n",
            "763                     0.171   63  \n",
            "764                     0.340   27  \n",
            "765                     0.245   30  \n",
            "766                     0.349   47  \n",
            "767                     0.315   23  \n",
            "\n",
            "[768 rows x 8 columns]\n",
            "0      1\n",
            "1      0\n",
            "2      1\n",
            "3      0\n",
            "4      1\n",
            "      ..\n",
            "763    0\n",
            "764    0\n",
            "765    0\n",
            "766    1\n",
            "767    0\n",
            "Name: Outcome, Length: 768, dtype: int64\n"
          ]
        }
      ]
    },
    {
      "cell_type": "markdown",
      "source": [
        "**Data Standarization**"
      ],
      "metadata": {
        "id": "KwiMeTipMf6W"
      }
    },
    {
      "cell_type": "code",
      "source": [
        "scaler = StandardScaler()"
      ],
      "metadata": {
        "id": "jUvfIWE2MdUM"
      },
      "execution_count": 12,
      "outputs": []
    },
    {
      "cell_type": "code",
      "source": [
        "scaler.fit(features)"
      ],
      "metadata": {
        "colab": {
          "base_uri": "https://localhost:8080/",
          "height": 75
        },
        "id": "WQJSgHEwMmK2",
        "outputId": "fe15805a-1bb9-44ba-e0df-9152c6dff2fb"
      },
      "execution_count": 13,
      "outputs": [
        {
          "output_type": "execute_result",
          "data": {
            "text/plain": [
              "StandardScaler()"
            ],
            "text/html": [
              "<style>#sk-container-id-1 {color: black;background-color: white;}#sk-container-id-1 pre{padding: 0;}#sk-container-id-1 div.sk-toggleable {background-color: white;}#sk-container-id-1 label.sk-toggleable__label {cursor: pointer;display: block;width: 100%;margin-bottom: 0;padding: 0.3em;box-sizing: border-box;text-align: center;}#sk-container-id-1 label.sk-toggleable__label-arrow:before {content: \"▸\";float: left;margin-right: 0.25em;color: #696969;}#sk-container-id-1 label.sk-toggleable__label-arrow:hover:before {color: black;}#sk-container-id-1 div.sk-estimator:hover label.sk-toggleable__label-arrow:before {color: black;}#sk-container-id-1 div.sk-toggleable__content {max-height: 0;max-width: 0;overflow: hidden;text-align: left;background-color: #f0f8ff;}#sk-container-id-1 div.sk-toggleable__content pre {margin: 0.2em;color: black;border-radius: 0.25em;background-color: #f0f8ff;}#sk-container-id-1 input.sk-toggleable__control:checked~div.sk-toggleable__content {max-height: 200px;max-width: 100%;overflow: auto;}#sk-container-id-1 input.sk-toggleable__control:checked~label.sk-toggleable__label-arrow:before {content: \"▾\";}#sk-container-id-1 div.sk-estimator input.sk-toggleable__control:checked~label.sk-toggleable__label {background-color: #d4ebff;}#sk-container-id-1 div.sk-label input.sk-toggleable__control:checked~label.sk-toggleable__label {background-color: #d4ebff;}#sk-container-id-1 input.sk-hidden--visually {border: 0;clip: rect(1px 1px 1px 1px);clip: rect(1px, 1px, 1px, 1px);height: 1px;margin: -1px;overflow: hidden;padding: 0;position: absolute;width: 1px;}#sk-container-id-1 div.sk-estimator {font-family: monospace;background-color: #f0f8ff;border: 1px dotted black;border-radius: 0.25em;box-sizing: border-box;margin-bottom: 0.5em;}#sk-container-id-1 div.sk-estimator:hover {background-color: #d4ebff;}#sk-container-id-1 div.sk-parallel-item::after {content: \"\";width: 100%;border-bottom: 1px solid gray;flex-grow: 1;}#sk-container-id-1 div.sk-label:hover label.sk-toggleable__label {background-color: #d4ebff;}#sk-container-id-1 div.sk-serial::before {content: \"\";position: absolute;border-left: 1px solid gray;box-sizing: border-box;top: 0;bottom: 0;left: 50%;z-index: 0;}#sk-container-id-1 div.sk-serial {display: flex;flex-direction: column;align-items: center;background-color: white;padding-right: 0.2em;padding-left: 0.2em;position: relative;}#sk-container-id-1 div.sk-item {position: relative;z-index: 1;}#sk-container-id-1 div.sk-parallel {display: flex;align-items: stretch;justify-content: center;background-color: white;position: relative;}#sk-container-id-1 div.sk-item::before, #sk-container-id-1 div.sk-parallel-item::before {content: \"\";position: absolute;border-left: 1px solid gray;box-sizing: border-box;top: 0;bottom: 0;left: 50%;z-index: -1;}#sk-container-id-1 div.sk-parallel-item {display: flex;flex-direction: column;z-index: 1;position: relative;background-color: white;}#sk-container-id-1 div.sk-parallel-item:first-child::after {align-self: flex-end;width: 50%;}#sk-container-id-1 div.sk-parallel-item:last-child::after {align-self: flex-start;width: 50%;}#sk-container-id-1 div.sk-parallel-item:only-child::after {width: 0;}#sk-container-id-1 div.sk-dashed-wrapped {border: 1px dashed gray;margin: 0 0.4em 0.5em 0.4em;box-sizing: border-box;padding-bottom: 0.4em;background-color: white;}#sk-container-id-1 div.sk-label label {font-family: monospace;font-weight: bold;display: inline-block;line-height: 1.2em;}#sk-container-id-1 div.sk-label-container {text-align: center;}#sk-container-id-1 div.sk-container {/* jupyter's `normalize.less` sets `[hidden] { display: none; }` but bootstrap.min.css set `[hidden] { display: none !important; }` so we also need the `!important` here to be able to override the default hidden behavior on the sphinx rendered scikit-learn.org. See: https://github.com/scikit-learn/scikit-learn/issues/21755 */display: inline-block !important;position: relative;}#sk-container-id-1 div.sk-text-repr-fallback {display: none;}</style><div id=\"sk-container-id-1\" class=\"sk-top-container\"><div class=\"sk-text-repr-fallback\"><pre>StandardScaler()</pre><b>In a Jupyter environment, please rerun this cell to show the HTML representation or trust the notebook. <br />On GitHub, the HTML representation is unable to render, please try loading this page with nbviewer.org.</b></div><div class=\"sk-container\" hidden><div class=\"sk-item\"><div class=\"sk-estimator sk-toggleable\"><input class=\"sk-toggleable__control sk-hidden--visually\" id=\"sk-estimator-id-1\" type=\"checkbox\" checked><label for=\"sk-estimator-id-1\" class=\"sk-toggleable__label sk-toggleable__label-arrow\">StandardScaler</label><div class=\"sk-toggleable__content\"><pre>StandardScaler()</pre></div></div></div></div></div>"
            ]
          },
          "metadata": {},
          "execution_count": 13
        }
      ]
    },
    {
      "cell_type": "code",
      "source": [
        "standardized_data = scaler.transform(features)"
      ],
      "metadata": {
        "id": "zSXKSAuuModn"
      },
      "execution_count": 14,
      "outputs": []
    },
    {
      "cell_type": "code",
      "source": [
        "print(standardized_data)"
      ],
      "metadata": {
        "colab": {
          "base_uri": "https://localhost:8080/"
        },
        "id": "njjsBp_iMsRI",
        "outputId": "0a1a47db-63e3-4e88-f825-44120feb1325"
      },
      "execution_count": 15,
      "outputs": [
        {
          "output_type": "stream",
          "name": "stdout",
          "text": [
            "[[ 0.63994726  0.84832379  0.14964075 ...  0.20401277  0.46849198\n",
            "   1.4259954 ]\n",
            " [-0.84488505 -1.12339636 -0.16054575 ... -0.68442195 -0.36506078\n",
            "  -0.19067191]\n",
            " [ 1.23388019  1.94372388 -0.26394125 ... -1.10325546  0.60439732\n",
            "  -0.10558415]\n",
            " ...\n",
            " [ 0.3429808   0.00330087  0.14964075 ... -0.73518964 -0.68519336\n",
            "  -0.27575966]\n",
            " [-0.84488505  0.1597866  -0.47073225 ... -0.24020459 -0.37110101\n",
            "   1.17073215]\n",
            " [-0.84488505 -0.8730192   0.04624525 ... -0.20212881 -0.47378505\n",
            "  -0.87137393]]\n"
          ]
        }
      ]
    },
    {
      "cell_type": "code",
      "source": [
        "features = standardized_data\n",
        "target = diabetes_data['Outcome']"
      ],
      "metadata": {
        "id": "DyG2lsTBMvZ7"
      },
      "execution_count": 16,
      "outputs": []
    },
    {
      "cell_type": "code",
      "source": [
        "print(features)\n",
        "print(target)"
      ],
      "metadata": {
        "colab": {
          "base_uri": "https://localhost:8080/"
        },
        "id": "Lo-N9gboMyFU",
        "outputId": "4c7c9b3d-228c-4c81-c4bd-6c60fa2dd3fe"
      },
      "execution_count": 17,
      "outputs": [
        {
          "output_type": "stream",
          "name": "stdout",
          "text": [
            "[[ 0.63994726  0.84832379  0.14964075 ...  0.20401277  0.46849198\n",
            "   1.4259954 ]\n",
            " [-0.84488505 -1.12339636 -0.16054575 ... -0.68442195 -0.36506078\n",
            "  -0.19067191]\n",
            " [ 1.23388019  1.94372388 -0.26394125 ... -1.10325546  0.60439732\n",
            "  -0.10558415]\n",
            " ...\n",
            " [ 0.3429808   0.00330087  0.14964075 ... -0.73518964 -0.68519336\n",
            "  -0.27575966]\n",
            " [-0.84488505  0.1597866  -0.47073225 ... -0.24020459 -0.37110101\n",
            "   1.17073215]\n",
            " [-0.84488505 -0.8730192   0.04624525 ... -0.20212881 -0.47378505\n",
            "  -0.87137393]]\n",
            "0      1\n",
            "1      0\n",
            "2      1\n",
            "3      0\n",
            "4      1\n",
            "      ..\n",
            "763    0\n",
            "764    0\n",
            "765    0\n",
            "766    1\n",
            "767    0\n",
            "Name: Outcome, Length: 768, dtype: int64\n"
          ]
        }
      ]
    },
    {
      "cell_type": "code",
      "source": [
        "#train test split\n",
        "X_train, X_test, Y_train, Y_test = train_test_split(features, target, test_size=0.2, random_state = 2)"
      ],
      "metadata": {
        "id": "3lPrtiaWM17D"
      },
      "execution_count": 18,
      "outputs": []
    },
    {
      "cell_type": "code",
      "source": [
        "print(features.shape, X_train.shape, X_test.shape)"
      ],
      "metadata": {
        "colab": {
          "base_uri": "https://localhost:8080/"
        },
        "id": "jBjJ14ZIM-bH",
        "outputId": "da0dafaa-3233-4f19-adaa-3d496b115a3c"
      },
      "execution_count": 19,
      "outputs": [
        {
          "output_type": "stream",
          "name": "stdout",
          "text": [
            "(768, 8) (614, 8) (154, 8)\n"
          ]
        }
      ]
    },
    {
      "cell_type": "markdown",
      "source": [
        "###Training the model"
      ],
      "metadata": {
        "id": "63SXBpn6NFF4"
      }
    },
    {
      "cell_type": "code",
      "source": [
        "classifier = SVM_classifier(learning_rate=0.001, no_of_iterations=1000, lambda_parameter=0.01)"
      ],
      "metadata": {
        "id": "ccLrIDrtNCG4"
      },
      "execution_count": 32,
      "outputs": []
    },
    {
      "cell_type": "code",
      "source": [
        "# training the SVM classifier with training data\n",
        "classifier.fit(X_train, Y_train)"
      ],
      "metadata": {
        "id": "yjrvtJ5YNJIT"
      },
      "execution_count": 33,
      "outputs": []
    },
    {
      "cell_type": "code",
      "source": [
        "# accuracy on training data\n",
        "X_train_prediction = classifier.predict(X_train)\n",
        "training_data_accuracy = accuracy_score(Y_train, X_train_prediction)\n",
        "# accuracy on training data\n",
        "X_test_prediction = classifier.predict(X_test)\n",
        "test_data_accuracy = accuracy_score(Y_test, X_test_prediction)"
      ],
      "metadata": {
        "id": "GY_UVyWeNMD-"
      },
      "execution_count": 34,
      "outputs": []
    },
    {
      "cell_type": "code",
      "source": [
        "print('Accuracy score on training data = ', training_data_accuracy)\n",
        "print('Accuracy score on test data = ', test_data_accuracy)"
      ],
      "metadata": {
        "colab": {
          "base_uri": "https://localhost:8080/"
        },
        "id": "UPu7_FGWNT98",
        "outputId": "6f4acf9e-40ea-455f-c85e-dd64af2ed2fb"
      },
      "execution_count": 35,
      "outputs": [
        {
          "output_type": "stream",
          "name": "stdout",
          "text": [
            "Accuracy score on training data =  0.7768729641693811\n",
            "Accuracy score on test data =  0.7597402597402597\n"
          ]
        }
      ]
    },
    {
      "cell_type": "markdown",
      "source": [
        "###Predictive system"
      ],
      "metadata": {
        "id": "RBhhSEQ2Odvy"
      }
    },
    {
      "cell_type": "code",
      "source": [
        "input_data = (5,166,72,19,175,25.8,0.587,51)\n",
        "\n",
        "# change the input data to numpy array\n",
        "input_data_as_numpy_array = np.asarray(input_data)\n",
        "\n",
        "# reshape the array\n",
        "input_data_reshaped = input_data_as_numpy_array.reshape(1,-1)\n",
        "\n",
        "# standardizing the input data\n",
        "std_data = scaler.transform(input_data_reshaped)\n",
        "print(std_data)\n",
        "\n",
        "prediction = classifier.predict(std_data)\n",
        "print(prediction)\n",
        "\n",
        "if (prediction[0] == 0):\n",
        "  print('The person is not diabetic')\n",
        "\n",
        "else:\n",
        "  print('The Person is diabetic')"
      ],
      "metadata": {
        "colab": {
          "base_uri": "https://localhost:8080/"
        },
        "id": "nVJfc69wOZbI",
        "outputId": "f5e225d6-d197-4f5b-8a96-4120cdb24d90"
      },
      "execution_count": 36,
      "outputs": [
        {
          "output_type": "stream",
          "name": "stdout",
          "text": [
            "[[ 0.3429808   1.41167241  0.14964075 -0.09637905  0.82661621 -0.78595734\n",
            "   0.34768723  1.51108316]]\n",
            "[1]\n",
            "The Person is diabetic\n"
          ]
        },
        {
          "output_type": "stream",
          "name": "stderr",
          "text": [
            "/usr/local/lib/python3.10/dist-packages/sklearn/base.py:439: UserWarning: X does not have valid feature names, but StandardScaler was fitted with feature names\n",
            "  warnings.warn(\n"
          ]
        }
      ]
    },
    {
      "cell_type": "markdown",
      "source": [
        "#Lasso Regression"
      ],
      "metadata": {
        "id": "Tk7lpHWFO1dK"
      }
    },
    {
      "cell_type": "markdown",
      "source": [
        "1. Supervised Learning model\n",
        "2. Regression Model\n",
        "3. *L*east *A*bsolute *S*hrinkage and *S*election *O*perator\n",
        "4. Implements Regularization(L1) to avoid Overfitting"
      ],
      "metadata": {
        "id": "ImCz_Bv8PB-r"
      }
    },
    {
      "cell_type": "markdown",
      "source": [
        "**Y = wX + b**\n",
        "\n",
        "Y --> Dependent Variable\n",
        "\n",
        "X --> Independent Variable\n",
        "\n",
        "w --> weight\n",
        "\n",
        "b --> bias\n",
        "\n",
        "**Gradient Descent:**\n",
        "Gradient Descent is an optimization algorithm used for minimizing the loss function in various machine learning algorithms. It is used for updating the parameters of the learning model.\n",
        "\n",
        "w = w - α*dw\n",
        "\n",
        "b = b - α*db\n",
        "\n",
        "**Learning Rate:**\n",
        "\n",
        "Learning rate is a tuning parameter in an optimization algorithm that determines the step size at each iteration while moving toward a minimum of a loss function.\n",
        "\n",
        "*Gradient for Weights*\n",
        "\n",
        "![image.png](data:image/png;base64,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)\n",
        "\n",
        "![image.png](data:image/png;base64,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)\n",
        "\n",
        "\n",
        "*Gradient for Bias*\n",
        "\n",
        "![image.png](data:image/png;base64,iVBORw0KGgoAAAANSUhEUgAAAY8AAABACAYAAADiU/syAAAakklEQVR4Ae3dBfQ9T1UA8Gt3d3eiYneiGCgqiAKKjdiKAdjYil0YYIGInUgZqBgoqIjY2FjY3ajvAzN/5sxv3/vuvt0X37f3nrPnva3Zmbs7t++diITEQGIgMZAYSAwkBhIDiYHEQGIgMZAYSAwkBhIDiYHEQGIgMZAYSAwkBhIDiYHEQGIgMZAYSAwkBhIDiYGTY+AZIuKZtmxPd/LeZQcSA4mBxEBi4OwwgDncKiLuHhGf2Gz27xIRz392Pc4OJQauLwaePSJeeGB7gSK8Xd+Rzez5MzbSK2k2YVkMPH3B77NEhG0JHHtn3x0R/xcRfxoRf1K2P4uIn4+IV1x2CNlaYmDVGPjojVD25xHxh832xxHxSxHx+mvFDMJ2u4j4hIj45Ih4uw4Rzj9nRDxb2Z5j7Zy2w8+uXQT+BSPiTSPiYyLiiza4/JKIuGNEvExEwO2+gAF9V0T8zOb31SLiZSPi5SPiFSLipSPimfdtOO9LDCQGbsDALTfa/FdFxJeW7Ysj4oci4h8j4i1uuHolBxAw5o+/KFLsR3XjppZ9bUT8eNm+IyLeoLsmd4cx8IER8asR8dcR8T0R8VkR8ZMFz7+/+f9Ww7eNOlqZx0M2TIlKnZAYSAwcFwNvW5jHmx33sef3tIdHxJMj4jUHuvbW5RwTyZ0HzuehGzFA66g4fe/u9NcUBvJzM7SPyjweVjTD7hG5mxhIDBwYA++czOOpZqnfKjZzJqoeXjUi/isiSMsv1J/M/UEMIO5fUbQ2jKSFNy7MmLbHzLQPJPPYB2t5T2JgOQysknkwVdUQT/9fKyL+KSIetMWZ++5FUnY+YT4GMOP/LA64fR3byTzmv4dsITEwBwOrYx4c33wWH1S2N4mIDynM4dO3YPIzy/lP2nI+D0/DwB0KPn8hIp512q03XZ3M4yZU5J/EwEkwsCrmweT0dcX89G2b6Kl7RcRjit3uf4vjvH8L8gl+JCKcv0V/MvcnY0AU1PcXM+B7Tr77aTck83gaLo75D97nRMkds6/5rMNiYDXM47lKxM/fR8Q7NDh9xyIFP7GEezannvL3pYov5O9KKGh//lL3+SmqaW/sb+/b6HGD6FQt794ziVAyjx67h9/H+N8mIl7l8I96yhNopW0kHUGurRzAiiBvaA1g3NIE2hD0FhfmA1xdNQdbXLkWXdxXGFgF84BkmceipT6yxd4m0ezVI+J/NvkdP9sdr7ucu+5jYnnuevDCf+HrNhFxjyZzu83iHvoPvyLRfOBDoE1Ra+LChe3OnfTXgXkYs8mO+VZwzL7jJq/9CsbkuG3fCV3bWvpXX9+/aI3yaA4NcPSpEXG34oeEJ4Kc/KCKM9/b5xd8Hbo/p27/xTf5S9/cWD+8D3lNNYBHRQU5VObtWHixEj7/eg1Ox97rulUwjxeJiCdExB9tzFb+twDZmIPklyH40HLei1sLIGLfuZm4/xoRNLUx27+UnA4lDHow2W8WEb+3YSA/tYnCet7+gj32xzIPk6wSZL81y33qb9tG/98zejBmwQDyhhC5Fy1E0DFEGLP94Ih4iTJx5RPRgu+6YbAfFxGve0YMBCO7fXl3N+8HeqD91ynz9cNL+wS3H4iIH2tKz7xHRPzlJlFUvsF1Bd8SZowubRMYfEsfXywgr1EGKsjnN0pEo/ts31TyqJ5nAjLetyT7SVGoTHns7atgHu9aGMC3DmDlC8q5bfb3byjnmVvWBJgAyWbKZhIg6j1o43GllMFSUusY5mFCEQ4+r0hYn1MkVe98yka61cbnbsanDcmOdXPsvTrtwvgxA/d9QEQ8YsMk7lt8arLsEb23L8cRRBNXUAZCKVvXfULH37BH5In29QPjf58jPv9TNpUIficiXrI8E7P/2I2vzPGq3WIocoW+fgfhPWKXJz/KN/wRpdyHcbByDAFh66c3ZvWWftEafMOIfyX6fLLK9Eh6ngKfXb5FbU6BVTAPjnHaBXNLC2ymXorkQOarHhCfX9mRPNhfn/s3YoAU9ODyUfe2cpOnfvg33rn7yBjm4Rq5Jt69jV9LhQBlTdTF2rUxrX1f2X6wSN3yfP69SRit7ZIAX67rromF0OkDidC1iFw7QZVskT/0vcWXUJvwLdLkfLenBuaQhxZTY2t+O2S/2OFVDhDUYg5W8L/d9+2wGBBMaHDXCfSdxvQ3RcPiUyVkDGnuIkKfFBF9si1ctPOHaQu9Yr5qj1+Fl+fbmMMeWYKJfK9jYRXM4/5l8rbIh1wc2qT+9cZ22CKOqcXLVWzPB50wDQM+btKRiaG+VQvOvdsA0W2v2fV/DPNwvyTER5X3TJrf1+zCecvmTgqnIfxoRPxtYSQYyp2azvq2hIL7viSdMtWRCNXgaoHEJ4qvmmbqObj6t6Lt1GOn+DUOkrHyMhzlxwLvSAG+tlSQ9632nO+pDe9Wlw5hVXvpOgENnB/VdyF1wFh9C182oMWquyehts2JotmKHG0rXmDu3178t0PJzrvwwzoDj3LaxsIqmMcDCvFgXqjA8aZelRdG8gPVll12gykLcyF5thJPPZ+/uzGgdpVkQJIQLa+WdFYskYrNXv0uu5vYenYs89AAX8JflXepnImJtwSQHH9i49j97yIl+34Aoktit6/iqHEqJNcCfEg65Yvr/XA0Ev4mzPWUQEv6xTI/pkikc/vsm4CzlpAxW5mHfeAKRouJ9wx4bh8OeT9cMl/SLgkZALFHpwhabTQouvMtxb/RaiWEIqbEry731x/mVdVumYqnAIZMw1R7bizjWQXzELWBCVBxhbNRce+zwSw7sxfo5ThOErx1g3F2bfc5njANAwin2laYs1LOyqbT4PxWQi6rv9dIxj5lCvPQpgRQUXXeJ+l1yMk99tntdcxyCmeyz9NUe3i/okW0molrmPBMfgSjNQeZxMxlTGTMEBiR7RSg74hZK3Qdox8fVr6VtuAe5gEvqii3UY/8RQJh7nmMji30DN8u4YlmalwVRE4JTKhOccf5dxB1Jq123MykNOkvrzeXX8EWtJQ36o6P2SUsm5Pb/L99G6tgHmzICBdTgJfAjEDdU8a7EjTHRFRVm7QXzJmJ+FHpEqZhgImHaYek+OjiLFf732ZfcibmolTJPjCVedB2lJD2PoULc1ovRZRJag8sPrW2TVIjyRDz7AtuIhwEF1pGC6KMMFj+EW35HuHy2ECY8v0z6c7xJ3D20vJ3RQARNDjGEU9jJuz9QUdEtzEPEvZvDkjgx8bXmOf5ZmkPxrpLeIF7Zi2/vlvOdD641ly3jXmI5GNmpG1PBRGB/EeSomtQwq42VsE8IEDoI9OBSJZW2qUam+DKh7cvx0vDWGyYTMJ5YWAq89B7tnQaAu3j8Vs0hX1Hyan5jRHB+VgBwSSsWJyqNwXQhIRA92Xp2bcxN6YLzIed/xTCC3MbItRrRnVsY34xAosI8V+opIwYDgFp23vhm4QnzMM9r91cvI15IKICFqw1ce7AlCkIgKmy10Rr342TmZfmSQNjYvX9EHyYOitsYx60RZp9a/qq91z163sTXcrPuy3yq21jNcyjHfSY/7UYIuk54fwwsA/zMAqTi8SPgYi82iURTxk109Nblsle76NFED5EfLWACJDqET1CSgWTFxH87eIz4Ugl2CA6xwa2eGY+xH8OCFKh7fFhDK04Bxekau/jfuVBlhGmrbWLDG1jHkyFtBQm5nMHY2AiN1bRZENBOK/crC0kDJeGIlqRZaT9VrcxD++L2WoM8R/Cl7pzIgAJMVdBMo8GQwgSIkBlq/WXbtucz7/ng4F9mYf72IkRRo5uk8SxQwDTFMLWf0PMM4gBX0lr5tIHE5KZQmY1LXnf6LA54zEHEPL/WMBpz0TDRIlg9qHy+mh8Io4QrKphCRQgPbfZ0tuYB4bNLyOZ9zqAMcGrPg/l8XD8w9WvNeZK+R38G21gxTbmIbybD8j5fQCD17feTDbUVjKPBitMD16e7GofMylwl22yuTX/HhkD+zIP3eRHqCsaknCZjnoivsRwaBUcl605VLuIM62i+tf6Z5GmEdA5voa+zSn7JFxRVnBDe5oD8PqFhSCKTGudvtqlZSCW8hNqqQ3mKjk5GGiFyjyUEWrbICljNP3y0fW+c/ttmalAnPa7Y9arWlgbRaWaNxNi60gXbYWhtFot3xHaJahgSKsZgwv+Nat/jsmdSebRYFSsNTOV5DHqtkmecJ4YmMM8jAjDYFJCuPglTkWozxG7ghhIr4jINgY3pd9yRP6hhNS2Ph4mK6ZDZi0hphU42TEa87AKb+YiJoRYVmaM8MqL4L+a009t60u/IcZLQ8tMMcI2bFzJEQxb3lDrs1ATTjhym9NhvHDXhihjTI8tPpN9+10TNDGrq0xfyTwaLLM5t5JAcyr/nhkG5jIPw1HuggkBA6Flkm4TnpoQKGRT9YUl6pAJIiCUwbNyLnWOiUBjshI4gEC2IKBAvgIfAHAPZzoCX0HkEmLJ/Lev6dGcV2OMD0rlgboxWwvlHxN1VPsz9hcDFRQhl0eZmgr8FXCEqbS+MAyGKVOosv4Cvwh9+80y+4nUe6dyzT4/GKZEQ/24KkQ7mcc+GD7APSbHlG3tjG4J5sFMIJroySWMW5hjnZwHeMXXpkk+GsRDEmMfJbbvIPg7aBjMUzXZjZ/CMZpfb2ZR6ZX202aZ98+WXU577BlPf92ufZqNSDBCBGJeN/v61RLxXe1MOYchC1OHY8827zEpSZDwgWn1wDeHMdBOhsA4lMFROLI16w1du+uY75/JTN9UF9gFyTx2YedI53w4Jgs7+NiNs21fp9iRhnXQxyzBPHRQDhDnpMkiaU9It8m8ZhCRBh+k723htVPxwxGL0CPKAgm8P5UdEMshR7rzwpTZ+6vpqn8m5iNTe655mQlI//h36mY+yiE51Lcgmc/Y+RY4wvl5mKxoYUNRaRJGMYfWnNXiA5P7yhHaQnvPtv98Md7/VSunJvPYhsEjHlfziNNPEuM/j9xECpFalgaSR2/7Pcb+VIl/KeYBfyRYk9aEkSB1CGlz6fd0yPaE6cIFE05rJprzTO3wYWjXdysogCSNYCLU28B73kbAd53b1t65HFdhwPgF5kgL4M+o3982bQ8ets0T5+BjCZBng7ExMe6Ci2UeuLnIgUNunKzbXuYupPfnRLdIUhR5ovT7mE0CUet87Nvcd18UB3NFrSh7jF/P89wpsCTz8A45bE2YOTHyU/p/ztfWCCjhuq1NfW6fladnIuTgRpgQS76GpbSbuf075v20KfiFAz6GqoVdZSo6Rh9VgzYXlPHZBRfLPISrVVs2iX7pjfot8WmOfXHXiznVOdn0PmrZ0sfaPG9qFv+SzIPUxhxA+7tKVd/3vTCtsOsvIWzs6gO8MIPOiRQiyCBqBIclCTszkARIbctiJnX3K3vuGtulnVNDCo0SXcXiICdoqD7asce9eubhQxXN4WUcYhNzzdy0BDFAvEz2qds2W/CxP7ZTPG9J5qHUtRIQbMpLStoVL74RET0coq9UDy74Cxf6zdymphFJti0qOPVRFn1C4PV3yWgjeOCMJdVqXwmOvubX1L5e5+v5WtR6gwub0iVz/TdL4IOvyTv6jCsau1jN44pxn9Vpk94LUxnUCxuzcWq1JavPakBH6MxSzEPpDxI2TVVhuEMAGzbn8+/OKAS5q1+ijZTnkAPx6BIxNCdc0700a7kWbUmMXX0Ye04Ze2GqiCUmV3M2xt5/adfVyt3w3a43dMpxWi3T+7H07S5I5rELO0c6R/JVCI7ZhClszKaEwLZ114/U7ZM+ZgnmQXNj11WV9dASMLPcVNPcGATTWmnAMqw5YY1HQt62qJwxbUoOkyRGG2uT2Mbce9U1+shJzlyjdtPagR8IoVa9+ByiJ2mHdentutbItneUzGMbZo54HBETiscBP3aTTbpEAtcRh7noo+YyD5OEbZ+d+dAaHAJ/LKCRzmUevi1FG2lKUwMZdo0THuQrIJbaX7LtXc8913P8ST9c8GFVQN/0qYHpXOa6aM6r5sWqmYeXhXDb+heHuNRzfhPOCwNzmAcipqAebe/uCw5Luy2j8A0xi9Esma7acws+9qamtC+KaS7zEFYrI5x2O8d3clPHyh9aTK0pVtcr6a9Z076lIQQOcJhbX+YcgEBqhVWZ/20traG+rZp5qLlDbRT22tuIJe04J2z2joWRDCEwj50GA3OYB4lX4T/lsedEJbUjxyi0W2P0EXKmMCHAFhkTudaWVneevd/1Uzf3DTGipZgH3Fr7hvS5pGmp+lJEPu67/HCL8+v837vybdDCfnnzfdD2zgF8wwouWsTtqnynVTMPdWUUf/MC7929OcxDkpRzymcvRWS6x+TunhjYl3mQrFQu9U7nFNPru62YoOS36nS3ep7sZ5UArEthDZF2eU/mSYv++MaYCcZuEu0QnVrio+3HUsxDm5XQ86EMMar2uWP/K+InwkqJ8asI09g2r+t1otgIFcymdx2wfJxqXAIahFDXsim7+rFq5gExqnJiEEpg96AwmHOf1p/I/ZNjYB/mQQBAsNnyt9UI2mdgwmStEaLqawVaa11iFnHAPEy2CpgYU4XrlAMZu7net1o1nNqe3yWZB+c+Jy4TxlK5TNqxvOqS4b/t+K/Tf+9KCXpJzOcQnltxp5YYzVC49lWwaubhBQqhFPmhxlEPQmbFO7eVL/trcv80GJjKPFzPBKm+0q0X7DLGoTqvUhO3KO0yYbFn83VIDGTnVxBw6cilfhhLMg/4UivJuA4didaPI/dPgwHClbB1wtWYyK/VMQ+TAqc3wXF+iLJ+cl2Ipr4259U5QmyqecO9trWCwAF4slU8wBNJks1WToB94Fc0Cdy1x8vp2T+ez+TzsC1SePsARJU6rkrrVbHr7X3b/mvPN0SKpslYlRCDGIp+u2WpmyVrtwft7Lv1bdnX1hIO89q2/JEnbSlcWK/J38vBgPL3zIr8c2PM9KthHnWyc9QJ0VQ90ypvNAt1ZXpgFrCegBLHJiWpkR1Y+Bp7rWNrAhE44r4loXHwiVZCwK2+aPWyJxQTh6q07XE5FAjr0JKbc/A3hXmYFByA/FoYoG9h7GYS2WgYcMDXwB+GGRgbs6ZNMbkeMFDmLHk7vjf7NSlOW/wkU6sfiICRpa4/PSzNPPQRg5bvMcQY++fn/vXGAMFKmZSxqzKugnmYBEog0yIwA+r4o0qoponvXA8SpZyT+Y0gcrAiAo4hREMOy76NS9lH9OQPKGIHd3Bwn/KRPXTDSGXJ+nWcQ5eUj2Fwtipx4Tjz4JIMdyzzwPQRQD4HPgnvWnjumO0exd8l41b2NibJDyC00pjqJqFuqEhljVwRy6+/GAWfBcDQHlzW9/Ytjt2Us4BjtvIelmYe2qd9CNu808Lvr+977p8WAyIBCQmCScZoHXp78czDpEXcaBikxZqzwWEqjp3J4c0H3ps1BhAHJUNUfbVKF9MMM4njuxapGWjuWh+CMw5dTJjUC29KV6jFI2MYWIcEgWbmwDAwXKDcNgccm3+VusupWT9jmYcwbMTdpt9WyJu6GReGYaGgupyq9oxVm8Y7JJlzbDsPd3Do+7PgFKD5MOkxfU2p/Ox6govxV8DctW8TiWV8alzZb6+r10/5xZC0+ZhcqncK2q7Vtd6xar4iv2jVY+HimYcBIvbCA1tgeoIsawNbJrMFyEQY3ScfgHmrAiQ7ft96YGW/VFqhfEqptKYoknetXIxwVaDBIbykZURuKRjDPDxP6Q6hssxrnNj7bu4f2iTR0TCGgAOdn0WeEEZyrxH+maF2rjrm+cyxty8asjpJltV1zLuYWxnXXHlIyf3A9BIuCwPMpxZEm1rh+KKZB8mLacBk6lfnYkKwABAJ2nUtiJChwonCslpZC6RIzIMJY40g7NT4hTi3UMt4K7PQQj0+tFpce93U/2OYx9Q2l74eoTV+Jj7jV4LmEICpCSen2fC9MLX6td1tQDjapw8ix5gmVQeeq83s8/y85zAYQOsky6pnNdZcVXty0cxDiCEpmYO3ZxC3KURQtEwPTDMYy2MHzBEmI+LJBr5GwDSZAHsbP0nXcR9UC7UE95x1ptv26v/rwDxqX5nrLoHgCme//4AgVseZv9cLA5gFAYNw01tfxozkoplHlXohpwVmKRVpEbs7tCfKf3kAGESb9OWU+2SFOseBuDYgpTDDPLErp+AjpKkJKJBZXYG5RKkDuQJLl1+4Tsyj4uMSfvl21p4dfgnv0RhUQ2BZ6dMUxo7vopkH9R2hFy3TgoWilIXm9GTv64Ft2n20kxZE7rAN8pMcorx2+6xz/M/0h+Ey9bXgI+RIpuG1wJnO9PfwcpAPAgNeApJ5LIHFbCMxsD8GLpp51IVWhIxWEB/PvocIPq6YE5i0qr0PcROWi3m0fhLHb1uOM8WsEUSYwYvomxaqCZBW1sLtyvVqPMGxiKylmG4yjxbT+T8xcHwMXDTzEFOPSTyihJmqrSP0lsmK+UX4IXs0J3hdeF7YJDOLEF7RRIgUwsdhKMZfYhjNZY3A3g2fPpoWmPcc76M1VGSlecgPkWD4yBKx1N677/9kHvtiLu9LDCyDgYtmHsxMj984hZSWFmpojQJZxo7TOjjFH1CYSw07vVXJshTbL7nMimyKhEnOUoFXpvAaAZO9X8FbzzxFXilrUHM7Kn6Ys/hCLDvKdCXnYylI5rEUJrOdxMB+GLho5gElNy9mKiVIOLkRHSAL2jHrFrQhlMpuCHtUBoKW8sCySd3HdNYK/BWcpTJRKw4rLmh0jg/lcbhHkbVqFqz3zP1N5jEXg3l/YmAeBi6eecxDT959rhjAPCQeyvjHvJgW220px/y5jj/7lRg4JgbMJ8Jhu7HSsCosudrkMceUz1opBjAKzENFZCVI+FTuvImiu0vJ6FbJNyExkBhYBgMCXVSIVjXBpmqDHBHMY6i80zJPzVYSAwfAAM1D1JsyKcKu62ZfSZltJUMO0JVsMjFw8RhQIUGlDiH5deMXlvOl5E9CYuDaYIAaLTJOgUuVBOpmXz2roZLl12Zw2dHEwJlhQNUNy1FIoG43Wsg+2elnNrzsTmIgMZAYSAwkBhIDiYHEQGIgMZAYSAwkBhIDiYHEwAox8P9EpHQSG8uwowAAAABJRU5ErkJggg==)\n"
      ],
      "metadata": {
        "id": "5KkbOhNyQPc5"
      }
    },
    {
      "cell_type": "markdown",
      "source": [
        "##Lasso_Regression()"
      ],
      "metadata": {
        "id": "0LQRJk4uVo8I"
      }
    },
    {
      "cell_type": "code",
      "source": [
        "import numpy as np"
      ],
      "metadata": {
        "id": "U13_TwfIOkZE"
      },
      "execution_count": 37,
      "outputs": []
    },
    {
      "cell_type": "code",
      "source": [
        "# creating a class for Lasso Regression\n",
        "\n",
        "class Lasso_Regression():\n",
        "\n",
        "  #initiating the hyperparameters\n",
        "  def __init__(self, learning_rate, no_of_iterations, lambda_parameter):\n",
        "\n",
        "    self.learning_rate = learning_rate\n",
        "    self.no_of_iterations = no_of_iterations\n",
        "    self.lambda_parameter = lambda_parameter\n",
        "  # fitting the dataset to the Lasso Regression model\n",
        "  def fit(self, X, Y):\n",
        "\n",
        "    # m --> number of Data points --> number of rows\n",
        "    # n --> number of input features --> number of columns\n",
        "    self.m, self.n = X.shape\n",
        "\n",
        "    self.w = np.zeros(self.n)\n",
        "\n",
        "    self.b = 0\n",
        "\n",
        "    self.X = X\n",
        "\n",
        "    self.Y = Y\n",
        "\n",
        "    # implementing Gradient Descent algorithm for Optimization\n",
        "\n",
        "    for i in range(self.no_of_iterations):\n",
        "      self.upadte_weights()\n",
        "\n",
        "\n",
        "  # function for updating the weight & bias value\n",
        "  def upadte_weights(self):\n",
        "\n",
        "    # linear equation of the model\n",
        "    Y_prediction = self.predict(self.X)\n",
        "\n",
        "    # gradients (dw, db)\n",
        "\n",
        "    # gradient for weight\n",
        "    dw = np.zeros(self.n)\n",
        "\n",
        "    for i in range(self.n):\n",
        "\n",
        "      if self.w[i]>0:\n",
        "\n",
        "        dw[i] = (-(2*(self.X[:,i]).dot(self.Y - Y_prediction)) + self.lambda_parameter) / self.m\n",
        "\n",
        "      else :\n",
        "\n",
        "        dw[i] = (-(2*(self.X[:,i]).dot(self.Y - Y_prediction)) - self.lambda_parameter) / self.m\n",
        "\n",
        "\n",
        "    # gradient for bias\n",
        "    db = - 2 * np.sum(self.Y - Y_prediction) / self.m\n",
        "\n",
        "\n",
        "    # updating the weights & bias\n",
        "\n",
        "    self.w = self.w - self.learning_rate*dw\n",
        "    self.b = self.b - self.learning_rate*db\n",
        "\n",
        "\n",
        "\n",
        "\n",
        "  # Predicting the Target variable\n",
        "  def predict(self,X):\n",
        "\n",
        "    return X.dot(self.w) + self.b\n"
      ],
      "metadata": {
        "id": "D8F-00W7VvBG"
      },
      "execution_count": 49,
      "outputs": []
    },
    {
      "cell_type": "markdown",
      "source": [
        "##Implementing Lasso_Regression()"
      ],
      "metadata": {
        "id": "xdLhUPCbWHgO"
      }
    },
    {
      "cell_type": "code",
      "source": [
        "# importing the dependencies\n",
        "import numpy as np\n",
        "import pandas as pd\n",
        "from sklearn.model_selection import train_test_split\n",
        "import matplotlib.pyplot as plt\n",
        "from sklearn import metrics"
      ],
      "metadata": {
        "id": "JiIm7zqZV_OO"
      },
      "execution_count": 39,
      "outputs": []
    },
    {
      "cell_type": "markdown",
      "source": [
        "###Data preprocessing"
      ],
      "metadata": {
        "id": "xGhLYjUpWsVT"
      }
    },
    {
      "cell_type": "code",
      "source": [
        "salary_data= pd.read_csv('/content/drive/MyDrive/salary_data.csv')"
      ],
      "metadata": {
        "id": "NRZ2IDCrWTpM"
      },
      "execution_count": 40,
      "outputs": []
    },
    {
      "cell_type": "code",
      "source": [
        "salary_data.head()"
      ],
      "metadata": {
        "colab": {
          "base_uri": "https://localhost:8080/",
          "height": 206
        },
        "id": "b6po1zYrWouf",
        "outputId": "e460c2ae-3744-4ece-addd-612f1846fdba"
      },
      "execution_count": 41,
      "outputs": [
        {
          "output_type": "execute_result",
          "data": {
            "text/plain": [
              "   YearsExperience  Salary\n",
              "0              1.1   39343\n",
              "1              1.3   46205\n",
              "2              1.5   37731\n",
              "3              2.0   43525\n",
              "4              2.2   39891"
            ],
            "text/html": [
              "\n",
              "  <div id=\"df-fb44616a-dede-490b-a068-12e6132b8f21\" class=\"colab-df-container\">\n",
              "    <div>\n",
              "<style scoped>\n",
              "    .dataframe tbody tr th:only-of-type {\n",
              "        vertical-align: middle;\n",
              "    }\n",
              "\n",
              "    .dataframe tbody tr th {\n",
              "        vertical-align: top;\n",
              "    }\n",
              "\n",
              "    .dataframe thead th {\n",
              "        text-align: right;\n",
              "    }\n",
              "</style>\n",
              "<table border=\"1\" class=\"dataframe\">\n",
              "  <thead>\n",
              "    <tr style=\"text-align: right;\">\n",
              "      <th></th>\n",
              "      <th>YearsExperience</th>\n",
              "      <th>Salary</th>\n",
              "    </tr>\n",
              "  </thead>\n",
              "  <tbody>\n",
              "    <tr>\n",
              "      <th>0</th>\n",
              "      <td>1.1</td>\n",
              "      <td>39343</td>\n",
              "    </tr>\n",
              "    <tr>\n",
              "      <th>1</th>\n",
              "      <td>1.3</td>\n",
              "      <td>46205</td>\n",
              "    </tr>\n",
              "    <tr>\n",
              "      <th>2</th>\n",
              "      <td>1.5</td>\n",
              "      <td>37731</td>\n",
              "    </tr>\n",
              "    <tr>\n",
              "      <th>3</th>\n",
              "      <td>2.0</td>\n",
              "      <td>43525</td>\n",
              "    </tr>\n",
              "    <tr>\n",
              "      <th>4</th>\n",
              "      <td>2.2</td>\n",
              "      <td>39891</td>\n",
              "    </tr>\n",
              "  </tbody>\n",
              "</table>\n",
              "</div>\n",
              "    <div class=\"colab-df-buttons\">\n",
              "\n",
              "  <div class=\"colab-df-container\">\n",
              "    <button class=\"colab-df-convert\" onclick=\"convertToInteractive('df-fb44616a-dede-490b-a068-12e6132b8f21')\"\n",
              "            title=\"Convert this dataframe to an interactive table.\"\n",
              "            style=\"display:none;\">\n",
              "\n",
              "  <svg xmlns=\"http://www.w3.org/2000/svg\" height=\"24px\" viewBox=\"0 -960 960 960\">\n",
              "    <path d=\"M120-120v-720h720v720H120Zm60-500h600v-160H180v160Zm220 220h160v-160H400v160Zm0 220h160v-160H400v160ZM180-400h160v-160H180v160Zm440 0h160v-160H620v160ZM180-180h160v-160H180v160Zm440 0h160v-160H620v160Z\"/>\n",
              "  </svg>\n",
              "    </button>\n",
              "\n",
              "  <style>\n",
              "    .colab-df-container {\n",
              "      display:flex;\n",
              "      gap: 12px;\n",
              "    }\n",
              "\n",
              "    .colab-df-convert {\n",
              "      background-color: #E8F0FE;\n",
              "      border: none;\n",
              "      border-radius: 50%;\n",
              "      cursor: pointer;\n",
              "      display: none;\n",
              "      fill: #1967D2;\n",
              "      height: 32px;\n",
              "      padding: 0 0 0 0;\n",
              "      width: 32px;\n",
              "    }\n",
              "\n",
              "    .colab-df-convert:hover {\n",
              "      background-color: #E2EBFA;\n",
              "      box-shadow: 0px 1px 2px rgba(60, 64, 67, 0.3), 0px 1px 3px 1px rgba(60, 64, 67, 0.15);\n",
              "      fill: #174EA6;\n",
              "    }\n",
              "\n",
              "    .colab-df-buttons div {\n",
              "      margin-bottom: 4px;\n",
              "    }\n",
              "\n",
              "    [theme=dark] .colab-df-convert {\n",
              "      background-color: #3B4455;\n",
              "      fill: #D2E3FC;\n",
              "    }\n",
              "\n",
              "    [theme=dark] .colab-df-convert:hover {\n",
              "      background-color: #434B5C;\n",
              "      box-shadow: 0px 1px 3px 1px rgba(0, 0, 0, 0.15);\n",
              "      filter: drop-shadow(0px 1px 2px rgba(0, 0, 0, 0.3));\n",
              "      fill: #FFFFFF;\n",
              "    }\n",
              "  </style>\n",
              "\n",
              "    <script>\n",
              "      const buttonEl =\n",
              "        document.querySelector('#df-fb44616a-dede-490b-a068-12e6132b8f21 button.colab-df-convert');\n",
              "      buttonEl.style.display =\n",
              "        google.colab.kernel.accessAllowed ? 'block' : 'none';\n",
              "\n",
              "      async function convertToInteractive(key) {\n",
              "        const element = document.querySelector('#df-fb44616a-dede-490b-a068-12e6132b8f21');\n",
              "        const dataTable =\n",
              "          await google.colab.kernel.invokeFunction('convertToInteractive',\n",
              "                                                    [key], {});\n",
              "        if (!dataTable) return;\n",
              "\n",
              "        const docLinkHtml = 'Like what you see? Visit the ' +\n",
              "          '<a target=\"_blank\" href=https://colab.research.google.com/notebooks/data_table.ipynb>data table notebook</a>'\n",
              "          + ' to learn more about interactive tables.';\n",
              "        element.innerHTML = '';\n",
              "        dataTable['output_type'] = 'display_data';\n",
              "        await google.colab.output.renderOutput(dataTable, element);\n",
              "        const docLink = document.createElement('div');\n",
              "        docLink.innerHTML = docLinkHtml;\n",
              "        element.appendChild(docLink);\n",
              "      }\n",
              "    </script>\n",
              "  </div>\n",
              "\n",
              "\n",
              "<div id=\"df-9595149f-a1d6-4325-bb76-fcfbcf7973b2\">\n",
              "  <button class=\"colab-df-quickchart\" onclick=\"quickchart('df-9595149f-a1d6-4325-bb76-fcfbcf7973b2')\"\n",
              "            title=\"Suggest charts\"\n",
              "            style=\"display:none;\">\n",
              "\n",
              "<svg xmlns=\"http://www.w3.org/2000/svg\" height=\"24px\"viewBox=\"0 0 24 24\"\n",
              "     width=\"24px\">\n",
              "    <g>\n",
              "        <path d=\"M19 3H5c-1.1 0-2 .9-2 2v14c0 1.1.9 2 2 2h14c1.1 0 2-.9 2-2V5c0-1.1-.9-2-2-2zM9 17H7v-7h2v7zm4 0h-2V7h2v10zm4 0h-2v-4h2v4z\"/>\n",
              "    </g>\n",
              "</svg>\n",
              "  </button>\n",
              "\n",
              "<style>\n",
              "  .colab-df-quickchart {\n",
              "      --bg-color: #E8F0FE;\n",
              "      --fill-color: #1967D2;\n",
              "      --hover-bg-color: #E2EBFA;\n",
              "      --hover-fill-color: #174EA6;\n",
              "      --disabled-fill-color: #AAA;\n",
              "      --disabled-bg-color: #DDD;\n",
              "  }\n",
              "\n",
              "  [theme=dark] .colab-df-quickchart {\n",
              "      --bg-color: #3B4455;\n",
              "      --fill-color: #D2E3FC;\n",
              "      --hover-bg-color: #434B5C;\n",
              "      --hover-fill-color: #FFFFFF;\n",
              "      --disabled-bg-color: #3B4455;\n",
              "      --disabled-fill-color: #666;\n",
              "  }\n",
              "\n",
              "  .colab-df-quickchart {\n",
              "    background-color: var(--bg-color);\n",
              "    border: none;\n",
              "    border-radius: 50%;\n",
              "    cursor: pointer;\n",
              "    display: none;\n",
              "    fill: var(--fill-color);\n",
              "    height: 32px;\n",
              "    padding: 0;\n",
              "    width: 32px;\n",
              "  }\n",
              "\n",
              "  .colab-df-quickchart:hover {\n",
              "    background-color: var(--hover-bg-color);\n",
              "    box-shadow: 0 1px 2px rgba(60, 64, 67, 0.3), 0 1px 3px 1px rgba(60, 64, 67, 0.15);\n",
              "    fill: var(--button-hover-fill-color);\n",
              "  }\n",
              "\n",
              "  .colab-df-quickchart-complete:disabled,\n",
              "  .colab-df-quickchart-complete:disabled:hover {\n",
              "    background-color: var(--disabled-bg-color);\n",
              "    fill: var(--disabled-fill-color);\n",
              "    box-shadow: none;\n",
              "  }\n",
              "\n",
              "  .colab-df-spinner {\n",
              "    border: 2px solid var(--fill-color);\n",
              "    border-color: transparent;\n",
              "    border-bottom-color: var(--fill-color);\n",
              "    animation:\n",
              "      spin 1s steps(1) infinite;\n",
              "  }\n",
              "\n",
              "  @keyframes spin {\n",
              "    0% {\n",
              "      border-color: transparent;\n",
              "      border-bottom-color: var(--fill-color);\n",
              "      border-left-color: var(--fill-color);\n",
              "    }\n",
              "    20% {\n",
              "      border-color: transparent;\n",
              "      border-left-color: var(--fill-color);\n",
              "      border-top-color: var(--fill-color);\n",
              "    }\n",
              "    30% {\n",
              "      border-color: transparent;\n",
              "      border-left-color: var(--fill-color);\n",
              "      border-top-color: var(--fill-color);\n",
              "      border-right-color: var(--fill-color);\n",
              "    }\n",
              "    40% {\n",
              "      border-color: transparent;\n",
              "      border-right-color: var(--fill-color);\n",
              "      border-top-color: var(--fill-color);\n",
              "    }\n",
              "    60% {\n",
              "      border-color: transparent;\n",
              "      border-right-color: var(--fill-color);\n",
              "    }\n",
              "    80% {\n",
              "      border-color: transparent;\n",
              "      border-right-color: var(--fill-color);\n",
              "      border-bottom-color: var(--fill-color);\n",
              "    }\n",
              "    90% {\n",
              "      border-color: transparent;\n",
              "      border-bottom-color: var(--fill-color);\n",
              "    }\n",
              "  }\n",
              "</style>\n",
              "\n",
              "  <script>\n",
              "    async function quickchart(key) {\n",
              "      const quickchartButtonEl =\n",
              "        document.querySelector('#' + key + ' button');\n",
              "      quickchartButtonEl.disabled = true;  // To prevent multiple clicks.\n",
              "      quickchartButtonEl.classList.add('colab-df-spinner');\n",
              "      try {\n",
              "        const charts = await google.colab.kernel.invokeFunction(\n",
              "            'suggestCharts', [key], {});\n",
              "      } catch (error) {\n",
              "        console.error('Error during call to suggestCharts:', error);\n",
              "      }\n",
              "      quickchartButtonEl.classList.remove('colab-df-spinner');\n",
              "      quickchartButtonEl.classList.add('colab-df-quickchart-complete');\n",
              "    }\n",
              "    (() => {\n",
              "      let quickchartButtonEl =\n",
              "        document.querySelector('#df-9595149f-a1d6-4325-bb76-fcfbcf7973b2 button');\n",
              "      quickchartButtonEl.style.display =\n",
              "        google.colab.kernel.accessAllowed ? 'block' : 'none';\n",
              "    })();\n",
              "  </script>\n",
              "</div>\n",
              "\n",
              "    </div>\n",
              "  </div>\n"
            ],
            "application/vnd.google.colaboratory.intrinsic+json": {
              "type": "dataframe",
              "variable_name": "salary_data",
              "summary": "{\n  \"name\": \"salary_data\",\n  \"rows\": 30,\n  \"fields\": [\n    {\n      \"column\": \"YearsExperience\",\n      \"properties\": {\n        \"dtype\": \"number\",\n        \"std\": 2.8378881576627184,\n        \"min\": 1.1,\n        \"max\": 10.5,\n        \"num_unique_values\": 28,\n        \"samples\": [\n          3.9,\n          9.6,\n          3.7\n        ],\n        \"semantic_type\": \"\",\n        \"description\": \"\"\n      }\n    },\n    {\n      \"column\": \"Salary\",\n      \"properties\": {\n        \"dtype\": \"number\",\n        \"std\": 27414,\n        \"min\": 37731,\n        \"max\": 122391,\n        \"num_unique_values\": 30,\n        \"samples\": [\n          112635,\n          67938,\n          113812\n        ],\n        \"semantic_type\": \"\",\n        \"description\": \"\"\n      }\n    }\n  ]\n}"
            }
          },
          "metadata": {},
          "execution_count": 41
        }
      ]
    },
    {
      "cell_type": "code",
      "source": [
        "salary_data.shape"
      ],
      "metadata": {
        "colab": {
          "base_uri": "https://localhost:8080/"
        },
        "id": "rUhKfkx9WxHK",
        "outputId": "cab61fab-b010-4425-83a7-7edebd11cfc6"
      },
      "execution_count": 42,
      "outputs": [
        {
          "output_type": "execute_result",
          "data": {
            "text/plain": [
              "(30, 2)"
            ]
          },
          "metadata": {},
          "execution_count": 42
        }
      ]
    },
    {
      "cell_type": "code",
      "source": [
        "salary_data.isnull().sum()"
      ],
      "metadata": {
        "colab": {
          "base_uri": "https://localhost:8080/"
        },
        "id": "4D7YpkIeW1ey",
        "outputId": "907163f7-7726-4d0c-da32-486cd334db13"
      },
      "execution_count": 43,
      "outputs": [
        {
          "output_type": "execute_result",
          "data": {
            "text/plain": [
              "YearsExperience    0\n",
              "Salary             0\n",
              "dtype: int64"
            ]
          },
          "metadata": {},
          "execution_count": 43
        }
      ]
    },
    {
      "cell_type": "code",
      "source": [
        "features = salary_data.iloc[:,:-1].values\n",
        "target = salary_data.iloc[:,1].values"
      ],
      "metadata": {
        "id": "LdFKgherW3oX"
      },
      "execution_count": 44,
      "outputs": []
    },
    {
      "cell_type": "code",
      "source": [
        "print(features)\n",
        "print(target)"
      ],
      "metadata": {
        "colab": {
          "base_uri": "https://localhost:8080/"
        },
        "id": "5bJGOxfXXAkj",
        "outputId": "897773d7-d6f0-464b-b5fe-339c1089f3c3"
      },
      "execution_count": 45,
      "outputs": [
        {
          "output_type": "stream",
          "name": "stdout",
          "text": [
            "[[ 1.1]\n",
            " [ 1.3]\n",
            " [ 1.5]\n",
            " [ 2. ]\n",
            " [ 2.2]\n",
            " [ 2.9]\n",
            " [ 3. ]\n",
            " [ 3.2]\n",
            " [ 3.2]\n",
            " [ 3.7]\n",
            " [ 3.9]\n",
            " [ 4. ]\n",
            " [ 4. ]\n",
            " [ 4.1]\n",
            " [ 4.5]\n",
            " [ 4.9]\n",
            " [ 5.1]\n",
            " [ 5.3]\n",
            " [ 5.9]\n",
            " [ 6. ]\n",
            " [ 6.8]\n",
            " [ 7.1]\n",
            " [ 7.9]\n",
            " [ 8.2]\n",
            " [ 8.7]\n",
            " [ 9. ]\n",
            " [ 9.5]\n",
            " [ 9.6]\n",
            " [10.3]\n",
            " [10.5]]\n",
            "[ 39343  46205  37731  43525  39891  56642  60150  54445  64445  57189\n",
            "  63218  55794  56957  57081  61111  67938  66029  83088  81363  93940\n",
            "  91738  98273 101302 113812 109431 105582 116969 112635 122391 121872]\n"
          ]
        }
      ]
    },
    {
      "cell_type": "markdown",
      "source": [
        "###Splitting"
      ],
      "metadata": {
        "id": "msqxxDA7XHiI"
      }
    },
    {
      "cell_type": "code",
      "source": [
        "X_train, X_test, Y_train, Y_test = train_test_split(features, target,test_size=0.33,random_state = 2)"
      ],
      "metadata": {
        "id": "Uo-q_TE7XFrM"
      },
      "execution_count": 46,
      "outputs": []
    },
    {
      "cell_type": "markdown",
      "source": [
        "###Training the model"
      ],
      "metadata": {
        "id": "RIvWGiK2XZX7"
      }
    },
    {
      "cell_type": "code",
      "source": [
        "model = Lasso_Regression(learning_rate = 0.02, no_of_iterations=1000,lambda_parameter=200)"
      ],
      "metadata": {
        "id": "8ylIlTbOXR--"
      },
      "execution_count": 50,
      "outputs": []
    },
    {
      "cell_type": "code",
      "source": [
        "model.fit(X_train , Y_train)"
      ],
      "metadata": {
        "id": "oIcnAVnLXjzJ"
      },
      "execution_count": 51,
      "outputs": []
    },
    {
      "cell_type": "code",
      "source": [
        "test_data_prediction = model.predict(X_test)"
      ],
      "metadata": {
        "id": "EH0BNyiiXnnN"
      },
      "execution_count": 52,
      "outputs": []
    },
    {
      "cell_type": "code",
      "source": [
        "print(test_data_prediction)"
      ],
      "metadata": {
        "colab": {
          "base_uri": "https://localhost:8080/"
        },
        "id": "P7hUgzaNYMJL",
        "outputId": "c9dff974-b709-4993-df19-714c5d147714"
      },
      "execution_count": 53,
      "outputs": [
        {
          "output_type": "stream",
          "name": "stdout",
          "text": [
            "[ 36068.90441536  34166.14804787  66513.00629512  58901.98082518\n",
            "  91248.83907243  80783.67905126 101713.9990936   52242.33353898\n",
            "  42728.55170156  88394.7045212 ]\n"
          ]
        }
      ]
    },
    {
      "cell_type": "markdown",
      "source": [
        "###Evaluating"
      ],
      "metadata": {
        "id": "vm8eu4PDYWYP"
      }
    },
    {
      "cell_type": "code",
      "source": [
        "from sklearn import metrics\n",
        "\n",
        "# R squared error\n",
        "score_1 = metrics.r2_score(Y_test, test_data_prediction)\n",
        "\n",
        "# Mean Absolute Error\n",
        "score_2 = metrics.mean_absolute_error(Y_test, test_data_prediction)\n",
        "\n",
        "print(\"R squared error : \", score_1)\n",
        "print('Mean Absolute Error : ', score_2)"
      ],
      "metadata": {
        "colab": {
          "base_uri": "https://localhost:8080/"
        },
        "id": "upOge28WYNmQ",
        "outputId": "ef5a1f0e-0e00-433e-d206-ab38a5695f42"
      },
      "execution_count": 55,
      "outputs": [
        {
          "output_type": "stream",
          "name": "stdout",
          "text": [
            "R squared error :  0.9041366551714738\n",
            "Mean Absolute Error :  6675.382767802961\n"
          ]
        }
      ]
    },
    {
      "cell_type": "markdown",
      "source": [
        "Comparing the error with SKLearn Lasso Regression"
      ],
      "metadata": {
        "id": "FJ4gIYRFYlWI"
      }
    },
    {
      "cell_type": "code",
      "source": [
        "from sklearn.linear_model import Lasso\n",
        "sk_model = Lasso()"
      ],
      "metadata": {
        "id": "h5CCJczIYgaI"
      },
      "execution_count": 56,
      "outputs": []
    },
    {
      "cell_type": "code",
      "source": [
        "sk_model.fit(X_train, Y_train)"
      ],
      "metadata": {
        "colab": {
          "base_uri": "https://localhost:8080/",
          "height": 75
        },
        "id": "Ko9b1M4UYoWz",
        "outputId": "909e9a5d-d533-4fb7-fc44-128cf326ba33"
      },
      "execution_count": 57,
      "outputs": [
        {
          "output_type": "execute_result",
          "data": {
            "text/plain": [
              "Lasso()"
            ],
            "text/html": [
              "<style>#sk-container-id-2 {color: black;background-color: white;}#sk-container-id-2 pre{padding: 0;}#sk-container-id-2 div.sk-toggleable {background-color: white;}#sk-container-id-2 label.sk-toggleable__label {cursor: pointer;display: block;width: 100%;margin-bottom: 0;padding: 0.3em;box-sizing: border-box;text-align: center;}#sk-container-id-2 label.sk-toggleable__label-arrow:before {content: \"▸\";float: left;margin-right: 0.25em;color: #696969;}#sk-container-id-2 label.sk-toggleable__label-arrow:hover:before {color: black;}#sk-container-id-2 div.sk-estimator:hover label.sk-toggleable__label-arrow:before {color: black;}#sk-container-id-2 div.sk-toggleable__content {max-height: 0;max-width: 0;overflow: hidden;text-align: left;background-color: #f0f8ff;}#sk-container-id-2 div.sk-toggleable__content pre {margin: 0.2em;color: black;border-radius: 0.25em;background-color: #f0f8ff;}#sk-container-id-2 input.sk-toggleable__control:checked~div.sk-toggleable__content {max-height: 200px;max-width: 100%;overflow: auto;}#sk-container-id-2 input.sk-toggleable__control:checked~label.sk-toggleable__label-arrow:before {content: \"▾\";}#sk-container-id-2 div.sk-estimator input.sk-toggleable__control:checked~label.sk-toggleable__label {background-color: #d4ebff;}#sk-container-id-2 div.sk-label input.sk-toggleable__control:checked~label.sk-toggleable__label {background-color: #d4ebff;}#sk-container-id-2 input.sk-hidden--visually {border: 0;clip: rect(1px 1px 1px 1px);clip: rect(1px, 1px, 1px, 1px);height: 1px;margin: -1px;overflow: hidden;padding: 0;position: absolute;width: 1px;}#sk-container-id-2 div.sk-estimator {font-family: monospace;background-color: #f0f8ff;border: 1px dotted black;border-radius: 0.25em;box-sizing: border-box;margin-bottom: 0.5em;}#sk-container-id-2 div.sk-estimator:hover {background-color: #d4ebff;}#sk-container-id-2 div.sk-parallel-item::after {content: \"\";width: 100%;border-bottom: 1px solid gray;flex-grow: 1;}#sk-container-id-2 div.sk-label:hover label.sk-toggleable__label {background-color: #d4ebff;}#sk-container-id-2 div.sk-serial::before {content: \"\";position: absolute;border-left: 1px solid gray;box-sizing: border-box;top: 0;bottom: 0;left: 50%;z-index: 0;}#sk-container-id-2 div.sk-serial {display: flex;flex-direction: column;align-items: center;background-color: white;padding-right: 0.2em;padding-left: 0.2em;position: relative;}#sk-container-id-2 div.sk-item {position: relative;z-index: 1;}#sk-container-id-2 div.sk-parallel {display: flex;align-items: stretch;justify-content: center;background-color: white;position: relative;}#sk-container-id-2 div.sk-item::before, #sk-container-id-2 div.sk-parallel-item::before {content: \"\";position: absolute;border-left: 1px solid gray;box-sizing: border-box;top: 0;bottom: 0;left: 50%;z-index: -1;}#sk-container-id-2 div.sk-parallel-item {display: flex;flex-direction: column;z-index: 1;position: relative;background-color: white;}#sk-container-id-2 div.sk-parallel-item:first-child::after {align-self: flex-end;width: 50%;}#sk-container-id-2 div.sk-parallel-item:last-child::after {align-self: flex-start;width: 50%;}#sk-container-id-2 div.sk-parallel-item:only-child::after {width: 0;}#sk-container-id-2 div.sk-dashed-wrapped {border: 1px dashed gray;margin: 0 0.4em 0.5em 0.4em;box-sizing: border-box;padding-bottom: 0.4em;background-color: white;}#sk-container-id-2 div.sk-label label {font-family: monospace;font-weight: bold;display: inline-block;line-height: 1.2em;}#sk-container-id-2 div.sk-label-container {text-align: center;}#sk-container-id-2 div.sk-container {/* jupyter's `normalize.less` sets `[hidden] { display: none; }` but bootstrap.min.css set `[hidden] { display: none !important; }` so we also need the `!important` here to be able to override the default hidden behavior on the sphinx rendered scikit-learn.org. See: https://github.com/scikit-learn/scikit-learn/issues/21755 */display: inline-block !important;position: relative;}#sk-container-id-2 div.sk-text-repr-fallback {display: none;}</style><div id=\"sk-container-id-2\" class=\"sk-top-container\"><div class=\"sk-text-repr-fallback\"><pre>Lasso()</pre><b>In a Jupyter environment, please rerun this cell to show the HTML representation or trust the notebook. <br />On GitHub, the HTML representation is unable to render, please try loading this page with nbviewer.org.</b></div><div class=\"sk-container\" hidden><div class=\"sk-item\"><div class=\"sk-estimator sk-toggleable\"><input class=\"sk-toggleable__control sk-hidden--visually\" id=\"sk-estimator-id-2\" type=\"checkbox\" checked><label for=\"sk-estimator-id-2\" class=\"sk-toggleable__label sk-toggleable__label-arrow\">Lasso</label><div class=\"sk-toggleable__content\"><pre>Lasso()</pre></div></div></div></div></div>"
            ]
          },
          "metadata": {},
          "execution_count": 57
        }
      ]
    },
    {
      "cell_type": "code",
      "source": [
        "sk_test_data_prediction = sk_model.predict(X_test)"
      ],
      "metadata": {
        "id": "vqpZ_21OYsKe"
      },
      "execution_count": 58,
      "outputs": []
    },
    {
      "cell_type": "code",
      "source": [
        "# R squared error\n",
        "score_1_ = metrics.r2_score(Y_test, sk_test_data_prediction)\n",
        "\n",
        "# Mean Absolute Error\n",
        "score_2_ = metrics.mean_absolute_error(Y_test, sk_test_data_prediction)\n",
        "\n",
        "print(\"R squared error : \", score_1_)\n",
        "print('Mean Absolute Error : ', score_2_)"
      ],
      "metadata": {
        "colab": {
          "base_uri": "https://localhost:8080/"
        },
        "id": "S9EGLySoYu_6",
        "outputId": "ef3ea1e7-b549-4a84-97c5-729076e19257"
      },
      "execution_count": 59,
      "outputs": [
        {
          "output_type": "stream",
          "name": "stdout",
          "text": [
            "R squared error :  0.9041817142395875\n",
            "Mean Absolute Error :  6673.480440148538\n"
          ]
        }
      ]
    }
  ]
}